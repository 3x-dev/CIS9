{
 "cells": [
  {
   "cell_type": "code",
   "execution_count": 9,
   "metadata": {},
   "outputs": [
    {
     "name": "stdout",
     "output_type": "stream",
     "text": [
      "[6080, 14592, 31652, 14376, 26997, 3204, 6066, 11773, 11687, 5951, 20694, 24881, 5702, 13822, 23575, 13588, 8607, 12326, 3031, 5898, 7393, 1852, 14640, 6839, 12774, 8790, 15938, 18880, 13500, 20015, 40086, 24366, 9853, 1874, 9107, 16768, 25507, 23015, 6800, 17569, 13047, 17197, 13251, 9108, 15817, 19340, 9289, 11671, 20975, 7870, 15018, 18251, 3083, 10942, 9098, 2568, 25857, 9615, 6571, 4428, 13064, 7281, 15804, 8560, 19029, 8630, 14498, 10720, 40037, 17413, 5937, 11831, 15599, 9075, 20530, 7614, 4716, 26049, 29966, 4569, 5381, 11682, 21306, 21951, 21238, 27785, 15066, 21320, 14130, 20780, 14195, 25196, 18871, 9291, 8405, 37281, 14874, 31473, 26542, 17754, 13471, 9956, 19151, 3371, 9052, 9541, 21043, 5144, 12988, 13523, 4327, 4732, 13941, 9849, 3865, 6233]\n"
     ]
    }
   ],
   "source": [
    "import pandas as pd\n",
    "import numpy as np\n",
    "\n",
    "# Load the CSV files\n",
    "semester_data = pd.read_csv('semesters.csv', header=None)\n",
    "student_data = pd.read_csv('students.csv', header=None)\n",
    "\n",
    "\n",
    "\n",
    "\n",
    "\n",
    "# Assuming semesters.csv contains one row with all semester names\n",
    "semester_names = semester_data.values\n",
    "\n",
    "\n",
    "\n",
    "\n",
    "# Assuming students.csv contains multiple rows of enrollment numbers corresponding to each semester\n",
    "enrollment_numbers = student_data.values\n",
    "\n",
    "\n",
    "\n",
    "\n",
    "# Variable containing the user's choice of a valid semester name\n",
    "choice = 'Fall 2019'\n",
    "\n",
    "\n",
    "index = np.where(semester_names == choice)\n",
    "if index[0].size > 0:\n",
    "    print(list(enrollment_numbers[:, index[0][0]]))\n",
    "else:\n",
    "    print(f\"No data available for {choice}\")"
   ]
  },
  {
   "cell_type": "code",
   "execution_count": 5,
   "metadata": {},
   "outputs": [
    {
     "name": "stdout",
     "output_type": "stream",
     "text": [
      "Average number of students per semester at De Anza College: 14818.538461538461\n"
     ]
    }
   ],
   "source": [
    "import pandas as pd\n",
    "import numpy as np\n",
    "\n",
    "colleges = pd.read_csv('colleges.csv', header=None)\n",
    "\n",
    "deanza_index = np.where(colleges[0] == 'Deanza')[0][0]  # Adjust this if De Anza College is named differently\n",
    "\n",
    "students = pd.read_csv('students.csv', header=None)\n",
    "\n",
    "deanza_enrollments = students.iloc[deanza_index].values\n",
    "\n",
    "DA = np.mean(deanza_enrollments)\n",
    "print(\"Average number of students per semester at De Anza College:\", DA)\n"
   ]
  },
  {
   "cell_type": "code",
   "execution_count": 6,
   "metadata": {},
   "outputs": [
    {
     "name": "stdout",
     "output_type": "stream",
     "text": [
      "Is De Anza's average in the top 25% of all colleges? Yes\n"
     ]
    }
   ],
   "source": [
    "# Calculate the average enrollments for all colleges\n",
    "all_averages = students.mean(axis=1)  # Calculate mean across columns for each row\n",
    "\n",
    "# Append De Anza's average to this array for percentile calculation\n",
    "all_averages = np.append(all_averages, DA)\n",
    "\n",
    "# Calculate the 75th percentile\n",
    "percentile_75 = np.percentile(all_averages, 75)\n",
    "\n",
    "# Check if DA is in the top 25%\n",
    "is_top_25 = DA >= percentile_75\n",
    "print(f\"Is De Anza's average in the top 25% of all colleges? {'Yes' if is_top_25 else 'No'}\")\n"
   ]
  },
  {
   "cell_type": "code",
   "execution_count": null,
   "metadata": {},
   "outputs": [],
   "source": []
  }
 ],
 "metadata": {
  "kernelspec": {
   "display_name": "asdrp",
   "language": "python",
   "name": "python3"
  },
  "language_info": {
   "codemirror_mode": {
    "name": "ipython",
    "version": 3
   },
   "file_extension": ".py",
   "mimetype": "text/x-python",
   "name": "python",
   "nbconvert_exporter": "python",
   "pygments_lexer": "ipython3",
   "version": "3.9.16"
  }
 },
 "nbformat": 4,
 "nbformat_minor": 2
}
