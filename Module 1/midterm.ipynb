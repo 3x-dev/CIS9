{
 "cells": [
  {
   "cell_type": "code",
   "execution_count": 8,
   "metadata": {},
   "outputs": [
    {
     "name": "stdout",
     "output_type": "stream",
     "text": [
      "[5983, 11277, 25931, 12322, 25697, 2501, 6523, 9747, 10347, 5394, 22099, 22024, 5235, 12204, 20704, 12193, 9025, 9765, 2239, 4670, 6507, 1778, 14913, 6022, 10874, 8803, 15541, 18872, 11589, 19059, 32928, 20569, 8837, 1921, 9744, 16259, 22754, 21785, 5198, 15266, 11909, 15615, 8898, 7627, 14366, 16160, 8447, 9773, 19097, 5999, 12173, 16591, 2446, 9639, 8312, 1846, 24367, 8711, 5292, 3616, 11474, 6535, 14553, 6788, 16885, 7681, 14582, 9249, 34757, 15282, 5155, 10357, 12859, 9339, 18596, 7195, 3926, 22219, 26336, 4098, 4181, 6989, 16292, 20606, 20794, 24923, 12308, 10998, 14963, 20808, 13471, 26936, 18488, 8788, 7669, 29077, 13664, 29322, 21827, 16115, 13067, 8328, 17996, 1555, 8932, 9461, 18340, 3546, 12110, 11005, 4318, 4074, 11769, 8207, 4059, 5615]\n"
     ]
    }
   ],
   "source": [
    "import pandas as pd\n",
    "import numpy as np\n",
    "\n",
    "# Load the CSV files\n",
    "semester_data = pd.read_csv('semesters.csv', header=None)\n",
    "student_data = pd.read_csv('students.csv', header=None)\n",
    "semester_data = pd.read_csv('semesters.csv', header=None)\n",
    "student_data = pd.read_csv('students.csv', header=None)\n",
    "\n",
    "\n",
    "\n",
    "\n",
    "# Assuming semesters.csv contains one row with all semester names\n",
    "semester_names = semester_data.values\n",
    "\n",
    "\n",
    "\n",
    "\n",
    "# Assuming students.csv contains multiple rows of enrollment numbers corresponding to each semester\n",
    "enrollment_numbers = student_data.values\n",
    "\n",
    "\n",
    "\n",
    "\n",
    "# Variable containing the user's choice of a valid semester name\n",
    "choice = 'Fall 2019'\n",
    "\n",
    "\n",
    "index = np.where(semester_names == choice)\n",
    "if index[0].size > 0:\n",
    "    print(list(enrollment_numbers[:, index[0][0]]))\n",
    "else:\n",
    "    print(f\"No data available for {choice}\")"
   ]
  },
  {
   "cell_type": "code",
   "execution_count": 5,
   "metadata": {},
   "outputs": [
    {
     "name": "stdout",
     "output_type": "stream",
     "text": [
      "Average number of students per semester at De Anza College: 14818.538461538461\n"
     ]
    }
   ],
   "source": [
    "import pandas as pd\n",
    "import numpy as np\n",
    "\n",
    "colleges = pd.read_csv('colleges.csv', header=None)\n",
    "\n",
    "deanza_index = np.where(colleges[0] == 'Deanza')[0][0]  # Adjust this if De Anza College is named differently\n",
    "\n",
    "students = pd.read_csv('students.csv', header=None)\n",
    "\n",
    "deanza_enrollments = students.iloc[deanza_index].values\n",
    "\n",
    "DA = np.mean(deanza_enrollments)\n",
    "print(\"Average number of students per semester at De Anza College:\", DA)\n"
   ]
  },
  {
   "cell_type": "code",
   "execution_count": 6,
   "metadata": {},
   "outputs": [
    {
     "name": "stdout",
     "output_type": "stream",
     "text": [
      "Is De Anza's average in the top 25% of all colleges? Yes\n"
     ]
    }
   ],
   "source": [
    "# Calculate the average enrollments for all colleges\n",
    "all_averages = students.mean(axis=1)  # Calculate mean across columns for each row\n",
    "\n",
    "# Append De Anza's average to this array for percentile calculation\n",
    "all_averages = np.append(all_averages, DA)\n",
    "\n",
    "# Calculate the 75th percentile\n",
    "percentile_75 = np.percentile(all_averages, 75)\n",
    "\n",
    "# Check if DA is in the top 25%\n",
    "is_top_25 = DA >= percentile_75\n",
    "print(f\"Is De Anza's average in the top 25% of all colleges? {'Yes' if is_top_25 else 'No'}\")\n"
   ]
  },
  {
   "cell_type": "code",
   "execution_count": null,
   "metadata": {},
   "outputs": [],
   "source": []
  }
 ],
 "metadata": {
  "kernelspec": {
   "display_name": "asdrp",
   "language": "python",
   "name": "python3"
  },
  "language_info": {
   "codemirror_mode": {
    "name": "ipython",
    "version": 3
   },
   "file_extension": ".py",
   "mimetype": "text/x-python",
   "name": "python",
   "nbconvert_exporter": "python",
   "pygments_lexer": "ipython3",
   "version": "3.9.16"
  }
 },
 "nbformat": 4,
 "nbformat_minor": 2
}
