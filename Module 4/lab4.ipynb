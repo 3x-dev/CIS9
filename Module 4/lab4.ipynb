{
 "cells": [
  {
   "cell_type": "markdown",
   "metadata": {},
   "source": [
    "### CIS 9 - Lab 4: NLP"
   ]
  },
  {
   "cell_type": "code",
   "execution_count": 225,
   "metadata": {},
   "outputs": [],
   "source": [
    "# Name: Aryan Singhal"
   ]
  },
  {
   "cell_type": "markdown",
   "metadata": {},
   "source": [
    "Use NLTK to train a model that analyzes movie reviews to determine if a review says that a movie is good or bad.<br>\n",
    "The input file has reviews from the website Rotten Tomatoes and is named _rottentomatoes.csv_ ([source](https://www.kaggle.com/code/amilsilahic/rotten-tomatoes-sentiment/data?select=data_rt.csv)).<br>"
   ]
  },
  {
   "cell_type": "code",
   "execution_count": 11,
   "metadata": {},
   "outputs": [],
   "source": [
    "# import files\n",
    "import nltk\n",
    "from nltk.corpus import stopwords\n",
    "from nltk.stem import PorterStemmer\n",
    "from nltk.tokenize import word_tokenize\n",
    "import pandas as pd\n",
    "from collections import Counter\n",
    "import matplotlib.pyplot as plt"
   ]
  },
  {
   "cell_type": "markdown",
   "metadata": {},
   "source": [
    "1. __Read data from the file _rottentomatoes.csv_ into a DataFrame__.<br>\n",
    "Then __print the number of rows and columns of the DataFrame__,<br>\n",
    "and __print the DataFrame__.\n",
    "\n",
    "In the file, the label 1 means it's a good movie, and the label 0 means it's a bad movie."
   ]
  },
  {
   "cell_type": "code",
   "execution_count": 2,
   "metadata": {},
   "outputs": [
    {
     "name": "stdout",
     "output_type": "stream",
     "text": [
      "(10662, 2)\n"
     ]
    },
    {
     "data": {
      "text/html": [
       "<div>\n",
       "<style scoped>\n",
       "    .dataframe tbody tr th:only-of-type {\n",
       "        vertical-align: middle;\n",
       "    }\n",
       "\n",
       "    .dataframe tbody tr th {\n",
       "        vertical-align: top;\n",
       "    }\n",
       "\n",
       "    .dataframe thead th {\n",
       "        text-align: right;\n",
       "    }\n",
       "</style>\n",
       "<table border=\"1\" class=\"dataframe\">\n",
       "  <thead>\n",
       "    <tr style=\"text-align: right;\">\n",
       "      <th></th>\n",
       "      <th>reviews</th>\n",
       "      <th>labels</th>\n",
       "    </tr>\n",
       "  </thead>\n",
       "  <tbody>\n",
       "    <tr>\n",
       "      <th>0</th>\n",
       "      <td>simplistic , silly and tedious .</td>\n",
       "      <td>0</td>\n",
       "    </tr>\n",
       "    <tr>\n",
       "      <th>1</th>\n",
       "      <td>it's so laddish and juvenile , only teenage bo...</td>\n",
       "      <td>0</td>\n",
       "    </tr>\n",
       "    <tr>\n",
       "      <th>2</th>\n",
       "      <td>exploitative and largely devoid of the depth o...</td>\n",
       "      <td>0</td>\n",
       "    </tr>\n",
       "    <tr>\n",
       "      <th>3</th>\n",
       "      <td>[garbus] discards the potential for pathologic...</td>\n",
       "      <td>0</td>\n",
       "    </tr>\n",
       "    <tr>\n",
       "      <th>4</th>\n",
       "      <td>a visually flashy but narratively opaque and e...</td>\n",
       "      <td>0</td>\n",
       "    </tr>\n",
       "  </tbody>\n",
       "</table>\n",
       "</div>"
      ],
      "text/plain": [
       "                                             reviews  labels\n",
       "0                  simplistic , silly and tedious .        0\n",
       "1  it's so laddish and juvenile , only teenage bo...       0\n",
       "2  exploitative and largely devoid of the depth o...       0\n",
       "3  [garbus] discards the potential for pathologic...       0\n",
       "4  a visually flashy but narratively opaque and e...       0"
      ]
     },
     "execution_count": 2,
     "metadata": {},
     "output_type": "execute_result"
    }
   ],
   "source": [
    "df = pd.read_csv('rottentomatoes.csv')\n",
    "print(df.shape)\n",
    "df.head()\n"
   ]
  },
  {
   "cell_type": "markdown",
   "metadata": {},
   "source": [
    "2.  __Check to see if there are NaN__ and __drop the rows with NaN__ if needed."
   ]
  },
  {
   "cell_type": "code",
   "execution_count": 3,
   "metadata": {},
   "outputs": [
    {
     "name": "stdout",
     "output_type": "stream",
     "text": [
      "reviews    0\n",
      "labels     0\n",
      "dtype: int64\n",
      "(10662, 2)\n"
     ]
    }
   ],
   "source": [
    "print(df.isnull().sum())\n",
    "df.dropna(inplace=True)\n",
    "print(df.shape)"
   ]
  },
  {
   "cell_type": "markdown",
   "metadata": {},
   "source": [
    "3. __Check if the labels are balanced data__.<br>\n",
    "Then __create a Raw NBConvert cell to indicate whether the data is balanced__."
   ]
  },
  {
   "cell_type": "code",
   "execution_count": 5,
   "metadata": {},
   "outputs": [
    {
     "name": "stdout",
     "output_type": "stream",
     "text": [
      "labels\n",
      "0    5331\n",
      "1    5331\n",
      "Name: count, dtype: int64\n"
     ]
    }
   ],
   "source": [
    "label_counts = df['labels'].value_counts()\n",
    "print(label_counts)"
   ]
  },
  {
   "cell_type": "raw",
   "metadata": {
    "vscode": {
     "languageId": "raw"
    }
   },
   "source": [
    "The dataset is balanced because the number of good and bad reviews are exactly equal."
   ]
  },
  {
   "cell_type": "markdown",
   "metadata": {},
   "source": [
    "4. __Print the row index of good movies and the row index of bad movies__.<br>\n",
    "Then __create a Raw NBConvert cell to explain where the good movies and bad movies are in the DataFrame__.<br>\n",
    "Example of explanation: good movies are in row index 0 - 3000 and 5000-8000"
   ]
  },
  {
   "cell_type": "code",
   "execution_count": 6,
   "metadata": {},
   "outputs": [
    {
     "name": "stdout",
     "output_type": "stream",
     "text": [
      "Good Movies Indices:  Index([ 5331,  5332,  5333,  5334,  5335,  5336,  5337,  5338,  5339,  5340,\n",
      "       ...\n",
      "       10652, 10653, 10654, 10655, 10656, 10657, 10658, 10659, 10660, 10661],\n",
      "      dtype='int64', length=5331)\n",
      "Bad Movies Indices:  Index([   0,    1,    2,    3,    4,    5,    6,    7,    8,    9,\n",
      "       ...\n",
      "       5321, 5322, 5323, 5324, 5325, 5326, 5327, 5328, 5329, 5330],\n",
      "      dtype='int64', length=5331)\n"
     ]
    }
   ],
   "source": [
    "good_movies_indices = df[df['labels'] == 1].index\n",
    "bad_movies_indices = df[df['labels'] == 0].index\n",
    "\n",
    "print(\"Good Movies Indices: \", good_movies_indices)\n",
    "print(\"Bad Movies Indices: \", bad_movies_indices)"
   ]
  },
  {
   "cell_type": "raw",
   "metadata": {
    "vscode": {
     "languageId": "raw"
    }
   },
   "source": [
    "Good movies are in row index ranges 5331 - 10661\n",
    "Bad movies are in row index ranges 0 - 5330"
   ]
  },
  {
   "cell_type": "markdown",
   "metadata": {},
   "source": [
    "5. __Create the X and y datasets__.<br>\n",
    "Then __print the number of rows and columns of X and y__."
   ]
  },
  {
   "cell_type": "code",
   "execution_count": 8,
   "metadata": {},
   "outputs": [
    {
     "name": "stdout",
     "output_type": "stream",
     "text": [
      "(10662,)\n",
      "(10662,)\n"
     ]
    }
   ],
   "source": [
    "X = df['reviews']\n",
    "y = df['labels']\n",
    "print(X.shape)\n",
    "print(y.shape)"
   ]
  },
  {
   "cell_type": "markdown",
   "metadata": {},
   "source": [
    "6. __Preprocess the X dataset to remove stop words and stem the words__,<br>\n",
    "then __print the first 5 rows of the resulting processed X dataset__"
   ]
  },
  {
   "cell_type": "code",
   "execution_count": 10,
   "metadata": {},
   "outputs": [
    {
     "name": "stderr",
     "output_type": "stream",
     "text": [
      "[nltk_data] Downloading package punkt to /Users/aryan/nltk_data...\n",
      "[nltk_data]   Package punkt is already up-to-date!\n",
      "[nltk_data] Downloading package stopwords to /Users/aryan/nltk_data...\n",
      "[nltk_data]   Package stopwords is already up-to-date!\n"
     ]
    },
    {
     "name": "stdout",
     "output_type": "stream",
     "text": [
      "0                                simplist silli tediou\n",
      "1    laddish juvenil teenag boy could possibl find ...\n",
      "2    exploit larg devoid depth sophist would make w...\n",
      "3    garbu discard potenti patholog studi exhum ins...\n",
      "4    visual flashi narr opaqu emot vapid exercis st...\n",
      "Name: reviews, dtype: object\n"
     ]
    }
   ],
   "source": [
    "nltk.download('punkt')\n",
    "nltk.download('stopwords')\n",
    "\n",
    "stop_words = set(stopwords.words('english'))\n",
    "ps = PorterStemmer() # instantiate the stemmer\n",
    "\n",
    "def preprocess(text):\n",
    "    words = word_tokenize(text)\n",
    "    words = [ps.stem(word) for word in words if word.isalpha() and word not in stop_words]\n",
    "    return ' '.join(words)\n",
    "\n",
    "X_processed = X.apply(preprocess)\n",
    "\n",
    "print(X_processed.head())"
   ]
  },
  {
   "cell_type": "markdown",
   "metadata": {},
   "source": [
    "7a. Now that the stop words are removed, let's see what the top 10 words for the good and bad movies are.<br>\n",
    "__Show the top 10 most used words__ and __plot their frequencies__ in reviews for good movies.<br>\n",
    "Hint: the result of step 4 can help you select the reviews for good movies"
   ]
  },
  {
   "cell_type": "code",
   "execution_count": 13,
   "metadata": {},
   "outputs": [
    {
     "data": {
      "image/png": "[encoded data removed]",
      "text/plain": [
       "<Figure size 1000x500 with 1 Axes>"
      ]
     },
     "metadata": {},
     "output_type": "display_data"
    }
   ],
   "source": [
    "good_reviews = X_processed[df['labels'] == 1]\n",
    "all_words = ' '.join(good_reviews).split()\n",
    "word_freq = Counter(all_words)\n",
    "\n",
    "most_common_good = word_freq.most_common(10)\n",
    "words, counts = zip(*most_common_good)\n",
    "\n",
    "plt.figure(figsize=(10, 5))\n",
    "plt.bar(words, counts)\n",
    "plt.title('Top 10 Words in Good Movie Reviews')\n",
    "plt.xlabel('Words')\n",
    "plt.ylabel('Frequency')\n",
    "plt.show()"
   ]
  },
  {
   "cell_type": "markdown",
   "metadata": {},
   "source": [
    "7b. __Show the top 10 most used words__ and __plot their frequencies__ in reviews for bad movies.<br>\n",
    "Hint: the result of step 4 can help you select the reviews for bad movies"
   ]
  },
  {
   "cell_type": "code",
   "execution_count": 14,
   "metadata": {},
   "outputs": [
    {
     "data": {
      "image/png": "[encoded data removed]",
      "text/plain": [
       "<Figure size 1000x500 with 1 Axes>"
      ]
     },
     "metadata": {},
     "output_type": "display_data"
    }
   ],
   "source": [
    "bad_reviews = X_processed[df['labels'] == 0]\n",
    "all_words = ' '.join(bad_reviews).split()\n",
    "word_freq = Counter(all_words)\n",
    "\n",
    "most_common_bad = word_freq.most_common(10)\n",
    "words, counts = zip(*most_common_bad)\n",
    "\n",
    "plt.figure(figsize=(10, 5))\n",
    "plt.bar(words, counts)\n",
    "plt.title('Top 10 Words in Bad Movie Reviews')\n",
    "plt.xlabel('Words')\n",
    "plt.ylabel('Frequency')\n",
    "plt.show()"
   ]
  },
  {
   "cell_type": "markdown",
   "metadata": {},
   "source": [
    "7c. __Create a Raw NBConvert cell__ to explain whether the top 10 words in a review are a good indication of good vs bad movies."
   ]
  },
  {
   "cell_type": "raw",
   "metadata": {
    "vscode": {
     "languageId": "raw"
    }
   },
   "source": [
    "The top 10 words in a review can provide some indication of whether a movie is good or bad. \n",
    "Positive reviews could frequently use words such as \"great\", \"excellent\", \"amazing\", while negative reviews \n",
    "might use words like \"bad\" (this word shows up in the bad reviews), \"boring\", \"awful\". However, because of the\n",
    "way the reviews are processed, there are numerous overlaps in the top 10 words. The words aren't exclusive to the\n",
    "\"good\" or \"bad\" movies but rather just words that you'd expect to occur often in movie reviews. For example, the words\n",
    "\"movie\", \"film\", and \"character\" occur in both the good and bad movie reviews. Also, context and sentence structure are\n",
    "important, and we can't infer that from just the top 10 words."
   ]
  },
  {
   "cell_type": "markdown",
   "metadata": {},
   "source": [
    "8. __Convert the preprocessed X dataset to vectors of numbers__.<br>\n",
    "Then __print the shape of the X vectors__"
   ]
  },
  {
   "cell_type": "code",
   "execution_count": 15,
   "metadata": {},
   "outputs": [
    {
     "name": "stdout",
     "output_type": "stream",
     "text": [
      "(10662, 12104)\n"
     ]
    }
   ],
   "source": [
    "from sklearn.feature_extraction.text import CountVectorizer\n",
    "\n",
    "vectorizer = CountVectorizer()\n",
    "X_vectors = vectorizer.fit_transform(X_processed)\n",
    "\n",
    "# shape of the X vectors\n",
    "print(X_vectors.shape)"
   ]
  },
  {
   "cell_type": "markdown",
   "metadata": {},
   "source": [
    "9. __Divide the X vectors and y datasets into training and testing set__.<br>\n",
    "Then __print the shape of each set__."
   ]
  },
  {
   "cell_type": "code",
   "execution_count": 16,
   "metadata": {},
   "outputs": [
    {
     "name": "stdout",
     "output_type": "stream",
     "text": [
      "X_train shape:  (8529, 12104)\n",
      "X_test shape:  (2133, 12104)\n",
      "y_train shape:  (8529,)\n",
      "y_test shape:  (2133,)\n"
     ]
    }
   ],
   "source": [
    "from sklearn.model_selection import train_test_split\n",
    "\n",
    "X_train, X_test, y_train, y_test = train_test_split(X_vectors, y, test_size=0.2, random_state=42)\n",
    "\n",
    "# Shape of each set\n",
    "print(\"X_train shape: \", X_train.shape)\n",
    "print(\"X_test shape: \", X_test.shape)\n",
    "print(\"y_train shape: \", y_train.shape)\n",
    "print(\"y_test shape: \", y_test.shape)"
   ]
  },
  {
   "cell_type": "markdown",
   "metadata": {},
   "source": [
    "10. __Train the MultinomialNB model with the training data__<br>\n",
    "Then __test it with the testing data__ and __show the accuracy__ of the model.<br>\n",
    "\n",
    "_Don't forget that the accuracy is both the accuracy score and the confusion matrix_."
   ]
  },
  {
   "cell_type": "code",
   "execution_count": 17,
   "metadata": {},
   "outputs": [
    {
     "name": "stdout",
     "output_type": "stream",
     "text": [
      "Accuracy:  0.7543366150961087\n",
      "Confusion Matrix: \n",
      " [[805 257]\n",
      " [267 804]]\n"
     ]
    }
   ],
   "source": [
    "from sklearn.naive_bayes import MultinomialNB\n",
    "from sklearn.metrics import accuracy_score, confusion_matrix\n",
    "\n",
    "# Initialize model\n",
    "nb_model = MultinomialNB()\n",
    "\n",
    "# Train & test the model\n",
    "nb_model.fit(X_train, y_train)\n",
    "y_pred = nb_model.predict(X_test)\n",
    "\n",
    "# accuracy of the model\n",
    "accuracy = accuracy_score(y_test, y_pred)\n",
    "conf_matrix = confusion_matrix(y_test, y_pred)\n",
    "\n",
    "print(\"Accuracy: \", accuracy)\n",
    "print(\"Confusion Matrix: \\n\", conf_matrix)"
   ]
  },
  {
   "cell_type": "markdown",
   "metadata": {},
   "source": [
    "11a. In step 7 you removed the stop words and stem the words as part of preprocessing the X dataset.<br>\n",
    "\n",
    "In this step, create one or more Code cells to fine tune the preprocessing step by doing the following:\n",
    "- __Try a different tokenizer__ (but use only the ones we've discussed in class)<br>\n",
    "__Determine whether you should keep or remove the stop words__<br>\n",
    "__Determine whether you should stem the words or not__.\n",
    "- __Train and test the model until you find the processing step that gives the highest accuracy__.<br>\n",
    "You should be trying different combinations discussed in the bullet point above.\n",
    "\n",
    "Then __create a Raw NBConvert cell__, and for <u>each</u> preprocessing step that you tried above, show:\n",
    "- __what is in the preprocessing step__ (which tokenizer, stop words or not, stemming or not)\n",
    "- __the accuracy of the step__ (copy the accuracy output to the Raw NBConvert cell)"
   ]
  },
  {
   "cell_type": "code",
   "execution_count": 18,
   "metadata": {},
   "outputs": [],
   "source": [
    "from sklearn.feature_extraction.text import TfidfVectorizer\n",
    "\n",
    "# different combinations of tokenizers, stop word removal, and stemming\n",
    "def preprocess_text(text, remove_stopwords=True, apply_stemming=True, tokenizer='word'):\n",
    "    if tokenizer == 'word':\n",
    "        words = word_tokenize(text)\n",
    "    elif tokenizer == 'treebank':\n",
    "        words = nltk.TreebankWordTokenizer().tokenize(text)\n",
    "    \n",
    "    if remove_stopwords:\n",
    "        words = [word for word in words if word.isalpha() and word not in stop_words]\n",
    "    else:\n",
    "        words = [word for word in words if word.isalpha()]\n",
    "    \n",
    "    if apply_stemming:\n",
    "        words = [ps.stem(word) for word in words]\n",
    "    \n",
    "    return ' '.join(words)"
   ]
  },
  {
   "cell_type": "code",
   "execution_count": 19,
   "metadata": {},
   "outputs": [],
   "source": [
    "# different combinations to try\n",
    "combinations = [\n",
    "    {'remove_stopwords': True, 'apply_stemming': True, 'tokenizer': 'word'},\n",
    "    {'remove_stopwords': True, 'apply_stemming': False, 'tokenizer': 'word'},\n",
    "    {'remove_stopwords': False, 'apply_stemming': True, 'tokenizer': 'word'},\n",
    "    {'remove_stopwords': False, 'apply_stemming': False, 'tokenizer': 'word'},\n",
    "    {'remove_stopwords': True, 'apply_stemming': True, 'tokenizer': 'treebank'},\n",
    "    {'remove_stopwords': True, 'apply_stemming': False, 'tokenizer': 'treebank'},\n",
    "    {'remove_stopwords': False, 'apply_stemming': True, 'tokenizer': 'treebank'},\n",
    "    {'remove_stopwords': False, 'apply_stemming': False, 'tokenizer': 'treebank'},\n",
    "]"
   ]
  },
  {
   "cell_type": "code",
   "execution_count": 20,
   "metadata": {},
   "outputs": [],
   "source": [
    "best_accuracy = 0\n",
    "best_combination = None"
   ]
  },
  {
   "cell_type": "code",
   "execution_count": 21,
   "metadata": {},
   "outputs": [
    {
     "name": "stdout",
     "output_type": "stream",
     "text": [
      "Combination: {'remove_stopwords': True, 'apply_stemming': True, 'tokenizer': 'word'}, Accuracy: 0.7543366150961087\n",
      "Combination: {'remove_stopwords': True, 'apply_stemming': False, 'tokenizer': 'word'}, Accuracy: 0.7548054383497421\n",
      "Combination: {'remove_stopwords': False, 'apply_stemming': True, 'tokenizer': 'word'}, Accuracy: 0.759493670886076\n",
      "Combination: {'remove_stopwords': False, 'apply_stemming': False, 'tokenizer': 'word'}, Accuracy: 0.7576183778715424\n",
      "Combination: {'remove_stopwords': True, 'apply_stemming': True, 'tokenizer': 'treebank'}, Accuracy: 0.7543366150961087\n",
      "Combination: {'remove_stopwords': True, 'apply_stemming': False, 'tokenizer': 'treebank'}, Accuracy: 0.7548054383497421\n",
      "Combination: {'remove_stopwords': False, 'apply_stemming': True, 'tokenizer': 'treebank'}, Accuracy: 0.759493670886076\n",
      "Combination: {'remove_stopwords': False, 'apply_stemming': False, 'tokenizer': 'treebank'}, Accuracy: 0.7576183778715424\n"
     ]
    }
   ],
   "source": [
    "for combo in combinations:\n",
    "    X_processed = X.apply(lambda x: preprocess_text(x, **combo))\n",
    "    vectorizer = CountVectorizer()\n",
    "    X_vectors = vectorizer.fit_transform(X_processed)\n",
    "    X_train, X_test, y_train, y_test = train_test_split(X_vectors, y, test_size=0.2, random_state=42)\n",
    "    \n",
    "    nb_model = MultinomialNB()\n",
    "    nb_model.fit(X_train, y_train)\n",
    "    y_pred = nb_model.predict(X_test)\n",
    "    \n",
    "    accuracy = accuracy_score(y_test, y_pred)\n",
    "    print(f\"Combination: {combo}, Accuracy: {accuracy}\")\n",
    "    \n",
    "    if accuracy > best_accuracy:\n",
    "        best_accuracy = accuracy\n",
    "        best_combination = combo"
   ]
  },
  {
   "cell_type": "raw",
   "metadata": {
    "vscode": {
     "languageId": "raw"
    }
   },
   "source": [
    "1. {'remove_stopwords': True, 'apply_stemming': True, 'tokenizer': 'word'}, Accuracy: 0.7543366150961087\n",
    "2. {'remove_stopwords': True, 'apply_stemming': False, 'tokenizer': 'word'}, Accuracy: 0.7548054383497421\n",
    "3. {'remove_stopwords': False, 'apply_stemming': True, 'tokenizer': 'word'}, Accuracy: 0.759493670886076\n",
    "4. {'remove_stopwords': False, 'apply_stemming': False, 'tokenizer': 'word'}, Accuracy: 0.7576183778715424\n",
    "5. {'remove_stopwords': True, 'apply_stemming': True, 'tokenizer': 'treebank'}, Accuracy: 0.7543366150961087\n",
    "6. {'remove_stopwords': True, 'apply_stemming': False, 'tokenizer': 'treebank'}, Accuracy: 0.7548054383497421\n",
    "7. {'remove_stopwords': False, 'apply_stemming': True, 'tokenizer': 'treebank'}, Accuracy: 0.759493670886076\n",
    "8. {'remove_stopwords': False, 'apply_stemming': False, 'tokenizer': 'treebank'}, Accuracy: 0.7576183778715424"
   ]
  },
  {
   "cell_type": "markdown",
   "metadata": {},
   "source": [
    "11b. __Create a Raw NBConvert cell to explain what preprocessing step is best__."
   ]
  },
  {
   "cell_type": "raw",
   "metadata": {
    "vscode": {
     "languageId": "raw"
    }
   },
   "source": [
    "Based on the results of the different preprocessing steps, the best combination for achieving the\n",
    "highest accuracy is using word tokenization, without removing stop words, and applying stemming.\n",
    "This combination resulted in an accuracy of 75.95%."
   ]
  },
  {
   "cell_type": "markdown",
   "metadata": {},
   "source": [
    "12. Using the best preprocessing step that you determined from step 11b,  __train and test the model__ one last time.<br>\n",
    "Then __show the accuracy__.<br>\n",
    "This will be your best tuned model."
   ]
  },
  {
   "cell_type": "code",
   "execution_count": 22,
   "metadata": {},
   "outputs": [
    {
     "name": "stdout",
     "output_type": "stream",
     "text": [
      "Best Tuned Model Accuracy:  0.759493670886076\n",
      "Best Tuned Model Confusion Matrix: \n",
      " [[825 237]\n",
      " [276 795]]\n"
     ]
    }
   ],
   "source": [
    "best_combo = {'remove_stopwords': False, 'apply_stemming': True, 'tokenizer': 'word'}\n",
    "X_processed = X.apply(lambda x: preprocess_text(x, **best_combo))\n",
    "vectorizer = CountVectorizer()\n",
    "X_vectors = vectorizer.fit_transform(X_processed)\n",
    "X_train, X_test, y_train, y_test = train_test_split(X_vectors, y, test_size=0.2, random_state=42)\n",
    "\n",
    "nb_model = MultinomialNB()\n",
    "nb_model.fit(X_train, y_train)\n",
    "y_pred = nb_model.predict(X_test)\n",
    "\n",
    "accuracy = accuracy_score(y_test, y_pred)\n",
    "conf_matrix = confusion_matrix(y_test, y_pred)\n",
    "\n",
    "print(\"Best Tuned Model Accuracy: \", accuracy)\n",
    "print(\"Best Tuned Model Confusion Matrix: \\n\", conf_matrix)"
   ]
  },
  {
   "cell_type": "markdown",
   "metadata": {},
   "source": [
    "---"
   ]
  },
  {
   "cell_type": "markdown",
   "metadata": {},
   "source": [
    "13. Now we test your best tuned model with a completely new dataset.<br>\n",
    "\n",
    "__Read the file _movies.csv_ in to a DataFrame__. _movies.csv_ has movie reviews from the website IMDb ([source](https://www.kaggle.com/datasets/yasserh/imdb-movie-ratings-sentiment-analysis))<br>\n",
    "Then __print the number of rows and columns of the DataFrame__ and __print the first 5 rows__ to inspect the data.<br>\n",
    "In the dataset, a label of 0 means bad movie, and a label of 1 means good movie."
   ]
  },
  {
   "cell_type": "code",
   "execution_count": 23,
   "metadata": {},
   "outputs": [
    {
     "name": "stdout",
     "output_type": "stream",
     "text": [
      "(40000, 2)\n",
      "                                                text  label\n",
      "0  I grew up (b. 1965) watching and loving the Th...      0\n",
      "1  When I put this movie in my DVD player, and sa...      0\n",
      "2  Why do people who do not know what a particula...      0\n",
      "3  Even though I have great interest in Biblical ...      0\n",
      "4  Im a die hard Dads Army fan and nothing will e...      1\n"
     ]
    }
   ],
   "source": [
    "movies_df = pd.read_csv('movies.csv')\n",
    "\n",
    "print(movies_df.shape)\n",
    "\n",
    "print(movies_df.head())"
   ]
  },
  {
   "cell_type": "markdown",
   "metadata": {},
   "source": [
    "14. Skipping the steps to check for NaNs (they've been checked for you):<br>\n",
    "__Create the X and y datasets__ and __print the number of rows and columns__ of each set"
   ]
  },
  {
   "cell_type": "code",
   "execution_count": 26,
   "metadata": {},
   "outputs": [
    {
     "name": "stdout",
     "output_type": "stream",
     "text": [
      "(40000,)\n",
      "(40000,)\n"
     ]
    }
   ],
   "source": [
    "X_movies = movies_df['text']\n",
    "y_movies = movies_df['label']\n",
    "\n",
    "print(X_movies.shape)\n",
    "print(y_movies.shape)"
   ]
  },
  {
   "cell_type": "markdown",
   "metadata": {},
   "source": [
    "15. __Preprocess the X dataset__ <u>in the same way</u> that you preprocessed the X data from Rotten Tomatoes above.<br>\n",
    "Then __print the first 5 rows of the processed X dataset__<br>\n",
    "Take advantage of code re-use, now is not the time to blindly copy-and-paste."
   ]
  },
  {
   "cell_type": "code",
   "execution_count": 27,
   "metadata": {},
   "outputs": [
    {
     "name": "stdout",
     "output_type": "stream",
     "text": [
      "0    i grew up b watch and love the thunderbird all...\n",
      "1    when i put thi movi in my dvd player and sat d...\n",
      "2    whi do peopl who do not know what a particular...\n",
      "3    even though i have great interest in biblic mo...\n",
      "4    im a die hard dad armi fan and noth will ever ...\n",
      "Name: text, dtype: object\n"
     ]
    }
   ],
   "source": [
    "X_movies_processed = X_movies.apply(lambda x: preprocess_text(x, **best_combo))\n",
    "\n",
    "print(X_movies_processed.head())"
   ]
  },
  {
   "cell_type": "markdown",
   "metadata": {},
   "source": [
    "16. __Convert the processed X strings into vectors__ <u>in the same way</u> as you did for the Rotten Tomatoes reviews.<br>\n",
    "Then __print the shape of the X vectors__<br>\n",
    "Take advantage of code re-use, now is definitely not the time to blindly copy-and-paste.<br>\n",
    "\n",
    "_Note: If you copy-and-paste everything from the previous dataset above, it's guaranteed not to work. You need to understand what goes on above to know what can be re-uses. Yes, it's the last lab and I'm showing my evil self_."
   ]
  },
  {
   "cell_type": "code",
   "execution_count": 28,
   "metadata": {},
   "outputs": [
    {
     "name": "stdout",
     "output_type": "stream",
     "text": [
      "(40000, 12202)\n"
     ]
    }
   ],
   "source": [
    "X_movies_vectors = vectorizer.transform(X_movies_processed)\n",
    "\n",
    "print(X_movies_vectors.shape)"
   ]
  },
  {
   "cell_type": "markdown",
   "metadata": {},
   "source": [
    "17. __Test the NLP model that you've trained above with the new X vectors__<br>\n",
    "Then __print the accuracy and confusion matrix__"
   ]
  },
  {
   "cell_type": "code",
   "execution_count": 29,
   "metadata": {},
   "outputs": [
    {
     "name": "stdout",
     "output_type": "stream",
     "text": [
      "New Dataset Accuracy:  0.684975\n",
      "New Dataset Confusion Matrix: \n",
      " [[19323   696]\n",
      " [11905  8076]]\n"
     ]
    }
   ],
   "source": [
    "y_movies_pred = nb_model.predict(X_movies_vectors)\n",
    "\n",
    "accuracy_movies = accuracy_score(y_movies, y_movies_pred)\n",
    "conf_matrix_movies = confusion_matrix(y_movies, y_movies_pred)\n",
    "\n",
    "print(\"New Dataset Accuracy: \", accuracy_movies)\n",
    "print(\"New Dataset Confusion Matrix: \\n\", conf_matrix_movies)"
   ]
  },
  {
   "cell_type": "code",
   "execution_count": null,
   "metadata": {},
   "outputs": [],
   "source": []
  }
 ],
 "metadata": {
  "kernelspec": {
   "display_name": "Python 3 (ipykernel)",
   "language": "python",
   "name": "python3"
  },
  "language_info": {
   "codemirror_mode": {
    "name": "ipython",
    "version": 3
   },
   "file_extension": ".py",
   "mimetype": "text/x-python",
   "name": "python",
   "nbconvert_exporter": "python",
   "pygments_lexer": "ipython3",
   "version": "3.1.undefined"
  }
 },
 "nbformat": 4,
 "nbformat_minor": 1
}
