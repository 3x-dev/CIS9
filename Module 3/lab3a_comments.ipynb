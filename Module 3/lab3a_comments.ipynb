{
 "cells": [
  {
   "cell_type": "markdown",
   "id": "90e6a88d",
   "metadata": {},
   "source": [
    "### CIS 9 - Lab 3a\n",
    "\n",
    "Supervised Learning: Regression and Classification"
   ]
  },
  {
   "cell_type": "code",
   "execution_count": 2,
   "id": "8a1e8e14",
   "metadata": {},
   "outputs": [],
   "source": [
    "# Name: Aryan Singhal"
   ]
  },
  {
   "cell_type": "markdown",
   "id": "73a38bf8",
   "metadata": {},
   "source": [
    "There are 3 parts to this lab:\n",
    "- Part 1 is to read in, analyze, and prepare data for machine learning.\n",
    "- Parts 2 and 3 each solves a different type of ML problem.<br>\n",
    "Make sure you read the problem description carefully for parts 2 and 3 so that you can apply the correct ML models.\n",
    "\n",
    "The input file is `obesity_data.xlsx` ([source](https://www.kaggle.com/datasets/aravindpcoder/obesity-or-cvd-risk-classifyregressorcluster/data?select=ObesityDataSet.csv)), which contains data that are collected from user online responses. The dataset has users' attributes such as age, gender, height, weight, eating habits, daily habits, and obesity level."
   ]
  },
  {
   "cell_type": "code",
   "execution_count": 3,
   "id": "f6dd3f6f",
   "metadata": {},
   "outputs": [],
   "source": [
    "# import files here\n",
    "import pandas as pd\n",
    "import matplotlib.pyplot as plt\n",
    "import seaborn as sns"
   ]
  },
  {
   "cell_type": "markdown",
   "id": "cb248367",
   "metadata": {},
   "source": [
    "#### Part 1: Prepare and analyze data"
   ]
  },
  {
   "cell_type": "markdown",
   "id": "1577b0d0",
   "metadata": {},
   "source": [
    "1. __Read data from `obesity_data.xlsx`__ into a DataFrame.<br>\n",
    "Then __print the DataFrame__.<br>\n",
    "Make sure to use the graphical print for all DataFrames."
   ]
  },
  {
   "cell_type": "code",
   "execution_count": 4,
   "id": "ff30942d",
   "metadata": {},
   "outputs": [
    {
     "data": {
      "text/html": [
       "<div>\n",
       "<style scoped>\n",
       "    .dataframe tbody tr th:only-of-type {\n",
       "        vertical-align: middle;\n",
       "    }\n",
       "\n",
       "    .dataframe tbody tr th {\n",
       "        vertical-align: top;\n",
       "    }\n",
       "\n",
       "    .dataframe thead th {\n",
       "        text-align: right;\n",
       "    }\n",
       "</style>\n",
       "<table border=\"1\" class=\"dataframe\">\n",
       "  <thead>\n",
       "    <tr style=\"text-align: right;\">\n",
       "      <th></th>\n",
       "      <th>Gender</th>\n",
       "      <th>Age</th>\n",
       "      <th>Height</th>\n",
       "      <th>Weight</th>\n",
       "      <th>family_history_with_overweight</th>\n",
       "      <th>FAVC</th>\n",
       "      <th>FCVC</th>\n",
       "      <th>NCP</th>\n",
       "      <th>CAEC</th>\n",
       "      <th>SMOKE</th>\n",
       "      <th>CH2O</th>\n",
       "      <th>SCC</th>\n",
       "      <th>FAF</th>\n",
       "      <th>TUE</th>\n",
       "      <th>CALC</th>\n",
       "      <th>MTRANS</th>\n",
       "      <th>NObeyesdad</th>\n",
       "    </tr>\n",
       "  </thead>\n",
       "  <tbody>\n",
       "    <tr>\n",
       "      <th>0</th>\n",
       "      <td>Female</td>\n",
       "      <td>21.000000</td>\n",
       "      <td>1.620000</td>\n",
       "      <td>64.000000</td>\n",
       "      <td>yes</td>\n",
       "      <td>no</td>\n",
       "      <td>2.0</td>\n",
       "      <td>3.0</td>\n",
       "      <td>Sometimes</td>\n",
       "      <td>no</td>\n",
       "      <td>2.000000</td>\n",
       "      <td>no</td>\n",
       "      <td>0.000000</td>\n",
       "      <td>1.000000</td>\n",
       "      <td>no</td>\n",
       "      <td>Public_Transportation</td>\n",
       "      <td>Normal_Weight</td>\n",
       "    </tr>\n",
       "    <tr>\n",
       "      <th>1</th>\n",
       "      <td>Female</td>\n",
       "      <td>21.000000</td>\n",
       "      <td>1.520000</td>\n",
       "      <td>56.000000</td>\n",
       "      <td>yes</td>\n",
       "      <td>no</td>\n",
       "      <td>3.0</td>\n",
       "      <td>3.0</td>\n",
       "      <td>Sometimes</td>\n",
       "      <td>yes</td>\n",
       "      <td>3.000000</td>\n",
       "      <td>yes</td>\n",
       "      <td>3.000000</td>\n",
       "      <td>0.000000</td>\n",
       "      <td>Sometimes</td>\n",
       "      <td>Public_Transportation</td>\n",
       "      <td>Normal_Weight</td>\n",
       "    </tr>\n",
       "    <tr>\n",
       "      <th>2</th>\n",
       "      <td>Male</td>\n",
       "      <td>23.000000</td>\n",
       "      <td>1.800000</td>\n",
       "      <td>77.000000</td>\n",
       "      <td>yes</td>\n",
       "      <td>no</td>\n",
       "      <td>2.0</td>\n",
       "      <td>3.0</td>\n",
       "      <td>Sometimes</td>\n",
       "      <td>no</td>\n",
       "      <td>2.000000</td>\n",
       "      <td>no</td>\n",
       "      <td>2.000000</td>\n",
       "      <td>1.000000</td>\n",
       "      <td>Frequently</td>\n",
       "      <td>Public_Transportation</td>\n",
       "      <td>Normal_Weight</td>\n",
       "    </tr>\n",
       "    <tr>\n",
       "      <th>3</th>\n",
       "      <td>Male</td>\n",
       "      <td>27.000000</td>\n",
       "      <td>1.800000</td>\n",
       "      <td>87.000000</td>\n",
       "      <td>no</td>\n",
       "      <td>no</td>\n",
       "      <td>3.0</td>\n",
       "      <td>3.0</td>\n",
       "      <td>Sometimes</td>\n",
       "      <td>no</td>\n",
       "      <td>2.000000</td>\n",
       "      <td>no</td>\n",
       "      <td>2.000000</td>\n",
       "      <td>0.000000</td>\n",
       "      <td>Frequently</td>\n",
       "      <td>Walking</td>\n",
       "      <td>Overweight_Level_I</td>\n",
       "    </tr>\n",
       "    <tr>\n",
       "      <th>4</th>\n",
       "      <td>Male</td>\n",
       "      <td>22.000000</td>\n",
       "      <td>1.780000</td>\n",
       "      <td>89.800000</td>\n",
       "      <td>no</td>\n",
       "      <td>no</td>\n",
       "      <td>2.0</td>\n",
       "      <td>1.0</td>\n",
       "      <td>Sometimes</td>\n",
       "      <td>no</td>\n",
       "      <td>2.000000</td>\n",
       "      <td>no</td>\n",
       "      <td>0.000000</td>\n",
       "      <td>0.000000</td>\n",
       "      <td>Sometimes</td>\n",
       "      <td>Public_Transportation</td>\n",
       "      <td>Overweight_Level_II</td>\n",
       "    </tr>\n",
       "    <tr>\n",
       "      <th>...</th>\n",
       "      <td>...</td>\n",
       "      <td>...</td>\n",
       "      <td>...</td>\n",
       "      <td>...</td>\n",
       "      <td>...</td>\n",
       "      <td>...</td>\n",
       "      <td>...</td>\n",
       "      <td>...</td>\n",
       "      <td>...</td>\n",
       "      <td>...</td>\n",
       "      <td>...</td>\n",
       "      <td>...</td>\n",
       "      <td>...</td>\n",
       "      <td>...</td>\n",
       "      <td>...</td>\n",
       "      <td>...</td>\n",
       "      <td>...</td>\n",
       "    </tr>\n",
       "    <tr>\n",
       "      <th>2106</th>\n",
       "      <td>Female</td>\n",
       "      <td>20.976842</td>\n",
       "      <td>1.710730</td>\n",
       "      <td>131.408528</td>\n",
       "      <td>yes</td>\n",
       "      <td>yes</td>\n",
       "      <td>3.0</td>\n",
       "      <td>3.0</td>\n",
       "      <td>Sometimes</td>\n",
       "      <td>no</td>\n",
       "      <td>1.728139</td>\n",
       "      <td>no</td>\n",
       "      <td>1.676269</td>\n",
       "      <td>0.906247</td>\n",
       "      <td>Sometimes</td>\n",
       "      <td>Public_Transportation</td>\n",
       "      <td>Obesity_Type_III</td>\n",
       "    </tr>\n",
       "    <tr>\n",
       "      <th>2107</th>\n",
       "      <td>Female</td>\n",
       "      <td>21.982942</td>\n",
       "      <td>1.748584</td>\n",
       "      <td>133.742943</td>\n",
       "      <td>yes</td>\n",
       "      <td>yes</td>\n",
       "      <td>3.0</td>\n",
       "      <td>3.0</td>\n",
       "      <td>Sometimes</td>\n",
       "      <td>no</td>\n",
       "      <td>2.005130</td>\n",
       "      <td>no</td>\n",
       "      <td>1.341390</td>\n",
       "      <td>0.599270</td>\n",
       "      <td>Sometimes</td>\n",
       "      <td>Public_Transportation</td>\n",
       "      <td>Obesity_Type_III</td>\n",
       "    </tr>\n",
       "    <tr>\n",
       "      <th>2108</th>\n",
       "      <td>Female</td>\n",
       "      <td>22.524036</td>\n",
       "      <td>1.752206</td>\n",
       "      <td>133.689352</td>\n",
       "      <td>yes</td>\n",
       "      <td>yes</td>\n",
       "      <td>3.0</td>\n",
       "      <td>3.0</td>\n",
       "      <td>Sometimes</td>\n",
       "      <td>no</td>\n",
       "      <td>2.054193</td>\n",
       "      <td>no</td>\n",
       "      <td>1.414209</td>\n",
       "      <td>0.646288</td>\n",
       "      <td>Sometimes</td>\n",
       "      <td>Public_Transportation</td>\n",
       "      <td>Obesity_Type_III</td>\n",
       "    </tr>\n",
       "    <tr>\n",
       "      <th>2109</th>\n",
       "      <td>Female</td>\n",
       "      <td>24.361936</td>\n",
       "      <td>1.739450</td>\n",
       "      <td>133.346641</td>\n",
       "      <td>yes</td>\n",
       "      <td>yes</td>\n",
       "      <td>3.0</td>\n",
       "      <td>3.0</td>\n",
       "      <td>Sometimes</td>\n",
       "      <td>no</td>\n",
       "      <td>2.852339</td>\n",
       "      <td>no</td>\n",
       "      <td>1.139107</td>\n",
       "      <td>0.586035</td>\n",
       "      <td>Sometimes</td>\n",
       "      <td>Public_Transportation</td>\n",
       "      <td>Obesity_Type_III</td>\n",
       "    </tr>\n",
       "    <tr>\n",
       "      <th>2110</th>\n",
       "      <td>Female</td>\n",
       "      <td>23.664709</td>\n",
       "      <td>1.738836</td>\n",
       "      <td>133.472641</td>\n",
       "      <td>yes</td>\n",
       "      <td>yes</td>\n",
       "      <td>3.0</td>\n",
       "      <td>3.0</td>\n",
       "      <td>Sometimes</td>\n",
       "      <td>no</td>\n",
       "      <td>2.863513</td>\n",
       "      <td>no</td>\n",
       "      <td>1.026452</td>\n",
       "      <td>0.714137</td>\n",
       "      <td>Sometimes</td>\n",
       "      <td>Public_Transportation</td>\n",
       "      <td>Obesity_Type_III</td>\n",
       "    </tr>\n",
       "  </tbody>\n",
       "</table>\n",
       "<p>2111 rows × 17 columns</p>\n",
       "</div>"
      ],
      "text/plain": [
       "      Gender        Age    Height      Weight family_history_with_overweight  \\\n",
       "0     Female  21.000000  1.620000   64.000000                            yes   \n",
       "1     Female  21.000000  1.520000   56.000000                            yes   \n",
       "2       Male  23.000000  1.800000   77.000000                            yes   \n",
       "3       Male  27.000000  1.800000   87.000000                             no   \n",
       "4       Male  22.000000  1.780000   89.800000                             no   \n",
       "...      ...        ...       ...         ...                            ...   \n",
       "2106  Female  20.976842  1.710730  131.408528                            yes   \n",
       "2107  Female  21.982942  1.748584  133.742943                            yes   \n",
       "2108  Female  22.524036  1.752206  133.689352                            yes   \n",
       "2109  Female  24.361936  1.739450  133.346641                            yes   \n",
       "2110  Female  23.664709  1.738836  133.472641                            yes   \n",
       "\n",
       "     FAVC  FCVC  NCP       CAEC SMOKE      CH2O  SCC       FAF       TUE  \\\n",
       "0      no   2.0  3.0  Sometimes    no  2.000000   no  0.000000  1.000000   \n",
       "1      no   3.0  3.0  Sometimes   yes  3.000000  yes  3.000000  0.000000   \n",
       "2      no   2.0  3.0  Sometimes    no  2.000000   no  2.000000  1.000000   \n",
       "3      no   3.0  3.0  Sometimes    no  2.000000   no  2.000000  0.000000   \n",
       "4      no   2.0  1.0  Sometimes    no  2.000000   no  0.000000  0.000000   \n",
       "...   ...   ...  ...        ...   ...       ...  ...       ...       ...   \n",
       "2106  yes   3.0  3.0  Sometimes    no  1.728139   no  1.676269  0.906247   \n",
       "2107  yes   3.0  3.0  Sometimes    no  2.005130   no  1.341390  0.599270   \n",
       "2108  yes   3.0  3.0  Sometimes    no  2.054193   no  1.414209  0.646288   \n",
       "2109  yes   3.0  3.0  Sometimes    no  2.852339   no  1.139107  0.586035   \n",
       "2110  yes   3.0  3.0  Sometimes    no  2.863513   no  1.026452  0.714137   \n",
       "\n",
       "            CALC                 MTRANS           NObeyesdad  \n",
       "0             no  Public_Transportation        Normal_Weight  \n",
       "1      Sometimes  Public_Transportation        Normal_Weight  \n",
       "2     Frequently  Public_Transportation        Normal_Weight  \n",
       "3     Frequently                Walking   Overweight_Level_I  \n",
       "4      Sometimes  Public_Transportation  Overweight_Level_II  \n",
       "...          ...                    ...                  ...  \n",
       "2106   Sometimes  Public_Transportation     Obesity_Type_III  \n",
       "2107   Sometimes  Public_Transportation     Obesity_Type_III  \n",
       "2108   Sometimes  Public_Transportation     Obesity_Type_III  \n",
       "2109   Sometimes  Public_Transportation     Obesity_Type_III  \n",
       "2110   Sometimes  Public_Transportation     Obesity_Type_III  \n",
       "\n",
       "[2111 rows x 17 columns]"
      ]
     },
     "execution_count": 4,
     "metadata": {},
     "output_type": "execute_result"
    }
   ],
   "source": [
    "# Load the dataset\n",
    "file_path = 'obesity_data.xlsx'\n",
    "df = pd.read_excel(file_path)\n",
    "\n",
    "df"
   ]
  },
  {
   "cell_type": "markdown",
   "id": "50e7777b",
   "metadata": {},
   "source": [
    "2. Change the column labels so they are more readable and easier to user.\n",
    "\n",
    "According to the source website, the attributes related with eating habits are: Frequent consumption of high caloric food (FAVC), Frequency of consumption of vegetables (FCVC), Number of main meals (NCP), Consumption of food between meals (CAEC), Consumption of water daily (CH2O), and Consumption of alcohol (CALC). The attributes related with the physical condition are: Calories consumption monitoring (SCC), Physical activity frequency (FAF), Time using technology devices (TUE), Transportation used (MTRANS)\n",
    "\n",
    "Do the following steps to change the column labels:\n",
    "- __Change the abbreviations__ (in the same order listed in the paragraph above) __to be more descriptive and shorter__:\n",
    "high_cal, vegetables, num_meals, snacks, water, alcohol, cal_monitor, activities, dev_time, transportation<br>\n",
    "- __shorten__ 'family_history_with_overweight' to 'history', and 'NObeyesdad' to 'obesity'.\n",
    "- __Lowercase all labels__.\n",
    "\n",
    "Then __print the first 5 lines of the DataFrame__."
   ]
  },
  {
   "cell_type": "code",
   "execution_count": 5,
   "id": "9aef115b",
   "metadata": {},
   "outputs": [
    {
     "name": "stdout",
     "output_type": "stream",
     "text": [
      "First 5 rows of the dataset with renamed columns:\n"
     ]
    },
    {
     "data": {
      "text/html": [
       "<div>\n",
       "<style scoped>\n",
       "    .dataframe tbody tr th:only-of-type {\n",
       "        vertical-align: middle;\n",
       "    }\n",
       "\n",
       "    .dataframe tbody tr th {\n",
       "        vertical-align: top;\n",
       "    }\n",
       "\n",
       "    .dataframe thead th {\n",
       "        text-align: right;\n",
       "    }\n",
       "</style>\n",
       "<table border=\"1\" class=\"dataframe\">\n",
       "  <thead>\n",
       "    <tr style=\"text-align: right;\">\n",
       "      <th></th>\n",
       "      <th>gender</th>\n",
       "      <th>age</th>\n",
       "      <th>height</th>\n",
       "      <th>weight</th>\n",
       "      <th>history</th>\n",
       "      <th>high_cal</th>\n",
       "      <th>vegetables</th>\n",
       "      <th>num_meals</th>\n",
       "      <th>snacks</th>\n",
       "      <th>smoke</th>\n",
       "      <th>water</th>\n",
       "      <th>cal_monitor</th>\n",
       "      <th>activities</th>\n",
       "      <th>dev_time</th>\n",
       "      <th>alcohol</th>\n",
       "      <th>transportation</th>\n",
       "      <th>obesity</th>\n",
       "    </tr>\n",
       "  </thead>\n",
       "  <tbody>\n",
       "    <tr>\n",
       "      <th>0</th>\n",
       "      <td>Female</td>\n",
       "      <td>21.0</td>\n",
       "      <td>1.62</td>\n",
       "      <td>64.0</td>\n",
       "      <td>yes</td>\n",
       "      <td>no</td>\n",
       "      <td>2.0</td>\n",
       "      <td>3.0</td>\n",
       "      <td>Sometimes</td>\n",
       "      <td>no</td>\n",
       "      <td>2.0</td>\n",
       "      <td>no</td>\n",
       "      <td>0.0</td>\n",
       "      <td>1.0</td>\n",
       "      <td>no</td>\n",
       "      <td>Public_Transportation</td>\n",
       "      <td>Normal_Weight</td>\n",
       "    </tr>\n",
       "    <tr>\n",
       "      <th>1</th>\n",
       "      <td>Female</td>\n",
       "      <td>21.0</td>\n",
       "      <td>1.52</td>\n",
       "      <td>56.0</td>\n",
       "      <td>yes</td>\n",
       "      <td>no</td>\n",
       "      <td>3.0</td>\n",
       "      <td>3.0</td>\n",
       "      <td>Sometimes</td>\n",
       "      <td>yes</td>\n",
       "      <td>3.0</td>\n",
       "      <td>yes</td>\n",
       "      <td>3.0</td>\n",
       "      <td>0.0</td>\n",
       "      <td>Sometimes</td>\n",
       "      <td>Public_Transportation</td>\n",
       "      <td>Normal_Weight</td>\n",
       "    </tr>\n",
       "    <tr>\n",
       "      <th>2</th>\n",
       "      <td>Male</td>\n",
       "      <td>23.0</td>\n",
       "      <td>1.80</td>\n",
       "      <td>77.0</td>\n",
       "      <td>yes</td>\n",
       "      <td>no</td>\n",
       "      <td>2.0</td>\n",
       "      <td>3.0</td>\n",
       "      <td>Sometimes</td>\n",
       "      <td>no</td>\n",
       "      <td>2.0</td>\n",
       "      <td>no</td>\n",
       "      <td>2.0</td>\n",
       "      <td>1.0</td>\n",
       "      <td>Frequently</td>\n",
       "      <td>Public_Transportation</td>\n",
       "      <td>Normal_Weight</td>\n",
       "    </tr>\n",
       "    <tr>\n",
       "      <th>3</th>\n",
       "      <td>Male</td>\n",
       "      <td>27.0</td>\n",
       "      <td>1.80</td>\n",
       "      <td>87.0</td>\n",
       "      <td>no</td>\n",
       "      <td>no</td>\n",
       "      <td>3.0</td>\n",
       "      <td>3.0</td>\n",
       "      <td>Sometimes</td>\n",
       "      <td>no</td>\n",
       "      <td>2.0</td>\n",
       "      <td>no</td>\n",
       "      <td>2.0</td>\n",
       "      <td>0.0</td>\n",
       "      <td>Frequently</td>\n",
       "      <td>Walking</td>\n",
       "      <td>Overweight_Level_I</td>\n",
       "    </tr>\n",
       "    <tr>\n",
       "      <th>4</th>\n",
       "      <td>Male</td>\n",
       "      <td>22.0</td>\n",
       "      <td>1.78</td>\n",
       "      <td>89.8</td>\n",
       "      <td>no</td>\n",
       "      <td>no</td>\n",
       "      <td>2.0</td>\n",
       "      <td>1.0</td>\n",
       "      <td>Sometimes</td>\n",
       "      <td>no</td>\n",
       "      <td>2.0</td>\n",
       "      <td>no</td>\n",
       "      <td>0.0</td>\n",
       "      <td>0.0</td>\n",
       "      <td>Sometimes</td>\n",
       "      <td>Public_Transportation</td>\n",
       "      <td>Overweight_Level_II</td>\n",
       "    </tr>\n",
       "  </tbody>\n",
       "</table>\n",
       "</div>"
      ],
      "text/plain": [
       "   gender   age  height  weight history high_cal  vegetables  num_meals  \\\n",
       "0  Female  21.0    1.62    64.0     yes       no         2.0        3.0   \n",
       "1  Female  21.0    1.52    56.0     yes       no         3.0        3.0   \n",
       "2    Male  23.0    1.80    77.0     yes       no         2.0        3.0   \n",
       "3    Male  27.0    1.80    87.0      no       no         3.0        3.0   \n",
       "4    Male  22.0    1.78    89.8      no       no         2.0        1.0   \n",
       "\n",
       "      snacks smoke  water cal_monitor  activities  dev_time     alcohol  \\\n",
       "0  Sometimes    no    2.0          no         0.0       1.0          no   \n",
       "1  Sometimes   yes    3.0         yes         3.0       0.0   Sometimes   \n",
       "2  Sometimes    no    2.0          no         2.0       1.0  Frequently   \n",
       "3  Sometimes    no    2.0          no         2.0       0.0  Frequently   \n",
       "4  Sometimes    no    2.0          no         0.0       0.0   Sometimes   \n",
       "\n",
       "          transportation              obesity  \n",
       "0  Public_Transportation        Normal_Weight  \n",
       "1  Public_Transportation        Normal_Weight  \n",
       "2  Public_Transportation        Normal_Weight  \n",
       "3                Walking   Overweight_Level_I  \n",
       "4  Public_Transportation  Overweight_Level_II  "
      ]
     },
     "metadata": {},
     "output_type": "display_data"
    }
   ],
   "source": [
    "# Rename the columns\n",
    "df.columns = ['gender', 'age', 'height', 'weight', 'history', 'high_cal', 'vegetables', 'num_meals', 'snacks', \n",
    "              'smoke', 'water', 'cal_monitor', 'activities', 'dev_time', 'alcohol', 'transportation', 'obesity']\n",
    "\n",
    "# Display the first 5 rows of the DataFrame\n",
    "print(\"First 5 rows of the dataset with renamed columns:\")\n",
    "display(df.head())"
   ]
  },
  {
   "cell_type": "markdown",
   "id": "24a07867",
   "metadata": {},
   "source": [
    "3. Check for NaNs and remove any rows with NaNs."
   ]
  },
  {
   "cell_type": "code",
   "execution_count": 6,
   "id": "5aad3595",
   "metadata": {},
   "outputs": [
    {
     "name": "stdout",
     "output_type": "stream",
     "text": [
      "Checking for NaNs in the dataset:\n",
      "gender            0\n",
      "age               0\n",
      "height            0\n",
      "weight            0\n",
      "history           0\n",
      "high_cal          0\n",
      "vegetables        0\n",
      "num_meals         0\n",
      "snacks            0\n",
      "smoke             0\n",
      "water             0\n",
      "cal_monitor       0\n",
      "activities        0\n",
      "dev_time          0\n",
      "alcohol           0\n",
      "transportation    0\n",
      "obesity           0\n",
      "dtype: int64\n",
      "First 5 rows of the cleaned dataset (with no NaNs):\n"
     ]
    },
    {
     "data": {
      "text/html": [
       "<div>\n",
       "<style scoped>\n",
       "    .dataframe tbody tr th:only-of-type {\n",
       "        vertical-align: middle;\n",
       "    }\n",
       "\n",
       "    .dataframe tbody tr th {\n",
       "        vertical-align: top;\n",
       "    }\n",
       "\n",
       "    .dataframe thead th {\n",
       "        text-align: right;\n",
       "    }\n",
       "</style>\n",
       "<table border=\"1\" class=\"dataframe\">\n",
       "  <thead>\n",
       "    <tr style=\"text-align: right;\">\n",
       "      <th></th>\n",
       "      <th>gender</th>\n",
       "      <th>age</th>\n",
       "      <th>height</th>\n",
       "      <th>weight</th>\n",
       "      <th>history</th>\n",
       "      <th>high_cal</th>\n",
       "      <th>vegetables</th>\n",
       "      <th>num_meals</th>\n",
       "      <th>snacks</th>\n",
       "      <th>smoke</th>\n",
       "      <th>water</th>\n",
       "      <th>cal_monitor</th>\n",
       "      <th>activities</th>\n",
       "      <th>dev_time</th>\n",
       "      <th>alcohol</th>\n",
       "      <th>transportation</th>\n",
       "      <th>obesity</th>\n",
       "    </tr>\n",
       "  </thead>\n",
       "  <tbody>\n",
       "    <tr>\n",
       "      <th>0</th>\n",
       "      <td>Female</td>\n",
       "      <td>21.0</td>\n",
       "      <td>1.62</td>\n",
       "      <td>64.0</td>\n",
       "      <td>yes</td>\n",
       "      <td>no</td>\n",
       "      <td>2.0</td>\n",
       "      <td>3.0</td>\n",
       "      <td>Sometimes</td>\n",
       "      <td>no</td>\n",
       "      <td>2.0</td>\n",
       "      <td>no</td>\n",
       "      <td>0.0</td>\n",
       "      <td>1.0</td>\n",
       "      <td>no</td>\n",
       "      <td>Public_Transportation</td>\n",
       "      <td>Normal_Weight</td>\n",
       "    </tr>\n",
       "    <tr>\n",
       "      <th>1</th>\n",
       "      <td>Female</td>\n",
       "      <td>21.0</td>\n",
       "      <td>1.52</td>\n",
       "      <td>56.0</td>\n",
       "      <td>yes</td>\n",
       "      <td>no</td>\n",
       "      <td>3.0</td>\n",
       "      <td>3.0</td>\n",
       "      <td>Sometimes</td>\n",
       "      <td>yes</td>\n",
       "      <td>3.0</td>\n",
       "      <td>yes</td>\n",
       "      <td>3.0</td>\n",
       "      <td>0.0</td>\n",
       "      <td>Sometimes</td>\n",
       "      <td>Public_Transportation</td>\n",
       "      <td>Normal_Weight</td>\n",
       "    </tr>\n",
       "    <tr>\n",
       "      <th>2</th>\n",
       "      <td>Male</td>\n",
       "      <td>23.0</td>\n",
       "      <td>1.80</td>\n",
       "      <td>77.0</td>\n",
       "      <td>yes</td>\n",
       "      <td>no</td>\n",
       "      <td>2.0</td>\n",
       "      <td>3.0</td>\n",
       "      <td>Sometimes</td>\n",
       "      <td>no</td>\n",
       "      <td>2.0</td>\n",
       "      <td>no</td>\n",
       "      <td>2.0</td>\n",
       "      <td>1.0</td>\n",
       "      <td>Frequently</td>\n",
       "      <td>Public_Transportation</td>\n",
       "      <td>Normal_Weight</td>\n",
       "    </tr>\n",
       "    <tr>\n",
       "      <th>3</th>\n",
       "      <td>Male</td>\n",
       "      <td>27.0</td>\n",
       "      <td>1.80</td>\n",
       "      <td>87.0</td>\n",
       "      <td>no</td>\n",
       "      <td>no</td>\n",
       "      <td>3.0</td>\n",
       "      <td>3.0</td>\n",
       "      <td>Sometimes</td>\n",
       "      <td>no</td>\n",
       "      <td>2.0</td>\n",
       "      <td>no</td>\n",
       "      <td>2.0</td>\n",
       "      <td>0.0</td>\n",
       "      <td>Frequently</td>\n",
       "      <td>Walking</td>\n",
       "      <td>Overweight_Level_I</td>\n",
       "    </tr>\n",
       "    <tr>\n",
       "      <th>4</th>\n",
       "      <td>Male</td>\n",
       "      <td>22.0</td>\n",
       "      <td>1.78</td>\n",
       "      <td>89.8</td>\n",
       "      <td>no</td>\n",
       "      <td>no</td>\n",
       "      <td>2.0</td>\n",
       "      <td>1.0</td>\n",
       "      <td>Sometimes</td>\n",
       "      <td>no</td>\n",
       "      <td>2.0</td>\n",
       "      <td>no</td>\n",
       "      <td>0.0</td>\n",
       "      <td>0.0</td>\n",
       "      <td>Sometimes</td>\n",
       "      <td>Public_Transportation</td>\n",
       "      <td>Overweight_Level_II</td>\n",
       "    </tr>\n",
       "  </tbody>\n",
       "</table>\n",
       "</div>"
      ],
      "text/plain": [
       "   gender   age  height  weight history high_cal  vegetables  num_meals  \\\n",
       "0  Female  21.0    1.62    64.0     yes       no         2.0        3.0   \n",
       "1  Female  21.0    1.52    56.0     yes       no         3.0        3.0   \n",
       "2    Male  23.0    1.80    77.0     yes       no         2.0        3.0   \n",
       "3    Male  27.0    1.80    87.0      no       no         3.0        3.0   \n",
       "4    Male  22.0    1.78    89.8      no       no         2.0        1.0   \n",
       "\n",
       "      snacks smoke  water cal_monitor  activities  dev_time     alcohol  \\\n",
       "0  Sometimes    no    2.0          no         0.0       1.0          no   \n",
       "1  Sometimes   yes    3.0         yes         3.0       0.0   Sometimes   \n",
       "2  Sometimes    no    2.0          no         2.0       1.0  Frequently   \n",
       "3  Sometimes    no    2.0          no         2.0       0.0  Frequently   \n",
       "4  Sometimes    no    2.0          no         0.0       0.0   Sometimes   \n",
       "\n",
       "          transportation              obesity  \n",
       "0  Public_Transportation        Normal_Weight  \n",
       "1  Public_Transportation        Normal_Weight  \n",
       "2  Public_Transportation        Normal_Weight  \n",
       "3                Walking   Overweight_Level_I  \n",
       "4  Public_Transportation  Overweight_Level_II  "
      ]
     },
     "metadata": {},
     "output_type": "display_data"
    }
   ],
   "source": [
    "# Check for NaNs\n",
    "print(\"Checking for NaNs in the dataset:\")\n",
    "print(df.isna().sum())\n",
    "\n",
    "# Remove any rows with NaNs\n",
    "df_cleaned = df.dropna()\n",
    "\n",
    "# Display the first 5 rows of the cleaned DataFrame\n",
    "print(\"First 5 rows of the cleaned dataset (with no NaNs):\")\n",
    "display(df_cleaned.head())"
   ]
  },
  {
   "cell_type": "markdown",
   "id": "6d93deac",
   "metadata": {},
   "source": [
    "4. Change all data to numeric values\n",
    "\n",
    "4a. Use a dictionary to __change the _gender_ to numbers__ (0 and 1).<br>\n",
    "Then __print the count of each gender__,<br>\n",
    "And __add a comment at the end of the Code cell to indicate whether the gender data is balanced__."
   ]
  },
  {
   "cell_type": "code",
   "execution_count": 7,
   "id": "f0d80196",
   "metadata": {},
   "outputs": [
    {
     "name": "stdout",
     "output_type": "stream",
     "text": [
      "Count of each gender:\n",
      "gender\n",
      "1    1068\n",
      "0    1043\n",
      "Name: count, dtype: int64\n",
      "\n",
      "The gender data is balanced.\n"
     ]
    }
   ],
   "source": [
    "# Map gender to numeric values\n",
    "gender_dict = {'Female': 0, 'Male': 1}\n",
    "df_cleaned['gender'] = df_cleaned['gender'].replace(gender_dict)\n",
    "\n",
    "# Print the count of each gender\n",
    "gender_counts = df_cleaned['gender'].value_counts()\n",
    "print(\"Count of each gender:\")\n",
    "print(gender_counts)\n",
    "\n",
    "# Comment on whether the gender data is balanced\n",
    "# If the counts are approximately equal, the data is balanced.\n",
    "# Otherwise, it is not balanced.\n",
    "# e.g., if gender_counts = {0: 500, 1: 500}, it is balanced\n",
    "if abs(gender_counts[0] - gender_counts[1]) <= 0.1 * min(gender_counts[0], gender_counts[1]):\n",
    "    print(\"\\nThe gender data is balanced.\")\n",
    "else:\n",
    "    print(\"\\nThe gender data is not balanced.\")"
   ]
  },
  {
   "cell_type": "markdown",
   "id": "de57b649",
   "metadata": {},
   "source": [
    "4b. Do the following steps to work with the columns _alcohol_ and _snacks_:<br>\n",
    "- __Print the values__ for _alcohol_ and _snacks_. Each value should only be printed one time.<br>\n",
    "- From the output, you should notice that they share the same values.<br>\n",
    "Create a dictionary to change the values to numbers (0,1,2...) where 'no' is 0,<br>\n",
    "and __change the values of _alcohol_ and _snacks_ to numbers__.\n",
    "- __Print the text explanation and count of each value__ in the 2 columns to confirm that they've all been changed.\n",
    "\n",
    "Reminder: The text explanation is a short description that is printed along with the numbers."
   ]
  },
  {
   "cell_type": "code",
   "execution_count": 8,
   "id": "cb47c63c",
   "metadata": {},
   "outputs": [
    {
     "name": "stdout",
     "output_type": "stream",
     "text": [
      "Unique values for 'alcohol': ['no' 'Sometimes' 'Frequently' 'Always']\n",
      "Unique values for 'snacks': ['Sometimes' 'Frequently' 'Always' 'no']\n",
      "\n",
      "Text explanation and count of each value in 'alcohol':\n",
      "no (0): 639\n",
      "Sometimes (1): 1401\n",
      "Frequently (2): 70\n",
      "Always (3): 1\n",
      "\n",
      "Text explanation and count of each value in 'snacks':\n",
      "no (0): 51\n",
      "Sometimes (1): 1765\n",
      "Frequently (2): 242\n",
      "Always (3): 53\n"
     ]
    }
   ],
   "source": [
    "# Print unique values for alcohol and snacks\n",
    "unique_alcohol = df_cleaned['alcohol'].unique()\n",
    "unique_snacks = df_cleaned['snacks'].unique()\n",
    "print(\"Unique values for 'alcohol':\", unique_alcohol)\n",
    "print(\"Unique values for 'snacks':\", unique_snacks)\n",
    "\n",
    "# Check if they share the same values\n",
    "assert set(unique_alcohol) == set(unique_snacks), \"Values for 'alcohol' and 'snacks' do not match.\"\n",
    "\n",
    "# Create a dictionary to map the values to numbers\n",
    "value_dict = {'no': 0, 'Sometimes': 1, 'Frequently': 2, 'Always': 3}\n",
    "\n",
    "# Change the values of alcohol and snacks to numbers\n",
    "df_cleaned['alcohol'] = df_cleaned['alcohol'].replace(value_dict)\n",
    "df_cleaned['snacks'] = df_cleaned['snacks'].replace(value_dict)\n",
    "\n",
    "# Print the text explanation and count of each value in the two columns\n",
    "print(\"\\nText explanation and count of each value in 'alcohol':\")\n",
    "for key, value in value_dict.items():\n",
    "    count = df_cleaned['alcohol'].value_counts()[value]\n",
    "    print(f\"{key} ({value}): {count}\")\n",
    "\n",
    "print(\"\\nText explanation and count of each value in 'snacks':\")\n",
    "for key, value in value_dict.items():\n",
    "    count = df_cleaned['snacks'].value_counts()[value]\n",
    "    print(f\"{key} ({value}): {count}\")"
   ]
  },
  {
   "cell_type": "markdown",
   "id": "463f1ee3",
   "metadata": {},
   "source": [
    "4c. Similar to the step above, the columns _history_, _high_cal_, _smoke_, and _cal_monitor_ all share the same yes/no values.<br>\n",
    "- __Create a dictionary__ and use the dictionary to __change the yes/no to numbers 0 and 1__.<br>\n",
    "- Then __print the text explanation and the count of each value__ in the 4 columns to show that they've been changed."
   ]
  },
  {
   "cell_type": "code",
   "execution_count": 9,
   "id": "3c05c330",
   "metadata": {},
   "outputs": [
    {
     "name": "stdout",
     "output_type": "stream",
     "text": [
      "\n",
      "Text explanation and count of each value in 'history':\n",
      "no (0): 385\n",
      "yes (1): 1726\n",
      "\n",
      "Text explanation and count of each value in 'high_cal':\n",
      "no (0): 245\n",
      "yes (1): 1866\n",
      "\n",
      "Text explanation and count of each value in 'smoke':\n",
      "no (0): 2067\n",
      "yes (1): 44\n",
      "\n",
      "Text explanation and count of each value in 'cal_monitor':\n",
      "no (0): 2015\n",
      "yes (1): 96\n"
     ]
    }
   ],
   "source": [
    "# Create a dictionary to map 'yes' and 'no' values to numbers\n",
    "yes_no_dict = {'no': 0, 'yes': 1}\n",
    "\n",
    "# Change the values of history, high_cal, smoke, and cal_monitor to numbers\n",
    "columns_to_change = ['history', 'high_cal', 'smoke', 'cal_monitor']\n",
    "for col in columns_to_change:\n",
    "    df_cleaned[col] = df_cleaned[col].replace(yes_no_dict)\n",
    "\n",
    "# Print the text explanation and count of each value in the columns\n",
    "for col in columns_to_change:\n",
    "    print(f\"\\nText explanation and count of each value in '{col}':\")\n",
    "    for key, value in yes_no_dict.items():\n",
    "        count = df_cleaned[col].value_counts()[value]\n",
    "        print(f\"{key} ({value}): {count}\")"
   ]
  },
  {
   "cell_type": "markdown",
   "id": "956e8df3",
   "metadata": {},
   "source": [
    "4d. Similar to the step above, change the _transportation_ values to numbers (0,1,2...).<br>\n",
    "- __Create a dictionary__ and use the dictionary to __change the strings to numbers__.<br>\n",
    "- Then __print the count of each value__ in the _transportation_ columns."
   ]
  },
  {
   "cell_type": "code",
   "execution_count": 10,
   "id": "16302ed1",
   "metadata": {},
   "outputs": [
    {
     "name": "stdout",
     "output_type": "stream",
     "text": [
      "Count of each value in 'transportation':\n",
      "Public_Transportation (0): 1580\n",
      "Automobile (2): 457\n",
      "Walking (1): 56\n",
      "Motorbike (3): 11\n",
      "Bike (4): 7\n"
     ]
    }
   ],
   "source": [
    "# Create a dictionary to map transportation values to numbers\n",
    "transportation_dict = {\n",
    "    'Public_Transportation': 0,\n",
    "    'Walking': 1,\n",
    "    'Automobile': 2,\n",
    "    'Motorbike': 3,\n",
    "    'Bike': 4\n",
    "}\n",
    "### show the values of the transportation column first,\n",
    "### otherwise the reader doesn't know where you got it from   -1/4pt\n",
    "\n",
    "# Change the values of transportation to numbers\n",
    "df_cleaned['transportation'] = df_cleaned['transportation'].replace(transportation_dict)\n",
    "\n",
    "# Print the count of each value in the transportation column\n",
    "print(\"Count of each value in 'transportation':\")\n",
    "transportation_counts = df_cleaned['transportation'].value_counts()\n",
    "for value, count in transportation_counts.items():\n",
    "    # Reverse lookup to get the original string\n",
    "    original_value = list(transportation_dict.keys())[list(transportation_dict.values()).index(value)]\n",
    "    print(f\"{original_value} ({value}): {count}\")"
   ]
  },
  {
   "cell_type": "markdown",
   "id": "259a703d",
   "metadata": {},
   "source": [
    "4e. Last, change the _obesity_ values to numbers (0,1,2...).<br>\n",
    "- __Create a dictionary__ and use the dictionary to __change the strings to numbers__.<br>\n",
    "- Then __print the count of each value__ in the _obesity_ columns."
   ]
  },
  {
   "cell_type": "code",
   "execution_count": 11,
   "id": "1afaa3f7",
   "metadata": {},
   "outputs": [
    {
     "name": "stdout",
     "output_type": "stream",
     "text": [
      "Count of each value in 'obesity':\n",
      "Obesity_Type_I (4): 351\n",
      "Obesity_Type_III (6): 324\n",
      "Obesity_Type_II (5): 297\n",
      "Overweight_Level_I (2): 290\n",
      "Overweight_Level_II (3): 290\n",
      "Normal_Weight (1): 287\n",
      "Insufficient_Weight (0): 272\n"
     ]
    }
   ],
   "source": [
    "# Create a dictionary to map obesity values to numbers\n",
    "obesity_dict = {\n",
    "    'Insufficient_Weight': 0,\n",
    "    'Normal_Weight': 1,\n",
    "    'Overweight_Level_I': 2,\n",
    "    'Overweight_Level_II': 3,\n",
    "    'Obesity_Type_I': 4,\n",
    "    'Obesity_Type_II': 5,\n",
    "    'Obesity_Type_III': 6\n",
    "}\n",
    "### show the values of the obesity column first\n",
    "\n",
    "# Change the values of obesity to numbers\n",
    "df_cleaned['obesity'] = df_cleaned['obesity'].replace(obesity_dict)\n",
    "\n",
    "# Print the count of each value in the obesity column\n",
    "print(\"Count of each value in 'obesity':\")\n",
    "obesity_counts = df_cleaned['obesity'].value_counts()\n",
    "for value, count in obesity_counts.items():\n",
    "    # Reverse lookup to get the original string\n",
    "    original_value = list(obesity_dict.keys())[list(obesity_dict.values()).index(value)]\n",
    "    print(f\"{original_value} ({value}): {count}\")"
   ]
  },
  {
   "cell_type": "markdown",
   "id": "cdf7116c",
   "metadata": {},
   "source": [
    "4f. __Show the first 5 lines of the DataFrame__ to see all the changes."
   ]
  },
  {
   "cell_type": "code",
   "execution_count": 12,
   "id": "3998a44e",
   "metadata": {},
   "outputs": [
    {
     "name": "stdout",
     "output_type": "stream",
     "text": [
      "\n",
      "First 5 lines of the DataFrame:\n"
     ]
    },
    {
     "data": {
      "text/html": [
       "<div>\n",
       "<style scoped>\n",
       "    .dataframe tbody tr th:only-of-type {\n",
       "        vertical-align: middle;\n",
       "    }\n",
       "\n",
       "    .dataframe tbody tr th {\n",
       "        vertical-align: top;\n",
       "    }\n",
       "\n",
       "    .dataframe thead th {\n",
       "        text-align: right;\n",
       "    }\n",
       "</style>\n",
       "<table border=\"1\" class=\"dataframe\">\n",
       "  <thead>\n",
       "    <tr style=\"text-align: right;\">\n",
       "      <th></th>\n",
       "      <th>gender</th>\n",
       "      <th>age</th>\n",
       "      <th>height</th>\n",
       "      <th>weight</th>\n",
       "      <th>history</th>\n",
       "      <th>high_cal</th>\n",
       "      <th>vegetables</th>\n",
       "      <th>num_meals</th>\n",
       "      <th>snacks</th>\n",
       "      <th>smoke</th>\n",
       "      <th>water</th>\n",
       "      <th>cal_monitor</th>\n",
       "      <th>activities</th>\n",
       "      <th>dev_time</th>\n",
       "      <th>alcohol</th>\n",
       "      <th>transportation</th>\n",
       "      <th>obesity</th>\n",
       "    </tr>\n",
       "  </thead>\n",
       "  <tbody>\n",
       "    <tr>\n",
       "      <th>0</th>\n",
       "      <td>0</td>\n",
       "      <td>21.0</td>\n",
       "      <td>1.62</td>\n",
       "      <td>64.0</td>\n",
       "      <td>1</td>\n",
       "      <td>0</td>\n",
       "      <td>2.0</td>\n",
       "      <td>3.0</td>\n",
       "      <td>1</td>\n",
       "      <td>0</td>\n",
       "      <td>2.0</td>\n",
       "      <td>0</td>\n",
       "      <td>0.0</td>\n",
       "      <td>1.0</td>\n",
       "      <td>0</td>\n",
       "      <td>0</td>\n",
       "      <td>1</td>\n",
       "    </tr>\n",
       "    <tr>\n",
       "      <th>1</th>\n",
       "      <td>0</td>\n",
       "      <td>21.0</td>\n",
       "      <td>1.52</td>\n",
       "      <td>56.0</td>\n",
       "      <td>1</td>\n",
       "      <td>0</td>\n",
       "      <td>3.0</td>\n",
       "      <td>3.0</td>\n",
       "      <td>1</td>\n",
       "      <td>1</td>\n",
       "      <td>3.0</td>\n",
       "      <td>1</td>\n",
       "      <td>3.0</td>\n",
       "      <td>0.0</td>\n",
       "      <td>1</td>\n",
       "      <td>0</td>\n",
       "      <td>1</td>\n",
       "    </tr>\n",
       "    <tr>\n",
       "      <th>2</th>\n",
       "      <td>1</td>\n",
       "      <td>23.0</td>\n",
       "      <td>1.80</td>\n",
       "      <td>77.0</td>\n",
       "      <td>1</td>\n",
       "      <td>0</td>\n",
       "      <td>2.0</td>\n",
       "      <td>3.0</td>\n",
       "      <td>1</td>\n",
       "      <td>0</td>\n",
       "      <td>2.0</td>\n",
       "      <td>0</td>\n",
       "      <td>2.0</td>\n",
       "      <td>1.0</td>\n",
       "      <td>2</td>\n",
       "      <td>0</td>\n",
       "      <td>1</td>\n",
       "    </tr>\n",
       "    <tr>\n",
       "      <th>3</th>\n",
       "      <td>1</td>\n",
       "      <td>27.0</td>\n",
       "      <td>1.80</td>\n",
       "      <td>87.0</td>\n",
       "      <td>0</td>\n",
       "      <td>0</td>\n",
       "      <td>3.0</td>\n",
       "      <td>3.0</td>\n",
       "      <td>1</td>\n",
       "      <td>0</td>\n",
       "      <td>2.0</td>\n",
       "      <td>0</td>\n",
       "      <td>2.0</td>\n",
       "      <td>0.0</td>\n",
       "      <td>2</td>\n",
       "      <td>1</td>\n",
       "      <td>2</td>\n",
       "    </tr>\n",
       "    <tr>\n",
       "      <th>4</th>\n",
       "      <td>1</td>\n",
       "      <td>22.0</td>\n",
       "      <td>1.78</td>\n",
       "      <td>89.8</td>\n",
       "      <td>0</td>\n",
       "      <td>0</td>\n",
       "      <td>2.0</td>\n",
       "      <td>1.0</td>\n",
       "      <td>1</td>\n",
       "      <td>0</td>\n",
       "      <td>2.0</td>\n",
       "      <td>0</td>\n",
       "      <td>0.0</td>\n",
       "      <td>0.0</td>\n",
       "      <td>1</td>\n",
       "      <td>0</td>\n",
       "      <td>3</td>\n",
       "    </tr>\n",
       "  </tbody>\n",
       "</table>\n",
       "</div>"
      ],
      "text/plain": [
       "   gender   age  height  weight  history  high_cal  vegetables  num_meals  \\\n",
       "0       0  21.0    1.62    64.0        1         0         2.0        3.0   \n",
       "1       0  21.0    1.52    56.0        1         0         3.0        3.0   \n",
       "2       1  23.0    1.80    77.0        1         0         2.0        3.0   \n",
       "3       1  27.0    1.80    87.0        0         0         3.0        3.0   \n",
       "4       1  22.0    1.78    89.8        0         0         2.0        1.0   \n",
       "\n",
       "   snacks  smoke  water  cal_monitor  activities  dev_time  alcohol  \\\n",
       "0       1      0    2.0            0         0.0       1.0        0   \n",
       "1       1      1    3.0            1         3.0       0.0        1   \n",
       "2       1      0    2.0            0         2.0       1.0        2   \n",
       "3       1      0    2.0            0         2.0       0.0        2   \n",
       "4       1      0    2.0            0         0.0       0.0        1   \n",
       "\n",
       "   transportation  obesity  \n",
       "0               0        1  \n",
       "1               0        1  \n",
       "2               0        1  \n",
       "3               1        2  \n",
       "4               0        3  "
      ]
     },
     "metadata": {},
     "output_type": "display_data"
    }
   ],
   "source": [
    "print(\"\\nFirst 5 lines of the DataFrame:\")\n",
    "display(df_cleaned.head())"
   ]
  },
  {
   "cell_type": "markdown",
   "id": "d995ea81",
   "metadata": {},
   "source": [
    "5. Analysis: Is data balanced or not?\n",
    "- __Create a plot with 3 subplots__ to show whether the data is balanced for _gender_, _age_, and _obesity_.<br>\n",
    "-- Choose the appropriate type of plot so that you can conclude whether data is balanced by referring to the plots.<br>\n",
    "-- Use a loop for the 3 subplots, don't copy and paste code 3 times.\n",
    "- Then __Create a RawNB Convert cell to explain your conclusion__."
   ]
  },
  {
   "cell_type": "code",
   "execution_count": 13,
   "id": "e13fcd59",
   "metadata": {},
   "outputs": [
    {
     "name": "stderr",
     "output_type": "stream",
     "text": [
      "/Users/aryan/anaconda3/lib/python3.10/site-packages/seaborn/_oldcore.py:1119: FutureWarning: use_inf_as_na option is deprecated and will be removed in a future version. Convert inf values to NaN before operating instead.\n",
      "  with pd.option_context('mode.use_inf_as_na', True):\n"
     ]
    },
    {
     "data": {
      "image/png": "[encoded data removed]",
      "text/plain": [
       "<Figure size 1800x600 with 3 Axes>"
      ]
     },
     "metadata": {},
     "output_type": "display_data"
    }
   ],
   "source": [
    "# Create the subplots\n",
    "fig, axes = plt.subplots(1, 3, figsize=(18, 6))\n",
    "\n",
    "# Define the columns to plot and their titles\n",
    "columns_to_plot = ['gender', 'age', 'obesity']\n",
    "titles = ['Gender Distribution', 'Age Distribution', 'Obesity Distribution']\n",
    "\n",
    "for i, col in enumerate(columns_to_plot):\n",
    "    if col == 'age':\n",
    "        sns.histplot(df_cleaned[col], kde=False, ax=axes[i])\n",
    "    else:\n",
    "        sns.countplot(x=df_cleaned[col], ax=axes[i])\n",
    "    axes[i].set_title(titles[i])\n",
    "\n",
    "plt.tight_layout()\n",
    "plt.show()"
   ]
  },
  {
   "cell_type": "raw",
   "id": "e78ae02a",
   "metadata": {
    "vscode": {
     "languageId": "raw"
    }
   },
   "source": [
    "Conclusion:\n",
    "\n",
    "Based on the plots:\n",
    "1. Gender Distribution: The bars for male and female are approximately the same heigh so the gender data is balanced.\n",
    "2. Age Distribution: A balanced age distribution would show a relatively uniform distribution across different age groups. There are significant peaks and gaps, with it spiking between late teens to mid 20s and dipping significantly from late 20s to 60.\n",
    "3. Obesity Distribution: The type 4 instance is significantly more than the rest of the data, indicating an unblanced dataset."
   ]
  },
  {
   "cell_type": "code",
   "execution_count": 14,
   "id": "f575cb7c",
   "metadata": {},
   "outputs": [],
   "source": [
    "### obesity is considered balance. In a large dataset, the count of each category is only\n",
    "### expected to be close to be balanced"
   ]
  },
  {
   "cell_type": "markdown",
   "id": "0f353028",
   "metadata": {},
   "source": [
    "---"
   ]
  },
  {
   "cell_type": "markdown",
   "id": "e7aa2d48",
   "metadata": {},
   "source": [
    "#### Part 2: ML model to predict obesity level\n",
    "Choose and train an ML model to predict the obesity level, given all the other features."
   ]
  },
  {
   "cell_type": "markdown",
   "id": "86140396",
   "metadata": {},
   "source": [
    "5a. Use the dictionary you created in step 4e to print the different obesity level (original text strings).<br>\n",
    "The ML model you choose will predict one of the levels, given all other features in the dataset."
   ]
  },
  {
   "cell_type": "code",
   "execution_count": 15,
   "id": "1ee2f4eb",
   "metadata": {},
   "outputs": [
    {
     "name": "stdout",
     "output_type": "stream",
     "text": [
      "Different obesity levels:\n",
      "0: Insufficient_Weight\n",
      "1: Normal_Weight\n",
      "2: Overweight_Level_I\n",
      "3: Overweight_Level_II\n",
      "4: Obesity_Type_I\n",
      "5: Obesity_Type_II\n",
      "6: Obesity_Type_III\n"
     ]
    }
   ],
   "source": [
    "print(\"Different obesity levels:\")\n",
    "for level, number in obesity_dict.items():\n",
    "    print(f\"{number}: {level}\")"
   ]
  },
  {
   "cell_type": "markdown",
   "id": "af66bbf2",
   "metadata": {},
   "source": [
    "5b. Create 3 Code cells to do the following 3 steps to train and test an appropriate ML model and show its accuracy.\n",
    "- Code cell 1: __Create the X and y datasets__ and __print the shape of each set__.\n",
    "- Code cell 2: __Create the train and test sets__, __choose an <u>appropriate</u> ML model__ from the ones we've discussed in class, and __train the model__.\n",
    "- Code cell 3: __Test the model and show the accuracy__ of the model, using all the accuracy measurements that we discussed in class for the model.\n",
    "\n",
    "If an accuracy measurement is a float, show the value with _2 digits after the decimal point_.<br>\n",
    "And show the accuracy measurements with text explanation."
   ]
  },
  {
   "cell_type": "code",
   "execution_count": 16,
   "id": "e4e431bd",
   "metadata": {},
   "outputs": [
    {
     "name": "stdout",
     "output_type": "stream",
     "text": [
      "Shape of X (features): (2111, 16)\n",
      "Shape of y (labels): (2111,)\n"
     ]
    }
   ],
   "source": [
    "from sklearn.model_selection import train_test_split\n",
    "from sklearn.preprocessing import StandardScaler\n",
    "from sklearn.tree import DecisionTreeClassifier\n",
    "\n",
    "# Split the data into features and labels\n",
    "X = df_cleaned.drop('obesity', axis=1)\n",
    "y = df_cleaned['obesity']\n",
    "\n",
    "# Print the shape of X and y\n",
    "print(\"Shape of X (features):\", X.shape)\n",
    "print(\"Shape of y (labels):\", y.shape)\n",
    "\n",
    "\n",
    "\n"
   ]
  },
  {
   "cell_type": "code",
   "execution_count": 17,
   "id": "6389ce5d",
   "metadata": {},
   "outputs": [
    {
     "data": {
      "text/html": [
       "<style>#sk-container-id-1 {color: black;background-color: white;}#sk-container-id-1 pre{padding: 0;}#sk-container-id-1 div.sk-toggleable {background-color: white;}#sk-container-id-1 label.sk-toggleable__label {cursor: pointer;display: block;width: 100%;margin-bottom: 0;padding: 0.3em;box-sizing: border-box;text-align: center;}#sk-container-id-1 label.sk-toggleable__label-arrow:before {content: \"▸\";float: left;margin-right: 0.25em;color: #696969;}#sk-container-id-1 label.sk-toggleable__label-arrow:hover:before {color: black;}#sk-container-id-1 div.sk-estimator:hover label.sk-toggleable__label-arrow:before {color: black;}#sk-container-id-1 div.sk-toggleable__content {max-height: 0;max-width: 0;overflow: hidden;text-align: left;background-color: #f0f8ff;}#sk-container-id-1 div.sk-toggleable__content pre {margin: 0.2em;color: black;border-radius: 0.25em;background-color: #f0f8ff;}#sk-container-id-1 input.sk-toggleable__control:checked~div.sk-toggleable__content {max-height: 200px;max-width: 100%;overflow: auto;}#sk-container-id-1 input.sk-toggleable__control:checked~label.sk-toggleable__label-arrow:before {content: \"▾\";}#sk-container-id-1 div.sk-estimator input.sk-toggleable__control:checked~label.sk-toggleable__label {background-color: #d4ebff;}#sk-container-id-1 div.sk-label input.sk-toggleable__control:checked~label.sk-toggleable__label {background-color: #d4ebff;}#sk-container-id-1 input.sk-hidden--visually {border: 0;clip: rect(1px 1px 1px 1px);clip: rect(1px, 1px, 1px, 1px);height: 1px;margin: -1px;overflow: hidden;padding: 0;position: absolute;width: 1px;}#sk-container-id-1 div.sk-estimator {font-family: monospace;background-color: #f0f8ff;border: 1px dotted black;border-radius: 0.25em;box-sizing: border-box;margin-bottom: 0.5em;}#sk-container-id-1 div.sk-estimator:hover {background-color: #d4ebff;}#sk-container-id-1 div.sk-parallel-item::after {content: \"\";width: 100%;border-bottom: 1px solid gray;flex-grow: 1;}#sk-container-id-1 div.sk-label:hover label.sk-toggleable__label {background-color: #d4ebff;}#sk-container-id-1 div.sk-serial::before {content: \"\";position: absolute;border-left: 1px solid gray;box-sizing: border-box;top: 0;bottom: 0;left: 50%;z-index: 0;}#sk-container-id-1 div.sk-serial {display: flex;flex-direction: column;align-items: center;background-color: white;padding-right: 0.2em;padding-left: 0.2em;position: relative;}#sk-container-id-1 div.sk-item {position: relative;z-index: 1;}#sk-container-id-1 div.sk-parallel {display: flex;align-items: stretch;justify-content: center;background-color: white;position: relative;}#sk-container-id-1 div.sk-item::before, #sk-container-id-1 div.sk-parallel-item::before {content: \"\";position: absolute;border-left: 1px solid gray;box-sizing: border-box;top: 0;bottom: 0;left: 50%;z-index: -1;}#sk-container-id-1 div.sk-parallel-item {display: flex;flex-direction: column;z-index: 1;position: relative;background-color: white;}#sk-container-id-1 div.sk-parallel-item:first-child::after {align-self: flex-end;width: 50%;}#sk-container-id-1 div.sk-parallel-item:last-child::after {align-self: flex-start;width: 50%;}#sk-container-id-1 div.sk-parallel-item:only-child::after {width: 0;}#sk-container-id-1 div.sk-dashed-wrapped {border: 1px dashed gray;margin: 0 0.4em 0.5em 0.4em;box-sizing: border-box;padding-bottom: 0.4em;background-color: white;}#sk-container-id-1 div.sk-label label {font-family: monospace;font-weight: bold;display: inline-block;line-height: 1.2em;}#sk-container-id-1 div.sk-label-container {text-align: center;}#sk-container-id-1 div.sk-container {/* jupyter's `normalize.less` sets `[hidden] { display: none; }` but bootstrap.min.css set `[hidden] { display: none !important; }` so we also need the `!important` here to be able to override the default hidden behavior on the sphinx rendered scikit-learn.org. See: https://github.com/scikit-learn/scikit-learn/issues/21755 */display: inline-block !important;position: relative;}#sk-container-id-1 div.sk-text-repr-fallback {display: none;}</style><div id=\"sk-container-id-1\" class=\"sk-top-container\"><div class=\"sk-text-repr-fallback\"><pre>DecisionTreeClassifier(random_state=42)</pre><b>In a Jupyter environment, please rerun this cell to show the HTML representation or trust the notebook. <br />On GitHub, the HTML representation is unable to render, please try loading this page with nbviewer.org.</b></div><div class=\"sk-container\" hidden><div class=\"sk-item\"><div class=\"sk-estimator sk-toggleable\"><input class=\"sk-toggleable__control sk-hidden--visually\" id=\"sk-estimator-id-1\" type=\"checkbox\" checked><label for=\"sk-estimator-id-1\" class=\"sk-toggleable__label sk-toggleable__label-arrow\">DecisionTreeClassifier</label><div class=\"sk-toggleable__content\"><pre>DecisionTreeClassifier(random_state=42)</pre></div></div></div></div></div>"
      ],
      "text/plain": [
       "DecisionTreeClassifier(random_state=42)"
      ]
     },
     "execution_count": 17,
     "metadata": {},
     "output_type": "execute_result"
    }
   ],
   "source": [
    "\n",
    "# Split the data into training and testing sets\n",
    "X_train, X_test, y_train, y_test = train_test_split(X, y, test_size=0.2, random_state=42)\n",
    "\n",
    "# Standardize the features\n",
    "scaler = StandardScaler()\n",
    "X_train = scaler.fit_transform(X_train)\n",
    "X_test = scaler.transform(X_test)\n",
    "### don't need\n",
    "\n",
    "# Choose and train the ML model (e.g., Decision Tree Classifier)\n",
    "model = DecisionTreeClassifier(random_state=42)\n",
    "model.fit(X_train, y_train)"
   ]
  },
  {
   "cell_type": "code",
   "execution_count": 18,
   "id": "813bd004",
   "metadata": {},
   "outputs": [
    {
     "name": "stdout",
     "output_type": "stream",
     "text": [
      "Model Evaluation Metrics:\n",
      "Accuracy: 0.94\n",
      "Precision: 0.94\n",
      "Recall: 0.94\n",
      "F1 Score: 0.94\n",
      "\n",
      "Classification Report:\n",
      "                     precision    recall  f1-score   support\n",
      "\n",
      "Insufficient_Weight       0.90      0.98      0.94        56\n",
      "      Normal_Weight       0.90      0.85      0.88        62\n",
      " Overweight_Level_I       0.91      0.93      0.92        56\n",
      "Overweight_Level_II       0.96      0.96      0.96        50\n",
      "     Obesity_Type_I       0.96      0.92      0.94        78\n",
      "    Obesity_Type_II       0.95      0.95      0.95        58\n",
      "   Obesity_Type_III       1.00      1.00      1.00        63\n",
      "\n",
      "           accuracy                           0.94       423\n",
      "          macro avg       0.94      0.94      0.94       423\n",
      "       weighted avg       0.94      0.94      0.94       423\n",
      "\n",
      "[[55  1  0  0  0  0  0]\n",
      " [ 6 53  3  0  0  0  0]\n",
      " [ 0  4 52  0  0  0  0]\n",
      " [ 0  0  2 48  0  0  0]\n",
      " [ 0  1  0  2 72  3  0]\n",
      " [ 0  0  0  0  3 55  0]\n",
      " [ 0  0  0  0  0  0 63]]\n"
     ]
    }
   ],
   "source": [
    "from sklearn.metrics import classification_report, accuracy_score, precision_score, recall_score, f1_score\n",
    "from sklearn.metrics import accuracy_score, confusion_matrix\n",
    "\n",
    "# Make predictions on the test set\n",
    "y_pred = model.predict(X_test)\n",
    "\n",
    "# Evaluate the model\n",
    "accuracy = accuracy_score(y_test, y_pred)\n",
    "precision = precision_score(y_test, y_pred, average='weighted')\n",
    "recall = recall_score(y_test, y_pred, average='weighted')\n",
    "f1 = f1_score(y_test, y_pred, average='weighted')\n",
    "\n",
    "# Print the accuracy measurements\n",
    "print(\"Model Evaluation Metrics:\")\n",
    "print(f\"Accuracy: {accuracy:.2f}\")\n",
    "print(f\"Precision: {precision:.2f}\")\n",
    "print(f\"Recall: {recall:.2f}\")\n",
    "print(f\"F1 Score: {f1:.2f}\")\n",
    "\n",
    "# Detailed classification report\n",
    "print(\"\\nClassification Report:\")\n",
    "print(classification_report(y_test, y_pred, target_names=list(obesity_dict.keys())))\n",
    "print(confusion_matrix(y_test, y_pred))"
   ]
  },
  {
   "cell_type": "code",
   "execution_count": 19,
   "id": "db454527",
   "metadata": {},
   "outputs": [],
   "source": [
    "### show confusion matrix   -1.5pts"
   ]
  },
  {
   "cell_type": "markdown",
   "id": "cfda7b7d",
   "metadata": {},
   "source": [
    "5c. Using the <u>same</u> train and test data as the model above:\n",
    "- __Choose all the other <u>appropriate</u> ML models that we've discussed__.<br>\n",
    "- __Test and train each model, then show the same accuracy measurements__ as the model of step 5a.\n",
    "\n",
    "You'll want at least one Code cell for each model that you choose.<br>\n",
    "Put the name of each ML model that you work with in the Code cell."
   ]
  },
  {
   "cell_type": "code",
   "execution_count": 20,
   "id": "a44f55a9",
   "metadata": {},
   "outputs": [
    {
     "name": "stdout",
     "output_type": "stream",
     "text": [
      "Logistic Regression Model Evaluation Metrics:\n",
      "Accuracy: 0.88\n",
      "Precision: 0.88\n",
      "Recall: 0.88\n",
      "F1 Score: 0.88\n",
      "\n",
      "Classification Report:\n",
      "                     precision    recall  f1-score   support\n",
      "\n",
      "Insufficient_Weight       0.88      1.00      0.93        56\n",
      "      Normal_Weight       0.89      0.65      0.75        62\n",
      " Overweight_Level_I       0.73      0.79      0.76        56\n",
      "Overweight_Level_II       0.81      0.86      0.83        50\n",
      "     Obesity_Type_I       0.93      0.90      0.92        78\n",
      "    Obesity_Type_II       0.89      0.97      0.93        58\n",
      "   Obesity_Type_III       1.00      1.00      1.00        63\n",
      "\n",
      "           accuracy                           0.88       423\n",
      "          macro avg       0.88      0.88      0.87       423\n",
      "       weighted avg       0.88      0.88      0.88       423\n",
      "\n"
     ]
    }
   ],
   "source": [
    "from sklearn.linear_model import LogisticRegression\n",
    "\n",
    "### this is not a regression problem   -2pts\n",
    "### and logistic regression is not a model we've discussed in class   -1pt\n",
    "# Logistic Regression\n",
    "model_lr = LogisticRegression(max_iter=1000, random_state=42)\n",
    "model_lr.fit(X_train, y_train)\n",
    "\n",
    "# Make predictions on the test set\n",
    "y_pred_lr = model_lr.predict(X_test)\n",
    "\n",
    "# Evaluate the model\n",
    "accuracy_lr = accuracy_score(y_test, y_pred_lr)\n",
    "precision_lr = precision_score(y_test, y_pred_lr, average='weighted')\n",
    "recall_lr = recall_score(y_test, y_pred_lr, average='weighted')\n",
    "f1_lr = f1_score(y_test, y_pred_lr, average='weighted')\n",
    "\n",
    "# Print the accuracy measurements\n",
    "print(\"Logistic Regression Model Evaluation Metrics:\")\n",
    "print(f\"Accuracy: {accuracy_lr:.2f}\")\n",
    "print(f\"Precision: {precision_lr:.2f}\")\n",
    "print(f\"Recall: {recall_lr:.2f}\")\n",
    "print(f\"F1 Score: {f1_lr:.2f}\")\n",
    "\n",
    "# Detailed classification report\n",
    "print(\"\\nClassification Report:\")\n",
    "print(classification_report(y_test, y_pred_lr, target_names=list(obesity_dict.keys())))\n"
   ]
  },
  {
   "cell_type": "code",
   "execution_count": 21,
   "id": "08f4ba97",
   "metadata": {},
   "outputs": [
    {
     "ename": "",
     "evalue": "",
     "output_type": "error",
     "traceback": [
      "\u001b[1;31mThe Kernel crashed while executing code in the current cell or a previous cell. \n",
      "\u001b[1;31mPlease review the code in the cell(s) to identify a possible cause of the failure. \n",
      "\u001b[1;31mClick <a href='https://aka.ms/vscodeJupyterKernelCrash'>here</a> for more info. \n",
      "\u001b[1;31mView Jupyter <a href='command:jupyter.viewOutput'>log</a> for further details."
     ]
    }
   ],
   "source": [
    "### need to work with KNN model -1pt, GaussianNB  -1pt"
   ]
  },
  {
   "cell_type": "code",
   "execution_count": 22,
   "id": "9120e35b",
   "metadata": {},
   "outputs": [],
   "source": [
    "import pandas as pd\n",
    "from sklearn.model_selection import train_test_split\n",
    "from sklearn.preprocessing import StandardScaler, OneHotEncoder\n",
    "from sklearn.compose import ColumnTransformer\n",
    "from sklearn.pipeline import Pipeline\n",
    "from sklearn.neighbors import KNeighborsClassifier\n",
    "from sklearn.metrics import accuracy_score, precision_score, recall_score, f1_score, classification_report\n",
    "import matplotlib.pyplot as plt\n",
    "\n",
    "# Assuming df_cleaned is already defined and cleaned\n",
    "# Replace df_cleaned with your DataFrame variable if named differently\n",
    "X = df_cleaned.drop('obesity', axis=1)\n",
    "y = df_cleaned['obesity']\n",
    "\n",
    "# Print the shape of X and y\n",
    "print(\"Shape of X (features):\", X.shape)\n",
    "print(\"Shape of y (labels):\", y.shape)\n",
    "\n",
    "# Split the data into training and testing sets\n",
    "X_train, X_test, y_train, y_test = train_test_split(X, y, test_size=0.2, random_state=42)\n",
    "\n",
    "# Identify categorical columns\n",
    "categorical_cols = X.select_dtypes(include=['object']).columns\n",
    "numerical_cols = X.select_dtypes(include=['number']).columns\n",
    "\n",
    "# Preprocessing pipeline for numerical data (scaling)\n",
    "numerical_transformer = StandardScaler()\n",
    "\n",
    "# Preprocessing pipeline for categorical data (one-hot encoding)\n",
    "categorical_transformer = OneHotEncoder(handle_unknown='ignore')\n",
    "\n",
    "# Combine preprocessing steps\n",
    "preprocessor = ColumnTransformer(\n",
    "    transformers=[\n",
    "        ('num', numerical_transformer, numerical_cols),\n",
    "        ('cat', categorical_transformer, categorical_cols)\n",
    "    ])\n",
    "\n",
    "# Create a preprocessing and modeling pipeline\n",
    "knn_pipeline = Pipeline(steps=[('preprocessor', preprocessor),\n",
    "                               ('knn', KNeighborsClassifier())])\n",
    "\n",
    "# List to store the error rates for different k values\n",
    "error_rates = []\n",
    "\n",
    "# Range of k values to test\n",
    "k_values = range(1, 31)\n",
    "\n",
    "for k in k_values:\n",
    "    # Update the KNN model with the current k value\n",
    "    knn_pipeline.set_params(knn__n_neighbors=k)\n",
    "    \n",
    "    # Train the model\n",
    "    knn_pipeline.fit(X_train, y_train)\n",
    "    \n",
    "    # Make predictions on the test set\n",
    "    y_pred = knn_pipeline.predict(X_test)\n",
    "    \n",
    "    # Calculate error rate (1 - accuracy)\n",
    "    error_rate = 1 - accuracy_score(y_test, y_pred)\n",
    "    error_rates.append(error_rate)\n",
    "    \n",
    "    # Evaluate the model\n",
    "    accuracy = accuracy_score(y_test, y_pred)\n",
    "    precision = precision_score(y_test, y_pred, average='weighted')\n",
    "    recall = recall_score(y_test, y_pred, average='weighted')\n",
    "    f1 = f1_score(y_test, y_pred, average='weighted')\n",
    "    \n",
    "    print(f\"\\nK={k} Model Evaluation Metrics:\")\n",
    "    print(f\"Accuracy: {accuracy:.2f}\")\n",
    "    print(f\"Precision: {precision:.2f}\")\n",
    "    print(f\"Recall: {recall:.2f}\")\n",
    "    print(f\"F1 Score: {f1:.2f}\")\n",
    "    print(\"\\nClassification Report:\")\n",
    "    print(classification_report(y_test, y_pred))\n",
    "\n",
    "# Plot the error rates\n",
    "plt.figure(figsize=(10, 6))\n",
    "plt.plot(k_values, error_rates, marker='o', linestyle='dashed', color='b')\n",
    "plt.xlabel('K Value')\n",
    "plt.ylabel('Error Rate')\n",
    "plt.title('Error Rate vs. K Value')\n",
    "plt.show()\n"
   ]
  },
  {
   "cell_type": "markdown",
   "id": "abd306a5",
   "metadata": {},
   "source": [
    "5d. Conclusion:<br>\n",
    "Which of the models that you've tested would you use to predict obesity level, given similar new data? Why?<br>\n",
    "__Create a RawNB Convert cell for your answer__."
   ]
  },
  {
   "cell_type": "raw",
   "id": "3ee36224",
   "metadata": {
    "vscode": {
     "languageId": "raw"
    }
   },
   "source": [
    "After testing multiple models, I would choose the Decision Tree model to predict obesity levels given similar new data. The Decision Tree model provides the highest accuracy, precision, recall, and F1 score, making it a robust choice for this classification task. Additionally, Decision Trees are easy to interpret and understand, which can be beneficial for understanding the importance of different features.\n",
    "\n",
    "Decision Tree Model Evaluation Metrics:\n",
    "- Accuracy: 0.94\n",
    "- Precision: 0.94\n",
    "- Recall: 0.94\n",
    "- F1 Score: 0.94\n",
    "\n",
    "These metrics indicate that the Decision Tree model performs consistently across different evaluation criteria, making it a reliable choice for predicting obesity levels."
   ]
  },
  {
   "cell_type": "markdown",
   "id": "47334e04",
   "metadata": {},
   "source": [
    "5e. Further analysis:\n",
    "For one of the models, we discussed in class how to find the key features that the model relies on to make its prediction.<br>\n",
    "- __Re-create this model and train it__\n",
    "- Then __show the features and how much influence each feature has on the model__."
   ]
  },
  {
   "cell_type": "code",
   "execution_count": null,
   "id": "00551dd2",
   "metadata": {},
   "outputs": [
    {
     "data": {
      "image/png": "[encoded data removed]",
      "text/plain": [
       "<Figure size 1200x800 with 1 Axes>"
      ]
     },
     "metadata": {},
     "output_type": "display_data"
    },
    {
     "name": "stdout",
     "output_type": "stream",
     "text": [
      "Feature importances:\n",
      "weight: 0.48\n",
      "height: 0.22\n",
      "gender: 0.16\n",
      "age: 0.04\n",
      "high_cal: 0.03\n",
      "alcohol: 0.02\n",
      "vegetables: 0.01\n",
      "num_meals: 0.01\n",
      "snacks: 0.01\n",
      "water: 0.01\n",
      "dev_time: 0.00\n",
      "transportation: 0.00\n",
      "history: 0.00\n",
      "smoke: 0.00\n",
      "activities: 0.00\n",
      "cal_monitor: 0.00\n"
     ]
    }
   ],
   "source": [
    "import numpy as np\n",
    "\n",
    "# Split the data into features and labels\n",
    "X = df_cleaned.drop('obesity', axis=1)\n",
    "y = df_cleaned['obesity']\n",
    "\n",
    "# Split the data into training and testing sets\n",
    "X_train, X_test, y_train, y_test = train_test_split(X, y, test_size=0.2, random_state=42)\n",
    "\n",
    "# Standardize the features\n",
    "scaler = StandardScaler()\n",
    "X_train = scaler.fit_transform(X_train)\n",
    "X_test = scaler.transform(X_test)\n",
    "\n",
    "# Train the Decision Tree model\n",
    "model_dt = DecisionTreeClassifier(random_state=42)\n",
    "model_dt.fit(X_train, y_train)\n",
    "\n",
    "# Show feature importance\n",
    "feature_importances = model_dt.feature_importances_\n",
    "features = df_cleaned.drop('obesity', axis=1).columns\n",
    "\n",
    "# Plot feature importances\n",
    "indices = np.argsort(feature_importances)[::-1]\n",
    "plt.figure(figsize=(12, 8))\n",
    "plt.title(\"Feature Importance\")\n",
    "plt.bar(range(X.shape[1]), feature_importances[indices], align='center')\n",
    "plt.xticks(range(X.shape[1]), features[indices], rotation=90)\n",
    "plt.xlim([-1, X.shape[1]])\n",
    "plt.show()\n",
    "\n",
    "# Print feature importances\n",
    "print(\"Feature importances:\")\n",
    "for i in indices:\n",
    "    print(f\"{features[i]}: {feature_importances[i]:.2f}\")"
   ]
  },
  {
   "cell_type": "markdown",
   "id": "99a880d5",
   "metadata": {},
   "source": [
    "5f. __Find the top key feature__ from the output of step 5d,<br>\n",
    "then __create a plot to showing the correlation between the top key feature and the obesity level__.\n",
    "\n",
    "The plot axis label should show the obesity level as strings (just like in step 5a), and the strings should not overlap each other."
   ]
  },
  {
   "cell_type": "code",
   "execution_count": null,
   "id": "8ed96f61",
   "metadata": {},
   "outputs": [
    {
     "data": {
      "image/png": "[encoded data removed]",
      "text/plain": [
       "<Figure size 1000x600 with 1 Axes>"
      ]
     },
     "metadata": {},
     "output_type": "display_data"
    }
   ],
   "source": [
    "reverse_obesity_dict = {v: k for k, v in obesity_dict.items()}\n",
    "df_cleaned['obesity_label'] = df_cleaned['obesity'].map(reverse_obesity_dict)\n",
    "\n",
    "# Create the plot\n",
    "plt.figure(figsize=(10, 6))\n",
    "sns.boxplot(x='obesity_label', y='weight', data=df_cleaned, palette='Set3')\n",
    "plt.xticks(rotation=45, ha='right')\n",
    "plt.xlabel(\"Obesity Level\")\n",
    "plt.ylabel(\"Weight\")\n",
    "plt.title(\"Correlation between Weight and Obesity Level\")\n",
    "plt.show()"
   ]
  },
  {
   "cell_type": "markdown",
   "id": "158fc2a0",
   "metadata": {},
   "source": [
    "5g. Observing the output of step 5f, does it make sense that the model chose this particular feature as the top key feature?<br>\n",
    "__Creat a RawNB Convert cell for your answer__."
   ]
  },
  {
   "cell_type": "raw",
   "id": "7feab760",
   "metadata": {
    "vscode": {
     "languageId": "raw"
    }
   },
   "source": [
    "Observing the output of step 5f, it does make sense that the model chose `weight` as the top key feature for predicting obesity levels. The boxplot clearly shows a strong correlation between weight and the different obesity levels. As the weight increases, the obesity level generally increases, which aligns with the understanding that higher weight is a significant indicator of higher obesity levels. This strong and clear pattern validates why the model identified weight as the most influential feature in predicting obesity."
   ]
  },
  {
   "cell_type": "markdown",
   "id": "8b6e23d4",
   "metadata": {},
   "source": [
    "---"
   ]
  },
  {
   "cell_type": "markdown",
   "id": "8e699332",
   "metadata": {},
   "source": [
    "#### Part 3: ML model to predict the height\n",
    "Choose and train an ML model to predict the height of a person, given all the other features."
   ]
  },
  {
   "cell_type": "markdown",
   "id": "600a4c06",
   "metadata": {},
   "source": [
    "6a. __Show the first 5 rows of the DataFrame__ for reference."
   ]
  },
  {
   "cell_type": "code",
   "execution_count": null,
   "id": "37610c1e",
   "metadata": {
    "scrolled": true
   },
   "outputs": [
    {
     "data": {
      "text/html": [
       "<div>\n",
       "<style scoped>\n",
       "    .dataframe tbody tr th:only-of-type {\n",
       "        vertical-align: middle;\n",
       "    }\n",
       "\n",
       "    .dataframe tbody tr th {\n",
       "        vertical-align: top;\n",
       "    }\n",
       "\n",
       "    .dataframe thead th {\n",
       "        text-align: right;\n",
       "    }\n",
       "</style>\n",
       "<table border=\"1\" class=\"dataframe\">\n",
       "  <thead>\n",
       "    <tr style=\"text-align: right;\">\n",
       "      <th></th>\n",
       "      <th>gender</th>\n",
       "      <th>age</th>\n",
       "      <th>height</th>\n",
       "      <th>weight</th>\n",
       "      <th>history</th>\n",
       "      <th>high_cal</th>\n",
       "      <th>vegetables</th>\n",
       "      <th>num_meals</th>\n",
       "      <th>snacks</th>\n",
       "      <th>smoke</th>\n",
       "      <th>water</th>\n",
       "      <th>cal_monitor</th>\n",
       "      <th>activities</th>\n",
       "      <th>dev_time</th>\n",
       "      <th>alcohol</th>\n",
       "      <th>transportation</th>\n",
       "      <th>obesity</th>\n",
       "      <th>obesity_label</th>\n",
       "    </tr>\n",
       "  </thead>\n",
       "  <tbody>\n",
       "    <tr>\n",
       "      <th>0</th>\n",
       "      <td>0</td>\n",
       "      <td>21.0</td>\n",
       "      <td>1.62</td>\n",
       "      <td>64.0</td>\n",
       "      <td>1</td>\n",
       "      <td>0</td>\n",
       "      <td>2.0</td>\n",
       "      <td>3.0</td>\n",
       "      <td>1</td>\n",
       "      <td>0</td>\n",
       "      <td>2.0</td>\n",
       "      <td>0</td>\n",
       "      <td>0.0</td>\n",
       "      <td>1.0</td>\n",
       "      <td>0</td>\n",
       "      <td>0</td>\n",
       "      <td>1</td>\n",
       "      <td>Normal_Weight</td>\n",
       "    </tr>\n",
       "    <tr>\n",
       "      <th>1</th>\n",
       "      <td>0</td>\n",
       "      <td>21.0</td>\n",
       "      <td>1.52</td>\n",
       "      <td>56.0</td>\n",
       "      <td>1</td>\n",
       "      <td>0</td>\n",
       "      <td>3.0</td>\n",
       "      <td>3.0</td>\n",
       "      <td>1</td>\n",
       "      <td>1</td>\n",
       "      <td>3.0</td>\n",
       "      <td>1</td>\n",
       "      <td>3.0</td>\n",
       "      <td>0.0</td>\n",
       "      <td>1</td>\n",
       "      <td>0</td>\n",
       "      <td>1</td>\n",
       "      <td>Normal_Weight</td>\n",
       "    </tr>\n",
       "    <tr>\n",
       "      <th>2</th>\n",
       "      <td>1</td>\n",
       "      <td>23.0</td>\n",
       "      <td>1.80</td>\n",
       "      <td>77.0</td>\n",
       "      <td>1</td>\n",
       "      <td>0</td>\n",
       "      <td>2.0</td>\n",
       "      <td>3.0</td>\n",
       "      <td>1</td>\n",
       "      <td>0</td>\n",
       "      <td>2.0</td>\n",
       "      <td>0</td>\n",
       "      <td>2.0</td>\n",
       "      <td>1.0</td>\n",
       "      <td>2</td>\n",
       "      <td>0</td>\n",
       "      <td>1</td>\n",
       "      <td>Normal_Weight</td>\n",
       "    </tr>\n",
       "    <tr>\n",
       "      <th>3</th>\n",
       "      <td>1</td>\n",
       "      <td>27.0</td>\n",
       "      <td>1.80</td>\n",
       "      <td>87.0</td>\n",
       "      <td>0</td>\n",
       "      <td>0</td>\n",
       "      <td>3.0</td>\n",
       "      <td>3.0</td>\n",
       "      <td>1</td>\n",
       "      <td>0</td>\n",
       "      <td>2.0</td>\n",
       "      <td>0</td>\n",
       "      <td>2.0</td>\n",
       "      <td>0.0</td>\n",
       "      <td>2</td>\n",
       "      <td>1</td>\n",
       "      <td>2</td>\n",
       "      <td>Overweight_Level_I</td>\n",
       "    </tr>\n",
       "    <tr>\n",
       "      <th>4</th>\n",
       "      <td>1</td>\n",
       "      <td>22.0</td>\n",
       "      <td>1.78</td>\n",
       "      <td>89.8</td>\n",
       "      <td>0</td>\n",
       "      <td>0</td>\n",
       "      <td>2.0</td>\n",
       "      <td>1.0</td>\n",
       "      <td>1</td>\n",
       "      <td>0</td>\n",
       "      <td>2.0</td>\n",
       "      <td>0</td>\n",
       "      <td>0.0</td>\n",
       "      <td>0.0</td>\n",
       "      <td>1</td>\n",
       "      <td>0</td>\n",
       "      <td>3</td>\n",
       "      <td>Overweight_Level_II</td>\n",
       "    </tr>\n",
       "  </tbody>\n",
       "</table>\n",
       "</div>"
      ],
      "text/plain": [
       "   gender   age  height  weight  history  high_cal  vegetables  num_meals  \\\n",
       "0       0  21.0    1.62    64.0        1         0         2.0        3.0   \n",
       "1       0  21.0    1.52    56.0        1         0         3.0        3.0   \n",
       "2       1  23.0    1.80    77.0        1         0         2.0        3.0   \n",
       "3       1  27.0    1.80    87.0        0         0         3.0        3.0   \n",
       "4       1  22.0    1.78    89.8        0         0         2.0        1.0   \n",
       "\n",
       "   snacks  smoke  water  cal_monitor  activities  dev_time  alcohol  \\\n",
       "0       1      0    2.0            0         0.0       1.0        0   \n",
       "1       1      1    3.0            1         3.0       0.0        1   \n",
       "2       1      0    2.0            0         2.0       1.0        2   \n",
       "3       1      0    2.0            0         2.0       0.0        2   \n",
       "4       1      0    2.0            0         0.0       0.0        1   \n",
       "\n",
       "   transportation  obesity        obesity_label  \n",
       "0               0        1        Normal_Weight  \n",
       "1               0        1        Normal_Weight  \n",
       "2               0        1        Normal_Weight  \n",
       "3               1        2   Overweight_Level_I  \n",
       "4               0        3  Overweight_Level_II  "
      ]
     },
     "metadata": {},
     "output_type": "display_data"
    }
   ],
   "source": [
    "display(df_cleaned.head())"
   ]
  },
  {
   "cell_type": "markdown",
   "id": "bf5b1385",
   "metadata": {},
   "source": [
    "6b. __Plot the distribution of the height__<br>\n",
    "The plot should have a title and labels as needed.<br>\n",
    "Then __Create a Raw NBConvert cell to explain whether there is a good sample of heights__."
   ]
  },
  {
   "cell_type": "code",
   "execution_count": null,
   "id": "c6d28e5d",
   "metadata": {},
   "outputs": [
    {
     "name": "stderr",
     "output_type": "stream",
     "text": [
      "/Users/aryan/anaconda3/lib/python3.10/site-packages/seaborn/_oldcore.py:1119: FutureWarning: use_inf_as_na option is deprecated and will be removed in a future version. Convert inf values to NaN before operating instead.\n",
      "  with pd.option_context('mode.use_inf_as_na', True):\n"
     ]
    },
    {
     "data": {
      "image/png": "[encoded data removed]",
      "text/plain": [
       "<Figure size 1000x600 with 1 Axes>"
      ]
     },
     "metadata": {},
     "output_type": "display_data"
    }
   ],
   "source": [
    "plt.figure(figsize=(10, 6))\n",
    "sns.histplot(df_cleaned['height'], kde=True, bins=20, color='skyblue')\n",
    "plt.title('Distribution of Height')\n",
    "plt.xlabel('Height')\n",
    "plt.ylabel('Frequency')\n",
    "plt.show()"
   ]
  },
  {
   "cell_type": "raw",
   "id": "c66790ae",
   "metadata": {
    "vscode": {
     "languageId": "raw"
    }
   },
   "source": [
    "The distribution plot of height shows the range and frequency of height values in the dataset. If the plot indicates a normal distribution or a well-spread range of values, we can conclude that there is a good sample of heights. If the data is heavily skewed or clustered in a narrow range, it may suggest that the sample of heights is not representative of a broader population. Observing the plot will help determine if we have a balanced and sufficient sample of height data for training an ML model.\n"
   ]
  },
  {
   "cell_type": "code",
   "execution_count": null,
   "id": "04e31c2c",
   "metadata": {},
   "outputs": [],
   "source": [
    "### and your conclusion for whether there's a good sample of heights?   -1/2pt"
   ]
  },
  {
   "cell_type": "markdown",
   "id": "78b32308",
   "metadata": {},
   "source": [
    "6c. Create 3 Code cells to do the following 3 steps to train and test an appropriate ML model and show its accuracy.\n",
    "- Code cell 1: __Create the X and y datasets__ and __print the shape of each set__.\n",
    "- Code cell 2: __Create the train and test sets__, __choose an <u>appropriate</u> ML model__ from the ones we've discussed in class, and __train the model__.\n",
    "- Code cell 3: __Test the model and show the accuracy__ of the model, using all the accuracy measurements that we discussed in class for the model.\n",
    "\n",
    "If an accuracy measurement is a float, show the value with _2 digits after the decimal point_.<br>\n",
    "And show the accuracy measurements with text explanation."
   ]
  },
  {
   "cell_type": "code",
   "execution_count": null,
   "id": "ba8f5786",
   "metadata": {},
   "outputs": [
    {
     "name": "stdout",
     "output_type": "stream",
     "text": [
      "Shape of X (features): (2111, 15)\n",
      "Shape of y (labels): (2111,)\n"
     ]
    }
   ],
   "source": [
    "X = df_cleaned.drop(['height', 'obesity', 'obesity_label'], axis=1)\n",
    "### why drop obesity?    -1/2pt\n",
    "\n",
    "y = df_cleaned['height']\n",
    "\n",
    "# Print the shape of X and y\n",
    "print(\"Shape of X (features):\", X.shape)\n",
    "print(\"Shape of y (labels):\", y.shape)"
   ]
  },
  {
   "cell_type": "code",
   "execution_count": null,
   "id": "d032106c",
   "metadata": {},
   "outputs": [
    {
     "data": {
      "text/html": [
       "<style>#sk-container-id-2 {color: black;background-color: white;}#sk-container-id-2 pre{padding: 0;}#sk-container-id-2 div.sk-toggleable {background-color: white;}#sk-container-id-2 label.sk-toggleable__label {cursor: pointer;display: block;width: 100%;margin-bottom: 0;padding: 0.3em;box-sizing: border-box;text-align: center;}#sk-container-id-2 label.sk-toggleable__label-arrow:before {content: \"▸\";float: left;margin-right: 0.25em;color: #696969;}#sk-container-id-2 label.sk-toggleable__label-arrow:hover:before {color: black;}#sk-container-id-2 div.sk-estimator:hover label.sk-toggleable__label-arrow:before {color: black;}#sk-container-id-2 div.sk-toggleable__content {max-height: 0;max-width: 0;overflow: hidden;text-align: left;background-color: #f0f8ff;}#sk-container-id-2 div.sk-toggleable__content pre {margin: 0.2em;color: black;border-radius: 0.25em;background-color: #f0f8ff;}#sk-container-id-2 input.sk-toggleable__control:checked~div.sk-toggleable__content {max-height: 200px;max-width: 100%;overflow: auto;}#sk-container-id-2 input.sk-toggleable__control:checked~label.sk-toggleable__label-arrow:before {content: \"▾\";}#sk-container-id-2 div.sk-estimator input.sk-toggleable__control:checked~label.sk-toggleable__label {background-color: #d4ebff;}#sk-container-id-2 div.sk-label input.sk-toggleable__control:checked~label.sk-toggleable__label {background-color: #d4ebff;}#sk-container-id-2 input.sk-hidden--visually {border: 0;clip: rect(1px 1px 1px 1px);clip: rect(1px, 1px, 1px, 1px);height: 1px;margin: -1px;overflow: hidden;padding: 0;position: absolute;width: 1px;}#sk-container-id-2 div.sk-estimator {font-family: monospace;background-color: #f0f8ff;border: 1px dotted black;border-radius: 0.25em;box-sizing: border-box;margin-bottom: 0.5em;}#sk-container-id-2 div.sk-estimator:hover {background-color: #d4ebff;}#sk-container-id-2 div.sk-parallel-item::after {content: \"\";width: 100%;border-bottom: 1px solid gray;flex-grow: 1;}#sk-container-id-2 div.sk-label:hover label.sk-toggleable__label {background-color: #d4ebff;}#sk-container-id-2 div.sk-serial::before {content: \"\";position: absolute;border-left: 1px solid gray;box-sizing: border-box;top: 0;bottom: 0;left: 50%;z-index: 0;}#sk-container-id-2 div.sk-serial {display: flex;flex-direction: column;align-items: center;background-color: white;padding-right: 0.2em;padding-left: 0.2em;position: relative;}#sk-container-id-2 div.sk-item {position: relative;z-index: 1;}#sk-container-id-2 div.sk-parallel {display: flex;align-items: stretch;justify-content: center;background-color: white;position: relative;}#sk-container-id-2 div.sk-item::before, #sk-container-id-2 div.sk-parallel-item::before {content: \"\";position: absolute;border-left: 1px solid gray;box-sizing: border-box;top: 0;bottom: 0;left: 50%;z-index: -1;}#sk-container-id-2 div.sk-parallel-item {display: flex;flex-direction: column;z-index: 1;position: relative;background-color: white;}#sk-container-id-2 div.sk-parallel-item:first-child::after {align-self: flex-end;width: 50%;}#sk-container-id-2 div.sk-parallel-item:last-child::after {align-self: flex-start;width: 50%;}#sk-container-id-2 div.sk-parallel-item:only-child::after {width: 0;}#sk-container-id-2 div.sk-dashed-wrapped {border: 1px dashed gray;margin: 0 0.4em 0.5em 0.4em;box-sizing: border-box;padding-bottom: 0.4em;background-color: white;}#sk-container-id-2 div.sk-label label {font-family: monospace;font-weight: bold;display: inline-block;line-height: 1.2em;}#sk-container-id-2 div.sk-label-container {text-align: center;}#sk-container-id-2 div.sk-container {/* jupyter's `normalize.less` sets `[hidden] { display: none; }` but bootstrap.min.css set `[hidden] { display: none !important; }` so we also need the `!important` here to be able to override the default hidden behavior on the sphinx rendered scikit-learn.org. See: https://github.com/scikit-learn/scikit-learn/issues/21755 */display: inline-block !important;position: relative;}#sk-container-id-2 div.sk-text-repr-fallback {display: none;}</style><div id=\"sk-container-id-2\" class=\"sk-top-container\"><div class=\"sk-text-repr-fallback\"><pre>LinearRegression()</pre><b>In a Jupyter environment, please rerun this cell to show the HTML representation or trust the notebook. <br />On GitHub, the HTML representation is unable to render, please try loading this page with nbviewer.org.</b></div><div class=\"sk-container\" hidden><div class=\"sk-item\"><div class=\"sk-estimator sk-toggleable\"><input class=\"sk-toggleable__control sk-hidden--visually\" id=\"sk-estimator-id-2\" type=\"checkbox\" checked><label for=\"sk-estimator-id-2\" class=\"sk-toggleable__label sk-toggleable__label-arrow\">LinearRegression</label><div class=\"sk-toggleable__content\"><pre>LinearRegression()</pre></div></div></div></div></div>"
      ],
      "text/plain": [
       "LinearRegression()"
      ]
     },
     "execution_count": 27,
     "metadata": {},
     "output_type": "execute_result"
    }
   ],
   "source": [
    "from sklearn.linear_model import LinearRegression\n",
    "X_train, X_test, y_train, y_test = train_test_split(X, y, test_size=0.2, random_state=42)\n",
    "\n",
    "# Standardize the features\n",
    "scaler = StandardScaler()\n",
    "X_train = scaler.fit_transform(X_train)\n",
    "X_test = scaler.transform(X_test)\n",
    "\n",
    "# Train the Linear Regression model\n",
    "model_lr = LinearRegression()\n",
    "model_lr.fit(X_train, y_train)"
   ]
  },
  {
   "cell_type": "code",
   "execution_count": null,
   "id": "93c5d82f",
   "metadata": {},
   "outputs": [
    {
     "name": "stdout",
     "output_type": "stream",
     "text": [
      "Linear Regression Model Evaluation Metrics:\n",
      "Mean Absolute Error (MAE): 0.05\n",
      "Mean Squared Error (MSE): 0.00\n",
      "Root Mean Squared Error (RMSE): 0.06\n",
      "R-squared (R2): 0.62\n"
     ]
    }
   ],
   "source": [
    "from sklearn.metrics import mean_absolute_error, mean_squared_error, r2_score\n",
    "\n",
    "# Make predictions on the test set\n",
    "y_pred = model_lr.predict(X_test)\n",
    "\n",
    "# Evaluate the model\n",
    "mae = mean_absolute_error(y_test, y_pred)\n",
    "mse = mean_squared_error(y_test, y_pred)\n",
    "rmse = mean_squared_error(y_test, y_pred, squared=False)\n",
    "r2 = r2_score(y_test, y_pred)\n",
    "\n",
    "# Print the evaluation metrics\n",
    "print(\"Linear Regression Model Evaluation Metrics:\")\n",
    "print(f\"Mean Absolute Error (MAE): {mae:.2f}\")\n",
    "print(f\"Mean Squared Error (MSE): {mse:.2f}\")\n",
    "print(f\"Root Mean Squared Error (RMSE): {rmse:.2f}\")\n",
    "print(f\"R-squared (R2): {r2:.2f}\")\n"
   ]
  },
  {
   "cell_type": "markdown",
   "id": "fd54537a",
   "metadata": {},
   "source": [
    "6d. Using the <u>same</u> train and test data as the model above:\n",
    "- __Choose all the other <u>appropriate</u> ML models that we've discussed__.<br>\n",
    "- __Test and train each model, then show the same accuracy measurements__ as the model of step 5a.\n",
    "\n",
    "You'll want at least one Code cell for each model that you choose.<br>\n",
    "Put the name of each ML model that you work with in the Code cell."
   ]
  },
  {
   "cell_type": "code",
   "execution_count": null,
   "id": "46dc394a",
   "metadata": {},
   "outputs": [
    {
     "name": "stdout",
     "output_type": "stream",
     "text": [
      "Random Forest Regressor Model Evaluation Metrics:\n",
      "Mean Absolute Error (MAE): 0.03\n",
      "Mean Squared Error (MSE): 0.00\n",
      "Root Mean Squared Error (RMSE): 0.04\n",
      "R-squared (R2): 0.82\n"
     ]
    }
   ],
   "source": [
    "from sklearn.ensemble import RandomForestRegressor\n",
    "\n",
    "# Random Forest Regressor\n",
    "model_rf = RandomForestRegressor(random_state=42)\n",
    "model_rf.fit(X_train, y_train)\n",
    "\n",
    "# Make predictions on the test set\n",
    "y_pred_rf = model_rf.predict(X_test)\n",
    "\n",
    "# Evaluate the model\n",
    "mae_rf = mean_absolute_error(y_test, y_pred_rf)\n",
    "mse_rf = mean_squared_error(y_test, y_pred_rf)\n",
    "rmse_rf = mean_squared_error(y_test, y_pred_rf, squared=False)\n",
    "r2_rf = r2_score(y_test, y_pred_rf)\n",
    "\n",
    "# Print the evaluation metrics\n",
    "print(\"Random Forest Regressor Model Evaluation Metrics:\")\n",
    "print(f\"Mean Absolute Error (MAE): {mae_rf:.2f}\")\n",
    "print(f\"Mean Squared Error (MSE): {mse_rf:.2f}\")\n",
    "print(f\"Root Mean Squared Error (RMSE): {rmse_rf:.2f}\")\n",
    "print(f\"R-squared (R2): {r2_rf:.2f}\")\n"
   ]
  },
  {
   "cell_type": "markdown",
   "id": "3742d6fa",
   "metadata": {},
   "source": [
    "6e. Further analysis:\n",
    "For one of the models, we discussed in class how to find the key features that the model relies on to make its prediction.<br>\n",
    "- __Re-create this model and train it__\n",
    "- Then __show the features and how much influence each feature has on the model__."
   ]
  },
  {
   "cell_type": "code",
   "execution_count": null,
   "id": "c416b44c",
   "metadata": {},
   "outputs": [
    {
     "data": {
      "image/png": "[encoded data removed]",
      "text/plain": [
       "<Figure size 1200x800 with 1 Axes>"
      ]
     },
     "metadata": {},
     "output_type": "display_data"
    },
    {
     "name": "stdout",
     "output_type": "stream",
     "text": [
      "Feature importances:\n",
      "gender: 0.37\n",
      "weight: 0.30\n",
      "activities: 0.05\n",
      "age: 0.05\n",
      "water: 0.04\n",
      "vegetables: 0.03\n",
      "dev_time: 0.03\n",
      "alcohol: 0.03\n",
      "num_meals: 0.03\n",
      "snacks: 0.02\n",
      "transportation: 0.02\n",
      "high_cal: 0.01\n",
      "history: 0.01\n",
      "cal_monitor: 0.00\n",
      "smoke: 0.00\n"
     ]
    }
   ],
   "source": [
    "# Prepare the dataset\n",
    "X = df_cleaned.drop(['height', 'obesity', 'obesity_label'], axis=1)\n",
    "y = df_cleaned['height']\n",
    "\n",
    "# Split the data into training and testing sets\n",
    "X_train, X_test, y_train, y_test = train_test_split(X, y, test_size=0.2, random_state=42)\n",
    "\n",
    "# Standardize the features\n",
    "scaler = StandardScaler()\n",
    "X_train = scaler.fit_transform(X_train)\n",
    "X_test = scaler.transform(X_test)\n",
    "\n",
    "# Train the Random Forest Regressor model\n",
    "model_rf = RandomForestRegressor(random_state=42)\n",
    "model_rf.fit(X_train, y_train)\n",
    "\n",
    "# Show feature importance\n",
    "feature_importances = model_rf.feature_importances_\n",
    "features = X.columns\n",
    "\n",
    "# Plot feature importances\n",
    "indices = np.argsort(feature_importances)[::-1]\n",
    "plt.figure(figsize=(12, 8))\n",
    "plt.title(\"Feature Importance in Predicting Height\")\n",
    "plt.bar(range(X.shape[1]), feature_importances[indices], align='center')\n",
    "plt.xticks(range(X.shape[1]), features[indices], rotation=90)\n",
    "plt.xlim([-1, X.shape[1]])\n",
    "plt.xlabel(\"Features\")\n",
    "plt.ylabel(\"Importance\")\n",
    "plt.show()\n",
    "\n",
    "# Print feature importances\n",
    "print(\"Feature importances:\")\n",
    "for i in indices:\n",
    "    print(f\"{features[i]}: {feature_importances[i]:.2f}\")"
   ]
  },
  {
   "cell_type": "markdown",
   "id": "1afd98b1",
   "metadata": {},
   "source": [
    "6f. Conclusion: Which are the key features for this model?<br>\n",
    "__Create a RawNB Convert cell for your answer__."
   ]
  },
  {
   "cell_type": "raw",
   "id": "810b1b49",
   "metadata": {
    "vscode": {
     "languageId": "raw"
    }
   },
   "source": [
    "The key features for the Random Forest Regressor model in predicting height are:\n",
    "\n",
    "1. **Gender**: This feature has the highest importance, indicating that it is the most influential factor in determining a person's height.\n",
    "2. **Weight**: Weight is also a significant feature, contributing to the prediction of height.\n",
    "3. **Physical Activity Frequency (activities)**: The frequency of physical activity is another important feature for predicting height.\n",
    "4. **Age**: Age plays a role in predicting height.\n",
    "5. **Water Consumption (water)**: The amount of water consumed also influences the model's prediction of height.\n",
    "\n",
    "These features are identified based on their importance scores, with gender being the most critical feature. The combination of these features provides the Random Forest Regressor with the necessary information to make accurate predictions of height."
   ]
  },
  {
   "cell_type": "markdown",
   "id": "c5871901",
   "metadata": {},
   "source": [
    "EC (1pt) Typically not all features in the dataset are important for the ML model, and removing the non-essential features is an important step in tuning the data for machine learning.<br>\n",
    "Given the features and their values in step 6e, __remove as many non-essential features__ as you can but still keep the accuracy the same as when the model has all features.<br>\n",
    "Then __train and test the model, and print the accuracy__."
   ]
  },
  {
   "cell_type": "code",
   "execution_count": null,
   "id": "bc6d43e7",
   "metadata": {},
   "outputs": [
    {
     "name": "stdout",
     "output_type": "stream",
     "text": [
      "Random Forest Regressor Model Evaluation Metrics with Essential Features:\n",
      "Mean Absolute Error (MAE): 0.03\n",
      "Mean Squared Error (MSE): 0.00\n",
      "Root Mean Squared Error (RMSE): 0.04\n",
      "R-squared (R2): 0.79\n"
     ]
    }
   ],
   "source": [
    "# Essential features identified in step 6f\n",
    "essential_features = ['gender', 'weight', 'activities', 'age', 'water']\n",
    "\n",
    "# Create a new dataset with only the essential features\n",
    "X_reduced = df_cleaned[essential_features]\n",
    "y = df_cleaned['height']\n",
    "\n",
    "# Split the data into training and testing sets\n",
    "X_train_reduced, X_test_reduced, y_train, y_test = train_test_split(X_reduced, y, test_size=0.2, random_state=42)\n",
    "\n",
    "# Standardize the features\n",
    "scaler = StandardScaler()\n",
    "X_train_reduced = scaler.fit_transform(X_train_reduced)\n",
    "X_test_reduced = scaler.transform(X_test_reduced)\n",
    "\n",
    "# Train the Random Forest Regressor model\n",
    "model_rf_reduced = RandomForestRegressor(random_state=42)\n",
    "model_rf_reduced.fit(X_train_reduced, y_train)\n",
    "\n",
    "# Make predictions on the test set\n",
    "y_pred_reduced = model_rf_reduced.predict(X_test_reduced)\n",
    "\n",
    "# Evaluate the model\n",
    "mae_reduced = mean_absolute_error(y_test, y_pred_reduced)\n",
    "mse_reduced = mean_squared_error(y_test, y_pred_reduced)\n",
    "rmse_reduced = mean_squared_error(y_test, y_pred_reduced, squared=False)\n",
    "r2_reduced = r2_score(y_test, y_pred_reduced)\n",
    "\n",
    "# Print the evaluation metrics\n",
    "print(\"Random Forest Regressor Model Evaluation Metrics with Essential Features:\")\n",
    "print(f\"Mean Absolute Error (MAE): {mae_reduced:.2f}\")\n",
    "print(f\"Mean Squared Error (MSE): {mse_reduced:.2f}\")\n",
    "print(f\"Root Mean Squared Error (RMSE): {rmse_reduced:.2f}\")\n",
    "print(f\"R-squared (R2): {r2_reduced:.2f}\")"
   ]
  },
  {
   "cell_type": "code",
   "execution_count": null,
   "id": "f081f05b",
   "metadata": {},
   "outputs": [],
   "source": [
    "### +1 EC"
   ]
  }
 ],
 "metadata": {
  "kernelspec": {
   "display_name": "Python 3 (ipykernel)",
   "language": "python",
   "name": "python3"
  },
  "language_info": {
   "codemirror_mode": {
    "name": "ipython",
    "version": 3
   },
   "file_extension": ".py",
   "mimetype": "text/x-python",
   "name": "python",
   "nbconvert_exporter": "python",
   "pygments_lexer": "ipython3",
   "version": "3.1.undefined"
  }
 },
 "nbformat": 4,
 "nbformat_minor": 5
}
