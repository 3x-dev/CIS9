{
 "cells": [
  {
   "cell_type": "markdown",
   "metadata": {},
   "source": [
    "# CIS 9\n",
    "# Unsupervised Learning: k-Means Clustering "
   ]
  },
  {
   "cell_type": "markdown",
   "metadata": {},
   "source": [
    "`Optional Reading`\n",
    "\n",
    "Python Data Handbook Chapter 5: k-Means Clustering\n",
    "- Introducing k-Means\n",
    "- k-Means Algorithm: Expectation–Maximization"
   ]
  },
  {
   "cell_type": "markdown",
   "metadata": {},
   "source": [
    "### Clustering\n",
    "\n",
    "In unsupervised learning, there are input features but no output labels to \"learn\" from. In other words, there are no output labels that act as a supervisor to tell us how accurate the predicted output is.  Instead, the goal of unsupervised learning is to find hidden patterns in the unlabeled data. Unsupervised learning is learning by observation, rather than learning by examples as in supervised learning.\n",
    "\n",
    "A common way to find hidden patterns in unlabeled data is to group the data into clusters based on the similarities in the data. A cluster is a grouping of data that are similar to each other in some way, and are dissimilar to data belonging to other clusters.\n",
    "\n",
    "There are multiple ways to cluster data, k-means is one of the most straight forward ways. K-means is a _partition based clustering_, which means data are partitioned into k mutually exclusive clusters, where k is a user defined value. Other types of clustering are _hierarchical clustering_ (grouping data with similarity together until there are a certain number of clusters), and _density based clustering_ (plot data and group the ones that are closer together into one cluster)."
   ]
  },
  {
   "cell_type": "markdown",
   "metadata": {},
   "source": [
    "### k-Means Clustering\n",
    "\n",
    "The k-means algorithm is an iterative algorithm. It starts by randomly creating k _centroids_ or centers of a cluster. Then it puts each data point into a cluster based on how close the data value is to a particular centroid. When all data are in clusters, the algorithm calculates the mean of each cluster, and the mean serves as a new centroid for a new cluster. The algorithm keeps repeating the 2 steps of putting all data into the new clusters and calculates the new centroids, and this iterative process ends when all the newly calculated centroids are the same value as the previous centroid."
   ]
  },
  {
   "cell_type": "raw",
   "metadata": {},
   "source": [
    "Here is the sample code from the optional reading that illustrates the iterative steps to find the clusters:\n",
    "\n",
    "def find_clusters(X, n_clusters, rseed=2):\n",
    "    # 1. Randomly choose clusters\n",
    "    rng = np.random.RandomState(rseed)\n",
    "    i = rng.permutation(X.shape[0])[:n_clusters]\n",
    "    centers = X[i]\n",
    "    \n",
    "    while True:\n",
    "        # 2a. Assign labels based on closest center\n",
    "        labels = pairwise_distances_argmin(X, centers)\n",
    "        \n",
    "        # 2b. Find new centers from means of points\n",
    "        new_centers = np.array([X[labels == i].mean(0) for i in range(n_clusters)])\n",
    "        \n",
    "        # 2c. Check for convergence\n",
    "        if np.all(centers == new_centers):\n",
    "            break\n",
    "        centers = new_centers\n",
    "    \n",
    "    return centers, labels"
   ]
  },
  {
   "cell_type": "code",
   "execution_count": 2,
   "metadata": {},
   "outputs": [],
   "source": [
    "import pandas as pd\n",
    "import matplotlib.pyplot as plt\n",
    "import matplotlib\n",
    "import numpy as np\n",
    "\n",
    "# work around for multi-threading problem of kmeans algorithm on Windows \n",
    "import os\n",
    "os.environ[\"OMP_NUM_THREADS\"] = \"1\"\n",
    "\n",
    "from sklearn.cluster import KMeans"
   ]
  },
  {
   "cell_type": "markdown",
   "metadata": {},
   "source": [
    "We start with data of customers at a mall. The data has customers' ID, genre, age, income, and spending score.  The spending score is important to the mall because it shows how often the customers shops / spends money at the mall. We want to see if there's customer attribute that's associated with a higher spending score.\n",
    "The input data is _mall.csv_ ([source](https://www.kaggle.com/shwetabh123/mall-customers))."
   ]
  },
  {
   "cell_type": "code",
   "execution_count": 3,
   "metadata": {},
   "outputs": [
    {
     "name": "stdout",
     "output_type": "stream",
     "text": [
      "Data Size: (200, 5)\n",
      "First few lines of data:\n",
      "   CustomerID   Genre  Age  Annual Income (k$)  Spending Score (1-100)\n",
      "0           1    Male   19                  15                      39\n",
      "1           2    Male   21                  15                      81\n",
      "2           3  Female   20                  16                       6\n",
      "3           4  Female   23                  16                      77\n",
      "4           5  Female   31                  17                      40\n"
     ]
    }
   ],
   "source": [
    "# 1. Read in data from mall.csv. Show the size of the data and the first lines of data.\n",
    "df = pd.read_csv('mall.csv')\n",
    "print(f\"Data Size: {df.shape}\")\n",
    "print(\"First few lines of data:\")\n",
    "print(df.head())"
   ]
  },
  {
   "cell_type": "code",
   "execution_count": 4,
   "metadata": {},
   "outputs": [
    {
     "name": "stdout",
     "output_type": "stream",
     "text": [
      "Basic statistics:\n",
      "       CustomerID         Age  Annual Income (k$)  Spending Score (1-100)\n",
      "count  200.000000  200.000000          200.000000              200.000000\n",
      "mean   100.500000   38.850000           60.560000               50.200000\n",
      "std     57.879185   13.969007           26.264721               25.823522\n",
      "min      1.000000   18.000000           15.000000                1.000000\n",
      "25%     50.750000   28.750000           41.500000               34.750000\n",
      "50%    100.500000   36.000000           61.500000               50.000000\n",
      "75%    150.250000   49.000000           78.000000               73.000000\n",
      "max    200.000000   70.000000          137.000000               99.000000\n"
     ]
    }
   ],
   "source": [
    "# 2. Find basic statistics on the data (mean, standard deviation, min, max, \n",
    "#   quartile of each feature or column)\n",
    "print(\"Basic statistics:\")\n",
    "print(df.describe())"
   ]
  },
  {
   "cell_type": "markdown",
   "metadata": {},
   "source": [
    "Since we're interested in the general attribute of customers, create a new DataFrame called testdata that's easier to work with. "
   ]
  },
  {
   "cell_type": "code",
   "execution_count": 5,
   "metadata": {},
   "outputs": [
    {
     "name": "stdout",
     "output_type": "stream",
     "text": [
      "Modified data:\n",
      "    genre  age  income  spend\n",
      "0    Male   19      15     39\n",
      "1    Male   21      15     81\n",
      "2  Female   20      16      6\n",
      "3  Female   23      16     77\n",
      "4  Female   31      17     40\n"
     ]
    }
   ],
   "source": [
    "# Step 3a: Remove the CustomerID field\n",
    "df = df.drop(columns=['CustomerID'])\n",
    "\n",
    "# Step 3b: Simplify the column labels to genre, age, income, and spend\n",
    "df.columns = ['genre', 'age', 'income', 'spend']\n",
    "\n",
    "# Step 3c: Print the first few lines of the data to show the change\n",
    "print(\"Modified data:\")\n",
    "print(df.head())"
   ]
  },
  {
   "cell_type": "code",
   "execution_count": 6,
   "metadata": {},
   "outputs": [
    {
     "data": {
      "image/png": "[encoded data removed]",
      "text/plain": [
       "<Figure size 800x600 with 1 Axes>"
      ]
     },
     "metadata": {},
     "output_type": "display_data"
    }
   ],
   "source": [
    "# 4. To get some preliminary idea of the customer attributes, first let's see the ratio of male / female shoppers\n",
    "# Show a bar chart of the number of male and female shoppers.\n",
    "\n",
    "# Step 4: Show a bar chart of the number of male and female shoppers\n",
    "gender_counts = df['genre'].value_counts()\n",
    "plt.figure(figsize=(8, 6))\n",
    "gender_counts.plot(kind='bar', color=['blue', 'orange'])\n",
    "plt.title('Number of Male and Female Shoppers')\n",
    "plt.xlabel('Gender')\n",
    "plt.ylabel('Count')\n",
    "plt.show()"
   ]
  },
  {
   "cell_type": "code",
   "execution_count": 7,
   "metadata": {},
   "outputs": [
    {
     "data": {
      "image/png": "[encoded data removed]",
      "text/plain": [
       "<Figure size 1600x1200 with 3 Axes>"
      ]
     },
     "metadata": {},
     "output_type": "display_data"
    },
    {
     "name": "stdout",
     "output_type": "stream",
     "text": [
      "Spending Score Mean: 50.2\n",
      "Spending Score Standard Deviation: 25.823521668370173\n",
      "Normal test statistic: 16.302230221326983, p-value: 0.0002884135672001835\n",
      "The spending score does not follow a normal distribution.\n"
     ]
    }
   ],
   "source": [
    "# 5. Next, let's view the distribution of the age, income, and spending score\n",
    "# Are the shoppers generally younger or older? Low, mid, or high income? \n",
    "# Is the spending score a normal or Gaussian distribution?\n",
    "# What's significant about the spending score being a Gaussian distribution?\n",
    "\n",
    "\n",
    "# Step 5: View the distribution of the age, income, and spending score\n",
    "plt.figure(figsize=(16, 12))\n",
    "\n",
    "plt.subplot(3, 1, 1)\n",
    "plt.hist(df['age'], bins=20, color='skyblue', edgecolor='black')\n",
    "plt.title('Distribution of Age')\n",
    "plt.xlabel('Age')\n",
    "plt.ylabel('Frequency')\n",
    "\n",
    "plt.subplot(3, 1, 2)\n",
    "plt.hist(df['income'], bins=20, color='lightgreen', edgecolor='black')\n",
    "plt.title('Distribution of Income')\n",
    "plt.xlabel('Annual Income (k$)')\n",
    "plt.ylabel('Frequency')\n",
    "\n",
    "plt.subplot(3, 1, 3)\n",
    "plt.hist(df['spend'], bins=20, color='salmon', edgecolor='black')\n",
    "plt.title('Distribution of Spending Score')\n",
    "plt.xlabel('Spending Score')\n",
    "plt.ylabel('Frequency')\n",
    "\n",
    "plt.tight_layout()\n",
    "plt.show()\n",
    "\n",
    "# Analyze the spending score distribution\n",
    "spending_mean = df['spend'].mean()\n",
    "spending_std = df['spend'].std()\n",
    "print(f\"Spending Score Mean: {spending_mean}\")\n",
    "print(f\"Spending Score Standard Deviation: {spending_std}\")\n",
    "\n",
    "# Check if the spending score is approximately Gaussian\n",
    "from scipy.stats import normaltest\n",
    "stat, p = normaltest(df['spend'])\n",
    "print(f\"Normal test statistic: {stat}, p-value: {p}\")\n",
    "\n",
    "if p > 0.05:\n",
    "    print(\"The spending score follows a normal distribution.\")\n",
    "else:\n",
    "    print(\"The spending score does not follow a normal distribution.\")"
   ]
  },
  {
   "cell_type": "markdown",
   "metadata": {},
   "source": [
    "There are more shoppers in the lower half of the age distribution, so the shoppers are younger.\n",
    "<br>The majority of shoppers are in the lower and middle range of the income distribution, there are fewer high income shoppers\n",
    "<br>The spending is a Gaussian distribution, which means that the data are a good sample of shopping habits at the mall."
   ]
  },
  {
   "cell_type": "markdown",
   "metadata": {},
   "source": [
    "First we see if the income has any effect on the spending score"
   ]
  },
  {
   "cell_type": "code",
   "execution_count": null,
   "metadata": {},
   "outputs": [],
   "source": [
    "# 6. \n",
    "X = testdata.drop(columns=['genre','age'])\n",
    "print(X.columns.values)"
   ]
  },
  {
   "cell_type": "markdown",
   "metadata": {},
   "source": [
    "To use the k-means model, we need to determine the k value that will work best with the dataset (this is similar to the knn model for supervised learning). There is no rule of thumb for determining k, but there's an _elbow method_ that works well in practice.\n",
    "\n",
    "The basic idea of k-means clustering is to define clusters such that the distance between each data point in the cluster and the centroid is as small as possible, because it means the data in the cluster are as tight together as possible. The measurement of this distance is called the within-cluster sum of square (WCSS). \n",
    "\n",
    "To find the optimal k value, we try different k values with the k-means algorithm and plot the WCSS of each k value. As the k value increases, the WCSS value will drop as the cluster gets tighter, until the k value gets too large and we don't see the benefit of having more clusters. The plot typically has a bend (like a bent elbow), and that's the location of the optimal k value."
   ]
  },
  {
   "cell_type": "code",
   "execution_count": null,
   "metadata": {},
   "outputs": [],
   "source": [
    "# 7. Calculate the optimal k value\n",
    "wcss=[]\n",
    "for i in range(1,11):\n",
    "    kmeans=KMeans(n_clusters=i,init='k-means++', n_init='auto') \n",
    "    kmeans.fit(X)\n",
    "    wcss.append(kmeans.inertia_)\n",
    "fig = plt.figure(figsize=(3,3))\n",
    "plt.grid()\n",
    "plt.plot(np.arange(1,11),wcss)\n",
    "plt.title('Elbow Curve')\n",
    "plt.show() \n"
   ]
  },
  {
   "cell_type": "markdown",
   "metadata": {},
   "source": [
    "k-means++ is considered a good general purpose seed value for randomly selecting the initial centroids. [Here's](https://www.kdnuggets.com/2020/06/centroid-initialization-k-means-clustering.html) an article that gives a good description of k-means++ compared to a few other seeding techniques. The primary reason for using k-means++ is that it's generally the fastest at putting the centroids in the correct location."
   ]
  },
  {
   "cell_type": "code",
   "execution_count": null,
   "metadata": {},
   "outputs": [],
   "source": [
    "# 8. From the above plot, we use k = 5 to create the model, train and test the model\n",
    "kmeans = KMeans(n_clusters=5,init='k-means++', n_init='auto')\n",
    "kmeans.fit(X)\n",
    "y_kmeans = kmeans.predict(X)\n",
    "print(y_kmeans)\n",
    "# we see that there are 5 clusters in the k-means output, \n",
    "# with values from 0 to 4"
   ]
  },
  {
   "cell_type": "markdown",
   "metadata": {},
   "source": [
    "Using the k-means output, we plot the income vs. spending score"
   ]
  },
  {
   "cell_type": "code",
   "execution_count": null,
   "metadata": {},
   "outputs": [],
   "source": [
    "# 9.\n",
    "plt.figure(figsize=(6,4))\n",
    "\n",
    "# plotting each cluster\n",
    "plt.scatter(X[y_kmeans == 0].income, X[y_kmeans == 0].spend, label = 'Cluster 1')\n",
    "plt.scatter(X[y_kmeans == 1].income, X[y_kmeans == 1].spend, label = 'Cluster 2')\n",
    "plt.scatter(X[y_kmeans == 2].income, X[y_kmeans == 2].spend, label = 'Cluster 3')\n",
    "plt.scatter(X[y_kmeans == 3].income, X[y_kmeans == 3].spend, label = 'Cluster 4')\n",
    "plt.scatter(X[y_kmeans == 4].income, X[y_kmeans == 4].spend, label = 'Cluster 5')\n",
    "\n",
    "# plot the centroid\n",
    "plt.scatter(kmeans.cluster_centers_[:, 0], kmeans.cluster_centers_[:, 1], c = 'black', label = 'Centroids')\n",
    "\n",
    "plt.xlabel('Income')\n",
    "plt.ylabel('Spending Score')\n",
    "plt.legend(fontsize=8)\n",
    "plt.show()"
   ]
  },
  {
   "cell_type": "markdown",
   "metadata": {},
   "source": [
    "Based on the plot, we see that the most valued customers  with high spending score are either low income or high income, but not middle income."
   ]
  },
  {
   "cell_type": "markdown",
   "metadata": {},
   "source": [
    "Next we see if age has an effect on the spending score"
   ]
  },
  {
   "cell_type": "code",
   "execution_count": null,
   "metadata": {},
   "outputs": [],
   "source": [
    "# 10. Create an X DataFrame with age and spend columns\n",
    "\n",
    "# find the optimal k value\n"
   ]
  },
  {
   "cell_type": "code",
   "execution_count": null,
   "metadata": {},
   "outputs": [],
   "source": [
    "# 11. Use the optimal k value from the plot\n"
   ]
  },
  {
   "cell_type": "code",
   "execution_count": null,
   "metadata": {},
   "outputs": [],
   "source": [
    "# 12. Plot the resulting clusters\n"
   ]
  },
  {
   "cell_type": "code",
   "execution_count": null,
   "metadata": {},
   "outputs": [],
   "source": [
    "# 13. What is the observation about the customers with high spending score?\n"
   ]
  },
  {
   "cell_type": "markdown",
   "metadata": {},
   "source": [
    "Now we check if the genre (or gender) has an effect on the spending score"
   ]
  },
  {
   "cell_type": "code",
   "execution_count": null,
   "metadata": {},
   "outputs": [],
   "source": [
    "# 14. Create an X DataFrame withe genre and spend columns\n",
    "\n",
    "\n",
    "# change the genre to a number\n",
    "\n",
    "\n",
    "# print the first lines of X to see the change\n",
    "print(X.head())\n",
    "\n",
    "# find the optimal k value\n"
   ]
  },
  {
   "cell_type": "code",
   "execution_count": null,
   "metadata": {},
   "outputs": [],
   "source": [
    "# 15. use the optimal k value to train and test the model\n"
   ]
  },
  {
   "cell_type": "code",
   "execution_count": null,
   "metadata": {},
   "outputs": [],
   "source": [
    "# 16. plot the clusters\n"
   ]
  },
  {
   "cell_type": "code",
   "execution_count": null,
   "metadata": {},
   "outputs": [],
   "source": [
    "# 17. What can be observed about the genre's effect on spending score?\n"
   ]
  },
  {
   "cell_type": "code",
   "execution_count": null,
   "metadata": {},
   "outputs": [],
   "source": [
    "# 18. Check to see if there's any correlation between income and age\n"
   ]
  },
  {
   "cell_type": "code",
   "execution_count": null,
   "metadata": {},
   "outputs": [],
   "source": [
    "# 19. Is there correlation between age and income?\n"
   ]
  },
  {
   "cell_type": "code",
   "execution_count": null,
   "metadata": {},
   "outputs": [],
   "source": [
    "# 20. What can the mall conclude about its shoppers?\n"
   ]
  },
  {
   "cell_type": "code",
   "execution_count": null,
   "metadata": {},
   "outputs": [],
   "source": [
    "# 21. Looking at both age and income, drop the genre column\n",
    "\n",
    "\n",
    "# find the optimal k value\n",
    " \n"
   ]
  },
  {
   "cell_type": "code",
   "execution_count": null,
   "metadata": {},
   "outputs": [],
   "source": [
    "# Create, train, test the model\n"
   ]
  },
  {
   "cell_type": "code",
   "execution_count": null,
   "metadata": {},
   "outputs": [],
   "source": [
    "# 22. 3D plot of the clusters\n",
    "fig = plt.figure(figsize=(8,6))\n",
    "ax = fig.add_subplot(111, projection='3d')\n",
    "\n",
    "# The next 5 lines should be in a loop\n",
    "ax.scatter(X.age[y_kmeans == 0], X.income[y_kmeans == 0], X.spend[y_kmeans == 0], label = 'Cluster 1')\n",
    "ax.scatter(X.age[y_kmeans == 1], X.income[y_kmeans == 1], X.spend[y_kmeans == 1], label = 'Cluster 2')\n",
    "ax.scatter(X.age[y_kmeans == 2], X.income[y_kmeans == 2], X.spend[y_kmeans == 2], label = 'Cluster 3')\n",
    "ax.scatter(X.age[y_kmeans == 3], X.income[y_kmeans == 3], X.spend[y_kmeans == 3], label = 'Cluster 4')\n",
    "ax.scatter(X.age[y_kmeans == 4], X.income[y_kmeans == 4], X.spend[y_kmeans == 4], label = 'Cluster 5')\n",
    "plt.xlabel('Age')\n",
    "plt.ylabel('Income')\n",
    "ax.set_zlabel('Spending Score')\n",
    "ax.view_init(10,20)   # change these values to move / rotate the plot\n",
    "plt.legend()\n",
    "plt.show()"
   ]
  },
  {
   "cell_type": "markdown",
   "metadata": {},
   "source": [
    "Map the cluster back to the customer data"
   ]
  },
  {
   "cell_type": "code",
   "execution_count": null,
   "metadata": {},
   "outputs": [],
   "source": [
    "cluster_map = pd.DataFrame()\n",
    "cluster_map['data_index'] = X.index.values\n",
    "cluster_map['cluster'] = y_kmeans\n",
    "cluster_map"
   ]
  },
  {
   "cell_type": "code",
   "execution_count": null,
   "metadata": {},
   "outputs": [],
   "source": [
    "# choosing cluster with highest spending customers\n",
    "cluster_map[cluster_map.cluster ==  ]"
   ]
  },
  {
   "cell_type": "code",
   "execution_count": null,
   "metadata": {},
   "outputs": [],
   "source": [
    "# ind is index of rows that belong to cluster \n",
    "ind = cluster_map[cluster_map.cluster ==  ].data_index.values\n",
    "data.loc[ind]\n",
    "# using ind to find all customers that belong to cluster "
   ]
  },
  {
   "cell_type": "markdown",
   "metadata": {},
   "source": [
    "The goal of k-means clustering is to group data into non-overlapping clusters. It is very useful when the clusters have a tight, spherical shape because the attributes of the data in the clusters are clear."
   ]
  },
  {
   "cell_type": "markdown",
   "metadata": {},
   "source": [
    "### Principal Component Analysis (PCA)\n",
    "\n",
    "Unlike the dataset used in the k-means clustering example above, which has 5 features, often a dataset is made of many features. While a ML model can work in N-dimensional space where N is large, it can be computationally expensive and the output difficult to interpret. For example, it is easy to see the clusters in a 2D or 3D plot, but it would be  more complicated to work with and visualize a 10-dimensional plot. This is where principal component analysis (PCA) comes in.\n",
    "\n",
    "PCA is used to reduce the dimensionality of large datasets, by transforming a large number of variables into a smaller number that still contains most of the information in the large set. Linear algebra concepts (covariance matrices and eigenvectors) are used to find the principal components of the data. The resulting principal components are uncorrelated (orthogonal), and most of the information from the original variables is compressed into the principal components.\n",
    "\n",
    "PCA can be used with both supervised and unsupervised learning to simplify the dataset. But PCA can also be used as an unsupervised algorithm on its own. By reducing the large number of features into a few variables, it is easier to observe trends or clusters."
   ]
  },
  {
   "cell_type": "markdown",
   "metadata": {},
   "source": [
    "<br>Clustering and dimension reduction are two main unsupervised learning algorithms. These algorithms find hidden patterns or similarities and differences in datasets without needing output labels. Therefore they are good for exploratory data analysis, customer segmentation, and image recognition, which are areas where it's difficult to obtain the y output labels."
   ]
  },
  {
   "cell_type": "code",
   "execution_count": null,
   "metadata": {},
   "outputs": [],
   "source": []
  }
 ],
 "metadata": {
  "kernelspec": {
   "display_name": "Python 3 (ipykernel)",
   "language": "python",
   "name": "python3"
  },
  "language_info": {
   "codemirror_mode": {
    "name": "ipython",
    "version": 3
   },
   "file_extension": ".py",
   "mimetype": "text/x-python",
   "name": "python",
   "nbconvert_exporter": "python",
   "pygments_lexer": "ipython3",
   "version": "3.9.16"
  }
 },
 "nbformat": 4,
 "nbformat_minor": 2
}
