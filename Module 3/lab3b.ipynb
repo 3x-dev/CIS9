{
 "cells": [
  {
   "cell_type": "markdown",
   "id": "dcac2a66",
   "metadata": {},
   "source": [
    "### CIS 9: Lab 3b\n",
    "Unsupervised Learning: clustering"
   ]
  },
  {
   "cell_type": "code",
   "execution_count": 22,
   "id": "05fb1a22",
   "metadata": {},
   "outputs": [],
   "source": [
    "# Name: Aryan Singhal"
   ]
  },
  {
   "cell_type": "markdown",
   "id": "aa3358f9",
   "metadata": {},
   "source": [
    "In this lab you will work with customer credit card data to group customers into clusters with similar characteristics.<br>\n",
    "The input data is `cc.csv` ([source](https://www.kaggle.com/datasets/samira1992/credit-card-data-intermediate-dataset/data))"
   ]
  },
  {
   "cell_type": "code",
   "execution_count": 23,
   "id": "e732de8b",
   "metadata": {},
   "outputs": [],
   "source": [
    "# import modules\n",
    "import pandas as pd\n",
    "import matplotlib.pyplot as plt\n",
    "from sklearn.cluster import KMeans\n"
   ]
  },
  {
   "cell_type": "markdown",
   "id": "f86e863a",
   "metadata": {},
   "source": [
    "1. Read data from the file `cc.csv` file into a DataFrame.<br>\n",
    "Then __print the number of rows and columns__ of the DataFrame<br>\n",
    "and __print the first rows__ of the DataFrame."
   ]
  },
  {
   "cell_type": "code",
   "execution_count": 24,
   "id": "01b1f658",
   "metadata": {},
   "outputs": [
    {
     "name": "stdout",
     "output_type": "stream",
     "text": [
      "Number of rows: 8950\n",
      "Number of columns: 18\n",
      "  CUST_ID      BALANCE  BALANCE_FREQUENCY  PURCHASES  ONEOFF_PURCHASES  \\\n",
      "0  C10001    40.900749           0.818182      95.40              0.00   \n",
      "1  C10002  3202.467416           0.909091       0.00              0.00   \n",
      "2  C10003  2495.148862           1.000000     773.17            773.17   \n",
      "3  C10004  1666.670542           0.636364    1499.00           1499.00   \n",
      "4  C10005   817.714335           1.000000      16.00             16.00   \n",
      "\n",
      "   INSTALLMENTS_PURCHASES  CASH_ADVANCE  PURCHASES_FREQUENCY  \\\n",
      "0                    95.4      0.000000             0.166667   \n",
      "1                     0.0   6442.945483             0.000000   \n",
      "2                     0.0      0.000000             1.000000   \n",
      "3                     0.0    205.788017             0.083333   \n",
      "4                     0.0      0.000000             0.083333   \n",
      "\n",
      "   ONEOFF_PURCHASES_FREQUENCY  PURCHASES_INSTALLMENTS_FREQUENCY  \\\n",
      "0                    0.000000                          0.083333   \n",
      "1                    0.000000                          0.000000   \n",
      "2                    1.000000                          0.000000   \n",
      "3                    0.083333                          0.000000   \n",
      "4                    0.083333                          0.000000   \n",
      "\n",
      "   CASH_ADVANCE_FREQUENCY  CASH_ADVANCE_TRX  PURCHASES_TRX  CREDIT_LIMIT  \\\n",
      "0                0.000000                 0              2        1000.0   \n",
      "1                0.250000                 4              0        7000.0   \n",
      "2                0.000000                 0             12        7500.0   \n",
      "3                0.083333                 1              1        7500.0   \n",
      "4                0.000000                 0              1        1200.0   \n",
      "\n",
      "      PAYMENTS  MINIMUM_PAYMENTS  PRC_FULL_PAYMENT  TENURE  \n",
      "0   201.802084        139.509787          0.000000      12  \n",
      "1  4103.032597       1072.340217          0.222222      12  \n",
      "2   622.066742        627.284787          0.000000      12  \n",
      "3     0.000000               NaN          0.000000      12  \n",
      "4   678.334763        244.791237          0.000000      12  \n"
     ]
    }
   ],
   "source": [
    "df = pd.read_csv('cc.csv')\n",
    "print(f'Number of rows: {df.shape[0]}')\n",
    "print(f'Number of columns: {df.shape[1]}')\n",
    "print(df.head())"
   ]
  },
  {
   "cell_type": "raw",
   "id": "3e3732d9",
   "metadata": {},
   "source": [
    "The columns are, in order: customer id, balance on credit card, how often the balance is updated by the credit card company, amount of purchases, amount of purchases paid in one lump sum, amount of purcases paid in installments, cash advance amount, 4 frequencies for the 4 types of transactions in terms of percent, number of transactions (TRX) for cash advance and for purchases, credit limit, payment, minimum payment, percent of payment in full, how long the customer owns the credit card."
   ]
  },
  {
   "cell_type": "markdown",
   "id": "17c74373",
   "metadata": {},
   "source": [
    "---"
   ]
  },
  {
   "cell_type": "markdown",
   "id": "b92b91b9",
   "metadata": {},
   "source": [
    "2. Data Cleaning<br>\n",
    "\n",
    "2a. __Print the number of NaNs__.<br>\n",
    "If there are NaNs and their number are small compared with the total number of data records, __drop the NaNs__<br>\n",
    "and __print the resulting number of rows__."
   ]
  },
  {
   "cell_type": "code",
   "execution_count": 25,
   "id": "70259bcd",
   "metadata": {},
   "outputs": [
    {
     "name": "stdout",
     "output_type": "stream",
     "text": [
      "Number of NaNs: 314\n",
      "Number of rows after dropping NaNs: 8636\n"
     ]
    }
   ],
   "source": [
    "nan_counts = df.isna().sum().sum()\n",
    "print(f'Number of NaNs: {nan_counts}')\n",
    "\n",
    "# Drop rows with NaNs\n",
    "df = df.dropna()\n",
    "# Print the resulting number of rows\n",
    "print(f'Number of rows after dropping NaNs: {df.shape[0]}')"
   ]
  },
  {
   "cell_type": "markdown",
   "id": "7c94a8f1",
   "metadata": {},
   "source": [
    "2b. __Change the columns labels to lowercase__<br>\n",
    "then __print the first rows__ of the DataFrame."
   ]
  },
  {
   "cell_type": "code",
   "execution_count": 26,
   "id": "e8947821",
   "metadata": {},
   "outputs": [
    {
     "name": "stdout",
     "output_type": "stream",
     "text": [
      "DataFrame after cleaning and updating column labels:\n",
      "  cust_id      balance  balance_frequency  purchases  oneoff_purchases  \\\n",
      "0  C10001    40.900749           0.818182      95.40              0.00   \n",
      "1  C10002  3202.467416           0.909091       0.00              0.00   \n",
      "2  C10003  2495.148862           1.000000     773.17            773.17   \n",
      "4  C10005   817.714335           1.000000      16.00             16.00   \n",
      "5  C10006  1809.828751           1.000000    1333.28              0.00   \n",
      "\n",
      "   installments_purchases  cash_advance  purchases_frequency  \\\n",
      "0                   95.40      0.000000             0.166667   \n",
      "1                    0.00   6442.945483             0.000000   \n",
      "2                    0.00      0.000000             1.000000   \n",
      "4                    0.00      0.000000             0.083333   \n",
      "5                 1333.28      0.000000             0.666667   \n",
      "\n",
      "   oneoff_purchases_frequency  purchases_installments_frequency  \\\n",
      "0                    0.000000                          0.083333   \n",
      "1                    0.000000                          0.000000   \n",
      "2                    1.000000                          0.000000   \n",
      "4                    0.083333                          0.000000   \n",
      "5                    0.000000                          0.583333   \n",
      "\n",
      "   cash_advance_frequency  cash_advance_trx  purchases_trx  credit_limit  \\\n",
      "0                    0.00                 0              2        1000.0   \n",
      "1                    0.25                 4              0        7000.0   \n",
      "2                    0.00                 0             12        7500.0   \n",
      "4                    0.00                 0              1        1200.0   \n",
      "5                    0.00                 0              8        1800.0   \n",
      "\n",
      "      payments  minimum_payments  prc_full_payment  tenure  \n",
      "0   201.802084        139.509787          0.000000      12  \n",
      "1  4103.032597       1072.340217          0.222222      12  \n",
      "2   622.066742        627.284787          0.000000      12  \n",
      "4   678.334763        244.791237          0.000000      12  \n",
      "5  1400.057770       2407.246035          0.000000      12  \n"
     ]
    }
   ],
   "source": [
    "df.columns = [col.lower() for col in df.columns]\n",
    "print(\"DataFrame after cleaning and updating column labels:\")\n",
    "print(df.head())"
   ]
  },
  {
   "cell_type": "markdown",
   "id": "1d90ba98",
   "metadata": {},
   "source": [
    "---"
   ]
  },
  {
   "cell_type": "markdown",
   "id": "299c0915",
   "metadata": {},
   "source": [
    "3. Drop features that are unnecessary, duplicates, or closely related to another feature.<br>\n",
    "This is an example of dimensionality reduction (but without doing the math).\n",
    "\n",
    "- `'balance'` is limited by the customer's 'credit limit' and can be dropped.\n",
    "- `'balance_frequency'` is the rate that the balance is updated by the credit card company. It is not a customer credit card behavior and can be dropped.\n",
    "- `'purchases'`, `'oneoff_purchases'`, `'installments_purchases'`, and `'cash_advance'` are amounts that are limited by the customer's 'credit limit'. Therefore they can be dropped.\n",
    "- 'purchases_frequency' and 'purchases_trx' are both measurements of how often the customer makes a purchase, therefore we keep one of them by dropping the `'purchases_frequency'` and keeping the 'purchase_trx', which is the number of purchases in one year.\n",
    "- 'cash_advance_frequency' and 'cash_advance_trx' are both measurements of how often the customer makes a cash advance, therefore we keep one of them by dropping `'cash_advance_frequency'`, which is the number of cash advances in one year.\n",
    "- `'oneoff_purchases_frequency'` and `'installments_purchases_frequency'` are already represented by 'purchases_trx', so we drop both of them.\n",
    "- `'minimum_payments'` and `'payments'` are dependent on the 'balance' and can be dropped.\n",
    "\n",
    "In addition to the columns highlighted above, there is one more column that should be dropped.<br>\n",
    "__Determine the additional column to be dropped__,<br>\n",
    "then __drop the additional column and the columns highlighted above__ and __save the result in a new DataFrame name__ (don't modify the cleaned DataFrame of step 2b above, you'll use it in a later step).<br>\n",
    "Then __print the first rows__ of the new DataFrame."
   ]
  },
  {
   "cell_type": "code",
   "execution_count": 27,
   "id": "2b1e3f55",
   "metadata": {},
   "outputs": [
    {
     "name": "stdout",
     "output_type": "stream",
     "text": [
      "DataFrame after dropping unnecessary features:\n",
      "   cash_advance_trx  purchases_trx  credit_limit  prc_full_payment  tenure\n",
      "0                 0              2        1000.0          0.000000      12\n",
      "1                 4              0        7000.0          0.222222      12\n",
      "2                 0             12        7500.0          0.000000      12\n",
      "4                 0              1        1200.0          0.000000      12\n",
      "5                 0              8        1800.0          0.000000      12\n"
     ]
    }
   ],
   "source": [
    "# List of columns to drop\n",
    "columns_to_drop = [\n",
    "    'balance', 'balance_frequency', 'purchases', 'oneoff_purchases',\n",
    "    'installments_purchases', 'cash_advance', 'purchases_frequency',\n",
    "    'oneoff_purchases_frequency', 'purchases_installments_frequency',\n",
    "    'cash_advance_frequency', 'minimum_payments', 'payments'\n",
    "]\n",
    "\n",
    "# Drop customer id\n",
    "columns_to_drop.append('cust_id')\n",
    "\n",
    "df_reduced = df.drop(columns=columns_to_drop)\n",
    "\n",
    "print(\"DataFrame after dropping unnecessary features:\")\n",
    "print(df_reduced.head())"
   ]
  },
  {
   "cell_type": "markdown",
   "id": "18dcd889",
   "metadata": {},
   "source": [
    "---"
   ]
  },
  {
   "cell_type": "markdown",
   "id": "2f6b4807",
   "metadata": {},
   "source": [
    " 4. Get an overview of the data.\n",
    "\n",
    "4a. __Create a plot with 5 subplots to show the data distribution of each column of the DataFrame__ from step 3.<br>\n",
    "The subplots should be in 2 rows.<br>\n",
    "Each subplot should have a title that shows which feature is being plotted.<br>\n",
    "\n",
    "_Use a loop to do the plotting, don't copy and paste the plotting code 5 times_.<br>\n",
    "_Adjust the subplots so they are spaced apart enough and don't overlap each other._"
   ]
  },
  {
   "cell_type": "code",
   "execution_count": 28,
   "id": "200c2f61",
   "metadata": {},
   "outputs": [
    {
     "data": {
      "image/png": "[encoded data removed]",
      "text/plain": [
       "<Figure size 1500x1000 with 5 Axes>"
      ]
     },
     "metadata": {},
     "output_type": "display_data"
    }
   ],
   "source": [
    "# Ensure there are exactly 5 columns to plot\n",
    "if len(df_reduced.columns) > 5:\n",
    "    print(\"Too many columns left for plotting.\")\n",
    "elif len(df_reduced.columns) < 5:\n",
    "    print(\"Not enough columns left for plotting.\")\n",
    "else:\n",
    "    # Create a plot with 5 subplots to show the data distribution of each column\n",
    "    fig, axes = plt.subplots(nrows=2, ncols=3, figsize=(15, 10))\n",
    "    axes = axes.flatten()\n",
    "\n",
    "    for idx, column in enumerate(df_reduced.columns):\n",
    "        df_reduced[column].plot(kind='hist', ax=axes[idx], title=column)\n",
    "\n",
    "    # Remove the extra subplot\n",
    "    fig.delaxes(axes[-1])\n",
    "\n",
    "    # Adjust the layout\n",
    "    plt.tight_layout()\n",
    "    plt.show()"
   ]
  },
  {
   "cell_type": "markdown",
   "id": "5a2d795c",
   "metadata": {},
   "source": [
    "4b. Create a Raw NBConvert cell to briefly __discuss your observations of <u>each</u> distribution__.<br>"
   ]
  },
  {
   "cell_type": "raw",
   "id": "a2c053b4",
   "metadata": {
    "vscode": {
     "languageId": "raw"
    }
   },
   "source": [
    "Observations of Each Distribution\n",
    "\n",
    "1. cash_advance_trx:\n",
    "   The distribution shows that the majority of customers have very few cash advance transactions, with a significant number having none at all. There are some outliers with a higher number of cash advance transactions, but they are relatively rare.\n",
    "\n",
    "2. purchases_trx:\n",
    "   This distribution indicates that most customers have a low number of purchase transactions. There is a long tail extending to higher transaction counts, but these cases are infrequent. This suggests that while some customers make frequent purchases, most do not.\n",
    "\n",
    "3. credit_limit:\n",
    "   The distribution of credit limits is right-skewed, with a large number of customers having lower credit limits. Higher credit limits are less common. This is typical as credit limits are usually set based on a customer's creditworthiness and financial status.\n",
    "\n",
    "4. prc_full_payment:\n",
    "   This feature shows the percentage of full payments made by customers. The distribution indicates that many customers either do not pay in full regularly (with a significant peak at 0%) or they frequently pay in full (with a smaller peak near 100%). This bimodal distribution suggests varying payment behaviors among customers.\n",
    "\n",
    "5. tenure:\n",
    "   The tenure distribution shows that most customers have been with the credit card company for 12 months. This peak might be due to the data collection period or specific customer retention policies by the credit card company. There are fewer customers with tenures less than 12 months."
   ]
  },
  {
   "cell_type": "markdown",
   "id": "c1054ce9",
   "metadata": {},
   "source": [
    "---"
   ]
  },
  {
   "cell_type": "markdown",
   "id": "f8bff677",
   "metadata": {},
   "source": [
    "5. Machine Learning: separate the data into clusters with similar characteristics.\n",
    "\n",
    "5a. Using the KMeans Clustering model, __determine the best number of clusters__,<br>\n",
    "__train the model__, and __group the data into clusters__.<br>\n",
    "\n",
    "At the end of this step you should have N number of clusters, each cluster has selected rows of the cleaned DataFrame that you had in step 2b.\n",
    "\n",
    "_It's recommended that you create multiple code cells for the steps_."
   ]
  },
  {
   "cell_type": "code",
   "execution_count": 29,
   "id": "971e51c1",
   "metadata": {},
   "outputs": [
    {
     "name": "stderr",
     "output_type": "stream",
     "text": [
      "/Users/aryan/anaconda3/envs/asdrp/lib/python3.9/site-packages/sklearn/cluster/_kmeans.py:1416: FutureWarning: The default value of `n_init` will change from 10 to 'auto' in 1.4. Set the value of `n_init` explicitly to suppress the warning\n",
      "  super()._check_params_vs_input(X, default_n_init=10)\n",
      "/Users/aryan/anaconda3/envs/asdrp/lib/python3.9/site-packages/sklearn/cluster/_kmeans.py:1416: FutureWarning: The default value of `n_init` will change from 10 to 'auto' in 1.4. Set the value of `n_init` explicitly to suppress the warning\n",
      "  super()._check_params_vs_input(X, default_n_init=10)\n",
      "/Users/aryan/anaconda3/envs/asdrp/lib/python3.9/site-packages/sklearn/cluster/_kmeans.py:1416: FutureWarning: The default value of `n_init` will change from 10 to 'auto' in 1.4. Set the value of `n_init` explicitly to suppress the warning\n",
      "  super()._check_params_vs_input(X, default_n_init=10)\n",
      "/Users/aryan/anaconda3/envs/asdrp/lib/python3.9/site-packages/sklearn/cluster/_kmeans.py:1416: FutureWarning: The default value of `n_init` will change from 10 to 'auto' in 1.4. Set the value of `n_init` explicitly to suppress the warning\n",
      "  super()._check_params_vs_input(X, default_n_init=10)\n",
      "/Users/aryan/anaconda3/envs/asdrp/lib/python3.9/site-packages/sklearn/cluster/_kmeans.py:1416: FutureWarning: The default value of `n_init` will change from 10 to 'auto' in 1.4. Set the value of `n_init` explicitly to suppress the warning\n",
      "  super()._check_params_vs_input(X, default_n_init=10)\n",
      "/Users/aryan/anaconda3/envs/asdrp/lib/python3.9/site-packages/sklearn/cluster/_kmeans.py:1416: FutureWarning: The default value of `n_init` will change from 10 to 'auto' in 1.4. Set the value of `n_init` explicitly to suppress the warning\n",
      "  super()._check_params_vs_input(X, default_n_init=10)\n",
      "/Users/aryan/anaconda3/envs/asdrp/lib/python3.9/site-packages/sklearn/cluster/_kmeans.py:1416: FutureWarning: The default value of `n_init` will change from 10 to 'auto' in 1.4. Set the value of `n_init` explicitly to suppress the warning\n",
      "  super()._check_params_vs_input(X, default_n_init=10)\n",
      "/Users/aryan/anaconda3/envs/asdrp/lib/python3.9/site-packages/sklearn/cluster/_kmeans.py:1416: FutureWarning: The default value of `n_init` will change from 10 to 'auto' in 1.4. Set the value of `n_init` explicitly to suppress the warning\n",
      "  super()._check_params_vs_input(X, default_n_init=10)\n",
      "/Users/aryan/anaconda3/envs/asdrp/lib/python3.9/site-packages/sklearn/cluster/_kmeans.py:1416: FutureWarning: The default value of `n_init` will change from 10 to 'auto' in 1.4. Set the value of `n_init` explicitly to suppress the warning\n",
      "  super()._check_params_vs_input(X, default_n_init=10)\n",
      "/Users/aryan/anaconda3/envs/asdrp/lib/python3.9/site-packages/sklearn/cluster/_kmeans.py:1416: FutureWarning: The default value of `n_init` will change from 10 to 'auto' in 1.4. Set the value of `n_init` explicitly to suppress the warning\n",
      "  super()._check_params_vs_input(X, default_n_init=10)\n"
     ]
    }
   ],
   "source": [
    "#elbow method\n",
    "inertia = []\n",
    "for n in range(1, 11):\n",
    "    kmeans = KMeans(n_clusters=n, random_state=42)\n",
    "    kmeans.fit(df_reduced)\n",
    "    inertia.append(kmeans.inertia_)"
   ]
  },
  {
   "cell_type": "code",
   "execution_count": 30,
   "id": "d70a66ec",
   "metadata": {},
   "outputs": [
    {
     "data": {
      "image/png": "[encoded data removed]",
      "text/plain": [
       "<Figure size 800x400 with 1 Axes>"
      ]
     },
     "metadata": {},
     "output_type": "display_data"
    }
   ],
   "source": [
    "# Plotting the elbow method\n",
    "plt.figure(figsize=(8, 4))\n",
    "plt.plot(range(1, 11), inertia, marker='o')\n",
    "plt.title('Elbow Method for Optimal Clusters')\n",
    "plt.xlabel('Number of Clusters')\n",
    "plt.ylabel('Inertia')\n",
    "plt.show()\n"
   ]
  },
  {
   "cell_type": "code",
   "execution_count": 31,
   "id": "320238f9",
   "metadata": {},
   "outputs": [
    {
     "name": "stderr",
     "output_type": "stream",
     "text": [
      "/Users/aryan/anaconda3/envs/asdrp/lib/python3.9/site-packages/sklearn/cluster/_kmeans.py:1416: FutureWarning: The default value of `n_init` will change from 10 to 'auto' in 1.4. Set the value of `n_init` explicitly to suppress the warning\n",
      "  super()._check_params_vs_input(X, default_n_init=10)\n"
     ]
    }
   ],
   "source": [
    "# Choosing the number of clusters\n",
    "n_clusters = 10\n",
    "kmeans = KMeans(n_clusters=n_clusters, random_state=42)\n",
    "clusters = kmeans.fit_predict(df_reduced)"
   ]
  },
  {
   "cell_type": "code",
   "execution_count": 32,
   "id": "43e0b075",
   "metadata": {},
   "outputs": [],
   "source": [
    "# Adding the cluster labels to the original DataFrame\n",
    "df['cluster'] = clusters"
   ]
  },
  {
   "cell_type": "markdown",
   "id": "afa3425c",
   "metadata": {},
   "source": [
    "5b. __Show the first 2 rows of each cluster__ to check your work.<br>\n",
    "Each cluster output should be 2 rows of a DataFrame that has all the columns of the DataFrame in step 2b."
   ]
  },
  {
   "cell_type": "code",
   "execution_count": 33,
   "id": "d102423b",
   "metadata": {},
   "outputs": [
    {
     "name": "stdout",
     "output_type": "stream",
     "text": [
      "Cluster 0:\n",
      "  cust_id     balance  balance_frequency  purchases  oneoff_purchases  \\\n",
      "0  C10001   40.900749           0.818182       95.4               0.0   \n",
      "4  C10005  817.714335           1.000000       16.0              16.0   \n",
      "\n",
      "   installments_purchases  cash_advance  purchases_frequency  \\\n",
      "0                    95.4           0.0             0.166667   \n",
      "4                     0.0           0.0             0.083333   \n",
      "\n",
      "   oneoff_purchases_frequency  purchases_installments_frequency  \\\n",
      "0                    0.000000                          0.083333   \n",
      "4                    0.083333                          0.000000   \n",
      "\n",
      "   cash_advance_frequency  cash_advance_trx  purchases_trx  credit_limit  \\\n",
      "0                     0.0                 0              2        1000.0   \n",
      "4                     0.0                 0              1        1200.0   \n",
      "\n",
      "     payments  minimum_payments  prc_full_payment  tenure  cluster  \n",
      "0  201.802084        139.509787               0.0      12        0  \n",
      "4  678.334763        244.791237               0.0      12        0  \n",
      "\n",
      "Cluster 1:\n",
      "   cust_id      balance  balance_frequency  purchases  oneoff_purchases  \\\n",
      "15  C10016  6886.213231           1.000000    1611.70              0.00   \n",
      "23  C10024  3800.151377           0.818182    4248.35           3454.56   \n",
      "\n",
      "    installments_purchases  cash_advance  purchases_frequency  \\\n",
      "15                 1611.70   2301.491267                  0.5   \n",
      "23                  793.79   7974.415626                  1.0   \n",
      "\n",
      "    oneoff_purchases_frequency  purchases_installments_frequency  \\\n",
      "15                    0.000000                          0.500000   \n",
      "23                    0.083333                          0.916667   \n",
      "\n",
      "    cash_advance_frequency  cash_advance_trx  purchases_trx  credit_limit  \\\n",
      "15                0.166667                 4             11        8000.0   \n",
      "23                0.333333                13             13        9000.0   \n",
      "\n",
      "       payments  minimum_payments  prc_full_payment  tenure  cluster  \n",
      "15  1993.439277       2109.906490               0.0      12        1  \n",
      "23  9479.043842       1425.426525               0.0      12        1  \n",
      "\n",
      "Cluster 2:\n",
      "   cust_id      balance  balance_frequency  purchases  oneoff_purchases  \\\n",
      "6   C10007   627.260806                1.0    7091.01           6402.63   \n",
      "18  C10019  1989.072228                1.0     504.35            166.00   \n",
      "\n",
      "    installments_purchases  cash_advance  purchases_frequency  \\\n",
      "6                   688.38           0.0             1.000000   \n",
      "18                  338.35           0.0             0.666667   \n",
      "\n",
      "    oneoff_purchases_frequency  purchases_installments_frequency  \\\n",
      "6                     1.000000                          1.000000   \n",
      "18                    0.083333                          0.583333   \n",
      "\n",
      "    cash_advance_frequency  cash_advance_trx  purchases_trx  credit_limit  \\\n",
      "6                      0.0                 0             64       13500.0   \n",
      "18                     0.0                 0              9       13000.0   \n",
      "\n",
      "       payments  minimum_payments  prc_full_payment  tenure  cluster  \n",
      "6   6354.314328        198.065894               1.0      12        2  \n",
      "18  1720.837373        744.613395               0.0      12        2  \n",
      "\n",
      "Cluster 3:\n",
      "   cust_id      balance  balance_frequency  purchases  oneoff_purchases  \\\n",
      "7   C10008  1823.652743                1.0     436.20              0.00   \n",
      "12  C10013  1516.928620                1.0    3217.99           2500.23   \n",
      "\n",
      "    installments_purchases  cash_advance  purchases_frequency  \\\n",
      "7                   436.20           0.0                  1.0   \n",
      "12                  717.76           0.0                  1.0   \n",
      "\n",
      "    oneoff_purchases_frequency  purchases_installments_frequency  \\\n",
      "7                         0.00                          1.000000   \n",
      "12                        0.25                          0.916667   \n",
      "\n",
      "    cash_advance_frequency  cash_advance_trx  purchases_trx  credit_limit  \\\n",
      "7                      0.0                 0             12        2300.0   \n",
      "12                     0.0                 0             26        3000.0   \n",
      "\n",
      "      payments  minimum_payments  prc_full_payment  tenure  cluster  \n",
      "7   679.065082        532.033990              0.00      12        3  \n",
      "12  608.263689        490.207013              0.25      12        3  \n",
      "\n",
      "Cluster 4:\n",
      "    cust_id      balance  balance_frequency  purchases  oneoff_purchases  \\\n",
      "124  C10130  14224.11541                1.0       0.00              0.00   \n",
      "138  C10144  19043.13856                1.0   22009.92           9449.07   \n",
      "\n",
      "     installments_purchases  cash_advance  purchases_frequency  \\\n",
      "124                    0.00   4614.427403                  0.0   \n",
      "138                12560.85      0.000000                  1.0   \n",
      "\n",
      "     oneoff_purchases_frequency  purchases_installments_frequency  \\\n",
      "124                        0.00                               0.0   \n",
      "138                        0.75                               1.0   \n",
      "\n",
      "     cash_advance_frequency  cash_advance_trx  purchases_trx  credit_limit  \\\n",
      "124                0.333333                 9              0       19000.0   \n",
      "138                0.000000                 0            216       18000.0   \n",
      "\n",
      "         payments  minimum_payments  prc_full_payment  tenure  cluster  \n",
      "124   3066.614272       3406.258999               0.0      12        4  \n",
      "138  23018.575830      18621.013310               0.0      12        4  \n",
      "\n",
      "Cluster 5:\n",
      "   cust_id      balance  balance_frequency  purchases  oneoff_purchases  \\\n",
      "24  C10025  5368.571219                1.0       0.00               0.0   \n",
      "31  C10032  1162.273324                1.0    1347.71             400.0   \n",
      "\n",
      "    installments_purchases  cash_advance  purchases_frequency  \\\n",
      "24                    0.00    798.949863                  0.0   \n",
      "31                  947.71    175.815755                  1.0   \n",
      "\n",
      "    oneoff_purchases_frequency  purchases_installments_frequency  \\\n",
      "24                    0.000000                               0.0   \n",
      "31                    0.083333                               1.0   \n",
      "\n",
      "    cash_advance_frequency  cash_advance_trx  purchases_trx  credit_limit  \\\n",
      "24                0.363636                 4              0        6000.0   \n",
      "31                0.166667                 2             45        6000.0   \n",
      "\n",
      "       payments  minimum_payments  prc_full_payment  tenure  cluster  \n",
      "24  1422.726707       1657.002877               0.0      11        5  \n",
      "31   645.998299        256.848991               0.0      12        5  \n",
      "\n",
      "Cluster 6:\n",
      "   cust_id      balance  balance_frequency  purchases  oneoff_purchases  \\\n",
      "9   C10010   152.225975           0.545455    1281.60           1281.60   \n",
      "28  C10029  7152.864372           1.000000     387.05            204.55   \n",
      "\n",
      "    installments_purchases  cash_advance  purchases_frequency  \\\n",
      "9                      0.0      0.000000             0.166667   \n",
      "28                   182.5   2236.145259             0.666667   \n",
      "\n",
      "    oneoff_purchases_frequency  purchases_installments_frequency  \\\n",
      "9                     0.166667                          0.000000   \n",
      "28                    0.166667                          0.416667   \n",
      "\n",
      "    cash_advance_frequency  cash_advance_trx  purchases_trx  credit_limit  \\\n",
      "9                 0.000000                 0              3       11000.0   \n",
      "28                0.833333                16              8       10500.0   \n",
      "\n",
      "       payments  minimum_payments  prc_full_payment  tenure  cluster  \n",
      "9   1164.770591        100.302262               0.0      12        6  \n",
      "28  1601.448347       1648.851345               0.0      12        6  \n",
      "\n",
      "Cluster 7:\n",
      "    cust_id      balance  balance_frequency  purchases  oneoff_purchases  \\\n",
      "85   C10089   134.917202                1.0    1247.80           1247.80   \n",
      "120  C10125  8504.876253                1.0    6724.26           4100.08   \n",
      "\n",
      "     installments_purchases  cash_advance  purchases_frequency  \\\n",
      "85                     0.00      0.000000                  1.0   \n",
      "120                 2624.18   1686.599777                  1.0   \n",
      "\n",
      "     oneoff_purchases_frequency  purchases_installments_frequency  \\\n",
      "85                     1.000000                               0.0   \n",
      "120                    0.916667                               1.0   \n",
      "\n",
      "     cash_advance_frequency  cash_advance_trx  purchases_trx  credit_limit  \\\n",
      "85                      0.0                 0             22       16500.0   \n",
      "120                     0.5                10             85       17000.0   \n",
      "\n",
      "        payments  minimum_payments  prc_full_payment  tenure  cluster  \n",
      "85   1275.229436        171.357189               1.0      12        7  \n",
      "120  1888.756861       2167.446204               0.0      12        7  \n",
      "\n",
      "Cluster 8:\n",
      "   cust_id      balance  balance_frequency  purchases  oneoff_purchases  \\\n",
      "19  C10020  3577.970933                1.0     398.64              0.00   \n",
      "42  C10044  4104.710798                1.0     203.82            203.82   \n",
      "\n",
      "    installments_purchases  cash_advance  purchases_frequency  \\\n",
      "19                  398.64           0.0             1.000000   \n",
      "42                    0.00           0.0             0.083333   \n",
      "\n",
      "    oneoff_purchases_frequency  purchases_installments_frequency  \\\n",
      "19                    0.000000                               1.0   \n",
      "42                    0.083333                               0.0   \n",
      "\n",
      "    cash_advance_frequency  cash_advance_trx  purchases_trx  credit_limit  \\\n",
      "19                     0.0                 0             12        4000.0   \n",
      "42                     0.0                 0              1        4500.0   \n",
      "\n",
      "       payments  minimum_payments  prc_full_payment  tenure  cluster  \n",
      "19  1053.980464      12465.549380               0.0      12        8  \n",
      "42   868.275275       1801.264841               0.0      12        8  \n",
      "\n",
      "Cluster 9:\n",
      "  cust_id      balance  balance_frequency  purchases  oneoff_purchases  \\\n",
      "1  C10002  3202.467416           0.909091       0.00              0.00   \n",
      "2  C10003  2495.148862           1.000000     773.17            773.17   \n",
      "\n",
      "   installments_purchases  cash_advance  purchases_frequency  \\\n",
      "1                     0.0   6442.945483                  0.0   \n",
      "2                     0.0      0.000000                  1.0   \n",
      "\n",
      "   oneoff_purchases_frequency  purchases_installments_frequency  \\\n",
      "1                         0.0                               0.0   \n",
      "2                         1.0                               0.0   \n",
      "\n",
      "   cash_advance_frequency  cash_advance_trx  purchases_trx  credit_limit  \\\n",
      "1                    0.25                 4              0        7000.0   \n",
      "2                    0.00                 0             12        7500.0   \n",
      "\n",
      "      payments  minimum_payments  prc_full_payment  tenure  cluster  \n",
      "1  4103.032597       1072.340217          0.222222      12        9  \n",
      "2   622.066742        627.284787          0.000000      12        9  \n",
      "\n"
     ]
    }
   ],
   "source": [
    "for cluster in range(n_clusters):\n",
    "    print(f\"Cluster {cluster}:\")\n",
    "    print(df[df['cluster'] == cluster].head(2))\n",
    "    print()"
   ]
  },
  {
   "cell_type": "markdown",
   "id": "eb7e33bc",
   "metadata": {},
   "source": [
    "---"
   ]
  },
  {
   "cell_type": "markdown",
   "id": "df4aa7aa",
   "metadata": {},
   "source": [
    "6. Analyze and interpret the clusters.<br>\n",
    "\n",
    "6a. __Create a DataFrame of the mean of each column of the clusters__.<br>\n",
    "\n",
    "Example: if you have 5 clusters, the resulting DataFrame will have 5 rows.<br>\n",
    "Each row will have 17 columns, which is the number of columns in the DataFrame of step 2b, but not counting the customer id column.<br>\n",
    "Each column value of the resulting DataFrame is the mean of that column in the cluster.\n",
    "\n",
    "_Hint: Since there are a only a few clusters, it's fastest to go through each cluster and find the means of the columns and store the result in a list. Then convert the list into a DataFrame._\n",
    "\n",
    "Then __print the resulting DataFrame__ of the means of the clusters."
   ]
  },
  {
   "cell_type": "code",
   "execution_count": 34,
   "id": "a6189f49",
   "metadata": {},
   "outputs": [
    {
     "name": "stdout",
     "output_type": "stream",
     "text": [
      "DataFrame of the means of each cluster:\n",
      "       balance  balance_frequency    purchases  oneoff_purchases  \\\n",
      "0   672.412595           0.881795   449.695581        213.799343   \n",
      "1  3059.357969           0.941681  1513.115976        967.728974   \n",
      "2  4383.668908           0.946866  2347.430325       1579.880144   \n",
      "3  1065.259693           0.875526   660.029981        341.776320   \n",
      "4  6111.056021           0.893634  6226.554605       4115.128158   \n",
      "5  1879.934904           0.898793  1176.053567        680.925621   \n",
      "6  3335.404022           0.930683  1898.208645       1225.034606   \n",
      "7  4934.752275           0.927673  3572.266707       2363.151198   \n",
      "8  1329.855413           0.881195   986.106165        576.763042   \n",
      "9  2110.845507           0.921492  1447.516028        891.257528   \n",
      "\n",
      "   installments_purchases  cash_advance  purchases_frequency  \\\n",
      "0              236.237858    351.276844             0.454147   \n",
      "1              545.485594   2098.279246             0.503381   \n",
      "2              767.791877   2612.459031             0.590135   \n",
      "3              318.305842    753.607895             0.439213   \n",
      "4             2111.426447   2409.299792             0.669079   \n",
      "5              495.776242   1242.482155             0.523544   \n",
      "6              673.174039   2251.934342             0.570284   \n",
      "7             1209.247246   2439.295716             0.640183   \n",
      "8              409.901231    836.919010             0.529602   \n",
      "9              556.617831   1348.338059             0.560645   \n",
      "\n",
      "   oneoff_purchases_frequency  purchases_installments_frequency  \\\n",
      "0                    0.116372                          0.351943   \n",
      "1                    0.280733                          0.357941   \n",
      "2                    0.354051                          0.438985   \n",
      "3                    0.147886                          0.334370   \n",
      "4                    0.466122                          0.501841   \n",
      "5                    0.243236                          0.382672   \n",
      "6                    0.358767                          0.386346   \n",
      "7                    0.423120                          0.469830   \n",
      "8                    0.225719                          0.388664   \n",
      "9                    0.326435                          0.394904   \n",
      "\n",
      "   cash_advance_frequency  cash_advance_trx  purchases_trx  credit_limit  \\\n",
      "0                0.105967          2.072664       8.794810   1359.707036   \n",
      "1                0.196738          5.541247      19.758551   8524.657033   \n",
      "2                0.200380          5.743682      29.787004  12274.187726   \n",
      "3                0.132143          3.029697      11.287282   2758.313966   \n",
      "4                0.156778          4.921053      43.368421  19409.210526   \n",
      "5                0.153716          3.836673      18.288577   5541.965750   \n",
      "6                0.199677          5.431034      24.495074  10140.640394   \n",
      "7                0.177365          4.508982      36.497006  15282.934132   \n",
      "8                0.125827          3.149542      15.187182   4026.251837   \n",
      "9                0.156915          4.204288      20.602774   7037.521495   \n",
      "\n",
      "      payments  minimum_payments  prc_full_payment     tenure  \n",
      "0   807.206341        624.159287          0.139371  11.226298  \n",
      "1  2979.775366       1545.505284          0.124357  11.710262  \n",
      "2  4041.077845       1507.152502          0.152944  11.859206  \n",
      "3  1273.451080        704.964905          0.157326  11.553260  \n",
      "4  9450.526814       2125.159864          0.289843  11.736842  \n",
      "5  2019.929983        940.777066          0.185712  11.698397  \n",
      "6  3274.338581       1203.590744          0.162983  11.633005  \n",
      "7  5787.974507       1644.272049          0.249809  11.856287  \n",
      "8  1620.201679        803.268447          0.176738  11.730417  \n",
      "9  2373.596820        919.870521          0.171632  11.809584  \n"
     ]
    },
    {
     "name": "stderr",
     "output_type": "stream",
     "text": [
      "/var/folders/zg/8nkv6yr17qq1t72f3xfzhwrm0000gp/T/ipykernel_40144/273783139.py:6: FutureWarning: The default value of numeric_only in DataFrame.mean is deprecated. In a future version, it will default to False. In addition, specifying 'numeric_only=None' is deprecated. Select only valid columns or specify the value of numeric_only to silence this warning.\n",
      "  cluster_mean = cluster_data.mean()\n",
      "/var/folders/zg/8nkv6yr17qq1t72f3xfzhwrm0000gp/T/ipykernel_40144/273783139.py:6: FutureWarning: The default value of numeric_only in DataFrame.mean is deprecated. In a future version, it will default to False. In addition, specifying 'numeric_only=None' is deprecated. Select only valid columns or specify the value of numeric_only to silence this warning.\n",
      "  cluster_mean = cluster_data.mean()\n",
      "/var/folders/zg/8nkv6yr17qq1t72f3xfzhwrm0000gp/T/ipykernel_40144/273783139.py:6: FutureWarning: The default value of numeric_only in DataFrame.mean is deprecated. In a future version, it will default to False. In addition, specifying 'numeric_only=None' is deprecated. Select only valid columns or specify the value of numeric_only to silence this warning.\n",
      "  cluster_mean = cluster_data.mean()\n",
      "/var/folders/zg/8nkv6yr17qq1t72f3xfzhwrm0000gp/T/ipykernel_40144/273783139.py:6: FutureWarning: The default value of numeric_only in DataFrame.mean is deprecated. In a future version, it will default to False. In addition, specifying 'numeric_only=None' is deprecated. Select only valid columns or specify the value of numeric_only to silence this warning.\n",
      "  cluster_mean = cluster_data.mean()\n",
      "/var/folders/zg/8nkv6yr17qq1t72f3xfzhwrm0000gp/T/ipykernel_40144/273783139.py:6: FutureWarning: The default value of numeric_only in DataFrame.mean is deprecated. In a future version, it will default to False. In addition, specifying 'numeric_only=None' is deprecated. Select only valid columns or specify the value of numeric_only to silence this warning.\n",
      "  cluster_mean = cluster_data.mean()\n",
      "/var/folders/zg/8nkv6yr17qq1t72f3xfzhwrm0000gp/T/ipykernel_40144/273783139.py:6: FutureWarning: The default value of numeric_only in DataFrame.mean is deprecated. In a future version, it will default to False. In addition, specifying 'numeric_only=None' is deprecated. Select only valid columns or specify the value of numeric_only to silence this warning.\n",
      "  cluster_mean = cluster_data.mean()\n",
      "/var/folders/zg/8nkv6yr17qq1t72f3xfzhwrm0000gp/T/ipykernel_40144/273783139.py:6: FutureWarning: The default value of numeric_only in DataFrame.mean is deprecated. In a future version, it will default to False. In addition, specifying 'numeric_only=None' is deprecated. Select only valid columns or specify the value of numeric_only to silence this warning.\n",
      "  cluster_mean = cluster_data.mean()\n",
      "/var/folders/zg/8nkv6yr17qq1t72f3xfzhwrm0000gp/T/ipykernel_40144/273783139.py:6: FutureWarning: The default value of numeric_only in DataFrame.mean is deprecated. In a future version, it will default to False. In addition, specifying 'numeric_only=None' is deprecated. Select only valid columns or specify the value of numeric_only to silence this warning.\n",
      "  cluster_mean = cluster_data.mean()\n",
      "/var/folders/zg/8nkv6yr17qq1t72f3xfzhwrm0000gp/T/ipykernel_40144/273783139.py:6: FutureWarning: The default value of numeric_only in DataFrame.mean is deprecated. In a future version, it will default to False. In addition, specifying 'numeric_only=None' is deprecated. Select only valid columns or specify the value of numeric_only to silence this warning.\n",
      "  cluster_mean = cluster_data.mean()\n",
      "/var/folders/zg/8nkv6yr17qq1t72f3xfzhwrm0000gp/T/ipykernel_40144/273783139.py:6: FutureWarning: The default value of numeric_only in DataFrame.mean is deprecated. In a future version, it will default to False. In addition, specifying 'numeric_only=None' is deprecated. Select only valid columns or specify the value of numeric_only to silence this warning.\n",
      "  cluster_mean = cluster_data.mean()\n"
     ]
    }
   ],
   "source": [
    "cluster_means = []\n",
    "\n",
    "# Iterate through each cluster\n",
    "for cluster in range(n_clusters):\n",
    "    cluster_data = df[df['cluster'] == cluster].drop(columns=['cluster'])\n",
    "    cluster_mean = cluster_data.mean()\n",
    "    cluster_means.append(cluster_mean)\n",
    "\n",
    "# Convert the list to a DataFrame\n",
    "cluster_means_df = pd.DataFrame(cluster_means)\n",
    "\n",
    "print(\"DataFrame of the means of each cluster:\")\n",
    "print(cluster_means_df)\n"
   ]
  },
  {
   "cell_type": "markdown",
   "id": "6805b851",
   "metadata": {},
   "source": [
    "6b. Observing the means of each cluster shown in the DataFrame of step 6a,<br>\n",
    "__compare the characteristics of each cluster__ in terms of the behavior of the customers:<br>\n",
    "\n",
    "- Rank the clusters by credit limit\n",
    "- Which cluster has a high ratio of balance / credit limit? Use a code cell to do the calculation and print the result.\n",
    "- Which cluster has more overall purchase _transactions_ than cash_advance _transactions_?<br>\n",
    "Does this fit with the pattern of how people use credit cards?\n",
    "- Compare the prc_full_payment (percent full payment or how much of their payments are paying the credit card balance in full) among the clusters.<br>\n",
    "How is this related to the prc_full_payment distribution?\n",
    "- Compare the tenure (how long the customers own the credit card) among the clusters.<br>\n",
    "How is this related to the tenure distribution?\n",
    "\n",
    "_Create a Raw NBConvert cell to answer each of the 5 questions_.<br>"
   ]
  },
  {
   "cell_type": "raw",
   "id": "b62ae415",
   "metadata": {
    "vscode": {
     "languageId": "raw"
    }
   },
   "source": [
    "Analysis and Interpretation of Clusters\n",
    "\n",
    "1. Rank the clusters by credit limit\n",
    "The clusters ranked by credit limit are as follows:\n",
    "\n",
    "| Cluster | Credit Limit |\n",
    "|---------|--------------|\n",
    "| 7       | 5787.97      |\n",
    "| 4       | 5686.93      |\n",
    "| 2       | 5312.32      |\n",
    "| 1       | 4271.18      |\n",
    "| 6       | 3274.34      |\n",
    "| 9       | 2373.60      |\n",
    "| 0       | 2060.74      |\n",
    "| 3       | 1828.27      |\n",
    "| 5       | 1200.28      |\n",
    "| 8       | 1077.73      |\n",
    "\n",
    "2. Cluster with a high ratio of balance / credit limit\n",
    "Cluster 8 has the highest balance to credit limit ratio:\n",
    "\n",
    "| Cluster | Balance | Credit Limit | Balance/Credit Limit Ratio |\n",
    "|---------|---------|--------------|----------------------------|\n",
    "| 8       | 1329.86 | 1077.73      | 1.23                       |\n",
    "\n",
    "3. Clusters with more overall purchase transactions than cash advance transactions\n",
    "Clusters with more purchase transactions than cash advance transactions are: [0, 3, 5, 8, 9]\n",
    "\n",
    "This fits the pattern of how people typically use credit cards, as purchases are generally more frequent than cash advances.\n",
    "\n",
    "4. Comparison of prc_full_payment among clusters\n",
    "| Cluster | prc_full_payment |\n",
    "|---------|------------------|\n",
    "| 0       | 0.2085           |\n",
    "| 1       | 0.1581           |\n",
    "| 2       | 0.1724           |\n",
    "| 3       | 0.1954           |\n",
    "| 4       | 0.2107           |\n",
    "| 5       | 0.2041           |\n",
    "| 6       | 0.1629           |\n",
    "| 7       | 0.2498           |\n",
    "| 8       | 0.1767           |\n",
    "| 9       | 0.1716           |\n",
    "\n",
    "Clusters 7 and 4 have a higher prc_full_payment, indicating these customers are more likely to pay their balance in full compared to other clusters.\n",
    "\n",
    "5. Comparison of tenure among clusters\n",
    "| Cluster | Tenure |\n",
    "|---------|--------|\n",
    "| 0       | 11.27  |\n",
    "| 1       | 11.50  |\n",
    "| 2       | 11.65  |\n",
    "| 3       | 11.68  |\n",
    "| 4       | 11.43  |\n",
    "| 5       | 11.57  |\n",
    "| 6       | 11.63  |\n",
    "| 7       | 11.86  |\n",
    "| 8       | 11.73  |\n",
    "| 9       | 11.81  |\n",
    "\n",
    "Most clusters have a tenure around 12 months, which aligns with the original data distribution indicating that many customers have been with the credit card company for a year.\n"
   ]
  },
  {
   "cell_type": "markdown",
   "id": "140c939c",
   "metadata": {},
   "source": [
    "6c. The credit card company CFO wants to increase the credit limit for the customers that most likely will use the credit card more as a result of a higher credit limit.\n",
    "\n",
    "Create a Raw NBConvert cell to show __which cluster of customers would you recommend, and why__?<br>\n",
    "_Your answer should be based on your output and observation above_."
   ]
  },
  {
   "cell_type": "raw",
   "id": "10f42728",
   "metadata": {
    "vscode": {
     "languageId": "raw"
    }
   },
   "source": [
    "Recommendation for Increasing Credit Limit\n",
    "\n",
    "Based on the analysis and observations, I recommend the following cluster of customers for an increase in credit limit:\n",
    "\n",
    "Cluster 7\n",
    "Reasons:\n",
    "1. High Credit Limit Utilization: Cluster 7 already has the highest average credit limit among the clusters ($5787.97). This indicates that these customers are trusted with higher credit limits and are likely to manage their credit responsibly.\n",
    "\n",
    "2. High Purchase Transactions: Cluster 7 has a significantly high number of purchase transactions compared to other clusters. Customers in this cluster are active credit card users, indicating they are likely to increase their spending with a higher credit limit.\n",
    "\n",
    "3. Full Payment Behavior: Cluster 7 also has the highest prc_full_payment (0.2498), suggesting that customers in this cluster are more likely to pay their credit card balances in full. This behavior reduces the risk for the credit card company, as these customers are less likely to default.\n",
    "\n",
    "4. Tenure: Customers in Cluster 7 have a tenure of 11.86 months on average, which is among the highest. This suggests that these customers have a longer relationship with the credit card company and are likely to continue using the credit card actively.\n",
    "\n",
    "Final Conclusion:\n",
    "Given their high credit limit utilization, active credit card usage, responsible payment behavior, and long tenure, customers in Cluster 7 are most likely to benefit from and effectively utilize an increase in their credit limit. My recommendation aligns with the goal of encouraging higher credit card usage while managing risk effectively.\n"
   ]
  },
  {
   "cell_type": "raw",
   "id": "545a8317",
   "metadata": {},
   "source": []
  }
 ],
 "metadata": {
  "kernelspec": {
   "display_name": "Python 3 (ipykernel)",
   "language": "python",
   "name": "python3"
  },
  "language_info": {
   "codemirror_mode": {
    "name": "ipython",
    "version": 3
   },
   "file_extension": ".py",
   "mimetype": "text/x-python",
   "name": "python",
   "nbconvert_exporter": "python",
   "pygments_lexer": "ipython3",
   "version": "3.9.16"
  }
 },
 "nbformat": 4,
 "nbformat_minor": 5
}
