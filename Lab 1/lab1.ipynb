{
 "cells": [
  {
   "cell_type": "markdown",
   "id": "e160d164",
   "metadata": {},
   "source": [
    "#### Lab 1: Data analysis with numpy, review Python"
   ]
  },
  {
   "cell_type": "code",
   "execution_count": null,
   "id": "7e514cfd",
   "metadata": {},
   "outputs": [],
   "source": [
    "# Name: Aryan Singhal"
   ]
  },
  {
   "cell_type": "markdown",
   "id": "cda568d3",
   "metadata": {},
   "source": [
    "In this lab you will investigate the student enrollment numbers for California Community Colleges.\n",
    "<br>\n",
    "<br>Note:\n",
    "<br>- <u>Do not use pandas</u> for this lab\n",
    "<br>- Take advantage of numpy's functions instead of writing loops to access data\n",
    "<br>If your code doesn't contain any loop to access data in the numpy arrays, you earn 1pt EC. Loops just to print data is okay.\n",
    "\n",
    "There are 3 input files for this lab ([source](https://datamart.cccco.edu/Students/Enrollment_Status.aspx)):<br>\n",
    "- `colleges.txt`: contains a list of all CA community college names, one name per line.<br>\n",
    "- `students.csv`: contains a table of student enrollment numbers. Each row is for one community college, and each row contains 13 columns for enrollment numbers from Fall 2019 to Fall of 2023.<br>\n",
    "- `semesters.csv`: contains the semester name and year for the 13 columns of students.csv."
   ]
  },
  {
   "cell_type": "code",
   "execution_count": null,
   "id": "ec2444a6",
   "metadata": {},
   "outputs": [],
   "source": [
    "# import modules\n",
    "import numpy as np"
   ]
  },
  {
   "cell_type": "markdown",
   "id": "75818665",
   "metadata": {},
   "source": [
    "1. Read in data from the input files.\n",
    "\n",
    "From `colleges.txt` file, read and store all the college names.<br> \n",
    "Then __print the number of colleges__, with a text explanation.<br>\n",
    "\n",
    "From `students.csv` file, read and store all the enrollment data _as integers_.<br>\n",
    "Then __print the number of rows and columns of the student table__, with a text explanation.<br>\n",
    "\n",
    "From `semesters.csv` file, read and store all the column headers.<br>\n",
    "Then __print the number of semesters__, with a text explanation.<br>\n",
    "\n",
    "Sample print output:<br>\n",
    "`Number of colleges: 116`<br>\n",
    "`(Rows,columns) of student enrollment data: (116, 13)`<br>\n",
    "`Number of semesters: 13`"
   ]
  },
  {
   "cell_type": "code",
   "execution_count": null,
   "id": "f141b8eb",
   "metadata": {},
   "outputs": [],
   "source": [
    "with open('colleges.txt', 'r') as file:\n",
    "    colleges = file.read().splitlines()\n",
    "\n",
    "print(\"Number of colleges:\", len(colleges))"
   ]
  },
  {
   "cell_type": "code",
   "execution_count": null,
   "id": "3731ec5f",
   "metadata": {},
   "outputs": [],
   "source": [
    "students = np.genfromtxt('students.csv', delimiter=',', skip_header=1, dtype=int)\n",
    "print(\"(Rows, columns) of student enrollment data:\", students.shape)"
   ]
  },
  {
   "cell_type": "code",
   "execution_count": null,
   "id": "8e0cca50",
   "metadata": {},
   "outputs": [],
   "source": [
    "semesters = np.genfromtxt('semesters.csv', delimiter=',', dtype=str)\n",
    "if semesters.ndim == 0:\n",
    "    semesters = np.array([semesters])\n",
    "print(\"Number of semesters:\", semesters.size)"
   ]
  },
  {
   "cell_type": "markdown",
   "id": "e111e5d6",
   "metadata": {},
   "source": [
    "2. __Print all the semesters and years__ in the array of semesters.<br>\n",
    "The print out should be 3 semesters of an academic year per line, with comma in between.\n",
    "\n",
    "Sample first 3 lines of output:<br>\n",
    "`Semesters:`<br>\n",
    "`Fall 2019, Spring 2020, Summer 2020`<br>\n",
    "`Fall 2020, Spring 2021, Summer 2021`"
   ]
  },
  {
   "cell_type": "code",
   "execution_count": null,
   "id": "9910ec58",
   "metadata": {},
   "outputs": [],
   "source": [
    "print(\"Semesters:\")\n",
    "for i in range(0, len(semesters), 3):\n",
    "    semester_group = semesters[i:i+3]\n",
    "    print(\", \".join(semester_group))"
   ]
  },
  {
   "cell_type": "markdown",
   "id": "2014c5c4",
   "metadata": {},
   "source": [
    "3. __Print the total number of students across all colleges for each Fall semester__<br>\n",
    "Sample first 3 lines of output:<br>\n",
    "`Total students for each Fall:`<br>\n",
    "`Fall 2019: 1,638,694`<br>\n",
    "`Fall 2020: 1,454,450`<br>\n",
    "\n",
    "- Use f-string formatting:  `f'{number:,d}'`  to print integers with comma in the thousands place.<br>\n",
    "- The semester name and year should come from the semester array, don't hard code them."
   ]
  },
  {
   "cell_type": "code",
   "execution_count": null,
   "id": "8c003335",
   "metadata": {},
   "outputs": [],
   "source": [
    "print(\"Total students for each Fall:\")\n",
    "fall_indices = [i for i, s in enumerate(semesters) if s.startswith(\"Fall\")]\n",
    "for index in fall_indices:\n",
    "    total_students = students[:, index].sum()\n",
    "    print(f\"{semesters[index]}: {total_students:,d}\")"
   ]
  },
  {
   "cell_type": "markdown",
   "id": "d46c2169",
   "metadata": {},
   "source": [
    "4. __Find the average number of students per semester__ for each college and store in a numpy array.<br>\n",
    "Then __print the college name and average number of students per semester for the smallest college__<br>\n",
    "and __the college name and average number of students per semester for the largest college__.\n",
    "\n",
    "For each output, print a text explanation such as: 'CollegeA is the smallest with 100 students per semester'"
   ]
  },
  {
   "cell_type": "code",
   "execution_count": null,
   "id": "085f5d23",
   "metadata": {},
   "outputs": [],
   "source": [
    "average_students_per_semester = np.mean(students, axis=1)\n",
    "\n",
    "index_smallest = np.argmin(average_students_per_semester)\n",
    "index_largest = np.argmax(average_students_per_semester)\n",
    "\n",
    "smallest_college = colleges[index_smallest]\n",
    "largest_college = colleges[index_largest]\n",
    "\n",
    "average_smallest = average_students_per_semester[index_smallest]\n",
    "average_largest = average_students_per_semester[index_largest]\n",
    "\n",
    "print(f'{smallest_college} is the smallest with {average_smallest:,.0f} students per semester')\n",
    "print(f'{largest_college} is the largest with {average_largest:,.0f} students per semester')\n"
   ]
  },
  {
   "cell_type": "markdown",
   "id": "9983ff9c",
   "metadata": {},
   "source": [
    "5. Using the array of average number of students per semester from step 4, __find the average number of students per semester for De Anza College__.\n",
    "- De Anza is stored as 'Deanza' in the array of college names.\n",
    "- Use numpy to find 'Deanza' in your arrays, don't hard code the index value for De Anza.\n",
    "- Print an explanation along with the college name and average number of students, such as:<br>\n",
    "   'Deanza has 1000 students per semester'"
   ]
  },
  {
   "cell_type": "code",
   "execution_count": null,
   "id": "7bb4c51f",
   "metadata": {},
   "outputs": [],
   "source": []
  },
  {
   "cell_type": "markdown",
   "id": "d38fac27",
   "metadata": {},
   "source": [
    "6. Using the array of average number of students per semester from step 4, and using the fact that each academic year has 3 semesters (Fall, Spring, Summer), __print the average number of students per academic year across all colleges__.<br>\n",
    "- The output should be one number, which is the total number of students per year from all colleges.\n",
    "- Print an explanation along with the number.\n",
    "- Since the number will be large, print comma at the thousands place."
   ]
  },
  {
   "cell_type": "code",
   "execution_count": null,
   "id": "39767ecb",
   "metadata": {},
   "outputs": [],
   "source": [
    "total_students_per_year = np.sum(average_students_per_semester) * 3\n",
    "\n",
    "print(f'The average number of students per academic year across all colleges is {total_students_per_year:,.0f}')\n"
   ]
  },
  {
   "cell_type": "markdown",
   "id": "8057a39b",
   "metadata": {},
   "source": [
    "7a. Using the array of average number of students per semester from step 4,<br>\n",
    "__print the number of colleges that are in the 25th percentile__ of the average number of students,<br>\n",
    "and __print the number of colleges that are in the 75th percentile__ of the average number of students.<br>\n",
    "Print an explanation along with each number.                                                           "
   ]
  },
  {
   "cell_type": "code",
   "execution_count": 15,
   "id": "dcfcda7c",
   "metadata": {},
   "outputs": [
    {
     "name": "stdout",
     "output_type": "stream",
     "text": [
      "Number of colleges in the 25th percentile: 29\n",
      "Number of colleges in the 75th percentile: 86\n"
     ]
    }
   ],
   "source": [
    "percentile_25 = np.percentile(average_students_per_semester, 25)\n",
    "percentile_75 = np.percentile(average_students_per_semester, 75)\n",
    "\n",
    "colleges_at_25th_percentile = np.sum(average_students_per_semester <= percentile_25)\n",
    "\n",
    "colleges_at_75th_percentile = np.sum(average_students_per_semester <= percentile_75)\n",
    "\n",
    "print(f'Number of colleges in the 25th percentile: {colleges_at_25th_percentile}')\n",
    "print(f'Number of colleges in the 75th percentile: {colleges_at_75th_percentile}')"
   ]
  },
  {
   "cell_type": "markdown",
   "id": "7ba0238c",
   "metadata": {},
   "source": [
    "7b. Are the 2 numbers in the output of step 7a the same?<br>\n",
    "__Create a Raw NBConvert cell to explain why or why not__."
   ]
  },
  {
   "cell_type": "markdown",
   "id": "d7ba1df4",
   "metadata": {},
   "source": [
    "__7b. Answer:__\n",
    "No, the two numbers in the output of step 7a are not the same. The number of colleges in the 25th percentile is 29, while the number of colleges in the 75th percentile is 86.\n",
    "\n",
    "The reason for this difference is because of how the percentiles are calculated and what they represent. The 25th percentile means that 25% of the data points fall below that value, while the 75th percentile means that 75% of the data points fall below that value.\n",
    "\n",
    "In this case, it indicates that there are 29 colleges where the average number of students per semester is at or below the 25th percentile of all colleges, and there are 86 colleges where the average number of students per semester is at or below the 75th percentile of all colleges.\n",
    "\n",
    "These numbers can differ significantly because the distribution of average students per semester across colleges is not uniform. There may be a larger concentration of colleges with lower average student numbers, leading to fewer colleges in the higher percentiles."
   ]
  },
  {
   "cell_type": "markdown",
   "id": "c1bb7d47",
   "metadata": {},
   "source": [
    "8. __Find the percent change in enrollment between Fall 2019 and Fall 2023__.<br>\n",
    "The percent change = (Fall 2023 enrollment - Fall 2019 enrollment) / Fall 2019 enrollment<br>\n",
    "then multiply by 100 to convert to percentage.<br>\n",
    "Then __print the college and percent change for the college with the largest change__,<br>\n",
    "and __print the college and percent change for the college with the smallest change__.<br>\n",
    "- The percentage should be rounded to an integer\n",
    "- Print an explanation along with the number"
   ]
  },
  {
   "cell_type": "code",
   "execution_count": null,
   "id": "39818583",
   "metadata": {},
   "outputs": [],
   "source": []
  },
  {
   "cell_type": "markdown",
   "id": "8b0b3430",
   "metadata": {},
   "source": [
    "9. Using the percent change in enrollment between Fall 2019 and Fall 2023 from step 8,<br>\n",
    "__print the number of colleges where the percent change is less than +/-2%__."
   ]
  },
  {
   "cell_type": "code",
   "execution_count": null,
   "id": "b358055a",
   "metadata": {},
   "outputs": [],
   "source": []
  }
 ],
 "metadata": {
  "kernelspec": {
   "display_name": "Python 3 (ipykernel)",
   "language": "python",
   "name": "python3"
  },
  "language_info": {
   "codemirror_mode": {
    "name": "ipython",
    "version": 3
   },
   "file_extension": ".py",
   "mimetype": "text/x-python",
   "name": "python",
   "nbconvert_exporter": "python",
   "pygments_lexer": "ipython3",
   "version": "3.9.16"
  }
 },
 "nbformat": 4,
 "nbformat_minor": 5
}
