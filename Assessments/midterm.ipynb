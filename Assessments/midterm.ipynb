{
 "cells": [
  {
   "cell_type": "code",
   "execution_count": 1,
   "metadata": {},
   "outputs": [
    {
     "name": "stdout",
     "output_type": "stream",
     "text": [
      "Number of NaNs in df: 0\n",
      "Column to drop: ID, Reason: 'ID' is a unique identifier for each row and does not provide useful information for analysis.\n",
      "Column to drop: job_num, Reason: 'job_num' is redundant since we already have 'job_description'.\n",
      "\n",
      "Cleaned DataFrame:\n",
      "   job_description  pay  education  experience  problem_solving  supervision\n",
      "0     Accountant I    5          3           1                3            4\n",
      "1    Accountant II    6          4           4                4            5\n",
      "2   Accountant III    8          4           2                5            6\n",
      "3    Accountant IV   10          5           5                6            7\n",
      "4  Admin Support I    1          1           0                1            1\n"
     ]
    }
   ],
   "source": [
    "import pandas as pd\n",
    "\n",
    "# Creating the DataFrame from the given data\n",
    "data = {\n",
    "    'ID': [1, 2, 3, 4, 5],\n",
    "    'job_num': [1, 2, 3, 4, 5],\n",
    "    'job_description': ['Accountant I', 'Accountant II', 'Accountant III', 'Accountant IV', 'Admin Support I'],\n",
    "    'pay': [5, 6, 8, 10, 1],\n",
    "    'education': [3, 4, 4, 5, 1],\n",
    "    'experience': [1, 4, 2, 5, 0],\n",
    "    'problem_solving': [3, 4, 5, 6, 1],\n",
    "    'supervision': [4, 5, 6, 7, 1]\n",
    "}\n",
    "\n",
    "df = pd.DataFrame(data)\n",
    "\n",
    "# a. Find the number of NaNs in df\n",
    "num_nans = df.isna().sum().sum()\n",
    "print(f\"Number of NaNs in df: {num_nans}\")\n",
    "\n",
    "# b. Identify columns that should be dropped\n",
    "columns_to_drop = []\n",
    "\n",
    "# The 'ID' column is a unique identifier for each row and doesn't provide useful information for analysis\n",
    "columns_to_drop.append('ID')\n",
    "\n",
    "# The 'job_num' column is redundant since we already have 'job_description'\n",
    "columns_to_drop.append('job_num')\n",
    "\n",
    "# Printing columns to be dropped and the reasons\n",
    "for column in columns_to_drop:\n",
    "    if column == 'ID':\n",
    "        reason = \"'ID' is a unique identifier for each row and does not provide useful information for analysis.\"\n",
    "    elif column == 'job_num':\n",
    "        reason = \"'job_num' is redundant since we already have 'job_description'.\"\n",
    "    print(f\"Column to drop: {column}, Reason: {reason}\")\n",
    "\n",
    "# Dropping the identified columns from the DataFrame\n",
    "df_cleaned = df.drop(columns=columns_to_drop)\n",
    "print(\"\\nCleaned DataFrame:\")\n",
    "print(df_cleaned)\n"
   ]
  },
  {
   "cell_type": "code",
   "execution_count": 10,
   "metadata": {},
   "outputs": [
    {
     "name": "stdout",
     "output_type": "stream",
     "text": [
      "Basic statistics for all relevant columns:\n",
      "             ID   job_num        pay  education  experience  problem_solving  \\\n",
      "count  5.000000  5.000000   5.000000   5.000000    5.000000         5.000000   \n",
      "mean   3.000000  3.000000   6.000000   3.400000    2.400000         3.800000   \n",
      "std    1.581139  1.581139   3.391165   1.516575    2.073644         1.923538   \n",
      "min    1.000000  1.000000   1.000000   1.000000    0.000000         1.000000   \n",
      "25%    2.000000  2.000000   5.000000   3.000000    1.000000         3.000000   \n",
      "50%    3.000000  3.000000   6.000000   4.000000    2.000000         4.000000   \n",
      "75%    4.000000  4.000000   8.000000   4.000000    4.000000         5.000000   \n",
      "max    5.000000  5.000000  10.000000   5.000000    5.000000         6.000000   \n",
      "\n",
      "       supervision  \n",
      "count     5.000000  \n",
      "mean      4.600000  \n",
      "std       2.302173  \n",
      "min       1.000000  \n",
      "25%       4.000000  \n",
      "50%       5.000000  \n",
      "75%       6.000000  \n",
      "max       7.000000  \n"
     ]
    },
    {
     "data": {
      "image/png": "[encoded data removed]",
      "text/plain": [
       "<Figure size 800x600 with 1 Axes>"
      ]
     },
     "metadata": {},
     "output_type": "display_data"
    }
   ],
   "source": [
    "import pandas as pd\n",
    "import matplotlib.pyplot as plt\n",
    "\n",
    "# Creating the DataFrame from the given data\n",
    "data = {\n",
    "    'ID': [1, 2, 3, 4, 5],\n",
    "    'job_num': [1, 2, 3, 4, 5],\n",
    "    'job_description': ['Accountant I', 'Accountant II', 'Accountant III', 'Accountant IV', 'Admin Support I'],\n",
    "    'pay': [5, 6, 8, 10, 1],\n",
    "    'education': [3, 4, 4, 5, 1],\n",
    "    'experience': [1, 4, 2, 5, 0],\n",
    "    'problem_solving': [3, 4, 5, 6, 1],\n",
    "    'supervision': [4, 5, 6, 7, 1]\n",
    "}\n",
    "\n",
    "df = pd.DataFrame(data)\n",
    "\n",
    "# a. Show the basic statistics for all the columns where it would make sense\n",
    "stats = df.describe()\n",
    "print(\"Basic statistics for all relevant columns:\")\n",
    "print(stats)\n",
    "\n",
    "# b. Plot the distribution of the 'education' column\n",
    "plt.figure(figsize=(8, 6))\n",
    "plt.hist(df['education'], bins=range(df['education'].min(), df['education'].max() + 2), edgecolor='orange')\n",
    "plt.title('Distribution of Education Levels')\n",
    "plt.xlabel('Education Level')\n",
    "plt.ylabel('Frequency')\n",
    "plt.show()\n"
   ]
  },
  {
   "cell_type": "code",
   "execution_count": 11,
   "metadata": {},
   "outputs": [
    {
     "name": "stdout",
     "output_type": "stream",
     "text": [
      "Model coefficients: [0.33333333 0.13333333 0.6        0.66666667]\n",
      "Model intercept: -0.5999999999999996\n"
     ]
    }
   ],
   "source": [
    "import pandas as pd\n",
    "from sklearn.model_selection import train_test_split\n",
    "from sklearn.linear_model import LinearRegression\n",
    "\n",
    "# Creating the DataFrame from the given data\n",
    "data = {\n",
    "    'ID': [1, 2, 3, 4, 5],\n",
    "    'job_num': [1, 2, 3, 4, 5],\n",
    "    'job_description': ['Accountant I', 'Accountant II', 'Accountant III', 'Accountant IV', 'Admin Support I'],\n",
    "    'pay': [5, 6, 8, 10, 1],\n",
    "    'education': [3, 4, 4, 5, 1],\n",
    "    'experience': [1, 4, 2, 5, 0],\n",
    "    'problem_solving': [3, 4, 5, 6, 1],\n",
    "    'supervision': [4, 5, 6, 7, 1]\n",
    "}\n",
    "\n",
    "df = pd.DataFrame(data)\n",
    "\n",
    "# a. Create the X and y datasets\n",
    "X = df[['education', 'experience', 'problem_solving', 'supervision']]\n",
    "y = df['pay']\n",
    "\n",
    "# Splitting the data into training and testing sets for the purpose of demonstration\n",
    "X_train, X_test, y_train, y_test = train_test_split(X, y, test_size=0.2, random_state=42)\n",
    "\n",
    "# b. Choose an appropriate model and train it\n",
    "model = LinearRegression()\n",
    "model.fit(X_train, y_train)\n",
    "\n",
    "# Print the model coefficients and intercept for inspection\n",
    "print(f\"Model coefficients: {model.coef_}\")\n",
    "print(f\"Model intercept: {model.intercept_}\")\n"
   ]
  },
  {
   "cell_type": "code",
   "execution_count": null,
   "metadata": {},
   "outputs": [],
   "source": []
  }
 ],
 "metadata": {
  "kernelspec": {
   "display_name": "asdrp",
   "language": "python",
   "name": "python3"
  },
  "language_info": {
   "codemirror_mode": {
    "name": "ipython",
    "version": 3
   },
   "file_extension": ".py",
   "mimetype": "text/x-python",
   "name": "python",
   "nbconvert_exporter": "python",
   "pygments_lexer": "ipython3",
   "version": "3.9.16"
  }
 },
 "nbformat": 4,
 "nbformat_minor": 2
}
