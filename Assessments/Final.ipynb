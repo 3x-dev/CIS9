{
 "cells": [
  {
   "cell_type": "code",
   "execution_count": 1,
   "metadata": {},
   "outputs": [
    {
     "name": "stdout",
     "output_type": "stream",
     "text": [
      "Total number of students for each semester: [0.10169 0.17907 0.15495 0.16052 0.11575 0.13315 0.17902 0.10957 0.18521\n",
      " 0.20046 0.14668 0.15292 0.1589 ]\n",
      "Semester with the smallest enrollment: Semester 1\n"
     ]
    }
   ],
   "source": [
    "import numpy as np\n",
    "\n",
    "# Assume the shape of students array is (number_of_semesters, number_of_colleges)\n",
    "# For the sake of example, let's assume we have 13 semesters and each semester has data for 5 colleges\n",
    "number_of_semesters = 13\n",
    "number_of_colleges = 5\n",
    "\n",
    "# Sample data for students array\n",
    "students = np.random.randint(1000, 5000, size=(number_of_semesters, number_of_colleges))\n",
    "semesters = np.array([f\"Semester {i+1}\" for i in range(number_of_semesters)])\n",
    "\n",
    "# a. Find the total number of students for each semester and store in an array named total\n",
    "total = np.sum(students, axis=1)\n",
    "\n",
    "# b. Using total, find the name of the semester that has the smallest enrollment\n",
    "smallest_enrollment_index = np.argmin(total)\n",
    "semester_with_smallest_enrollment = semesters[smallest_enrollment_index]\n",
    "\n",
    "# c. Change the total array so the data in total become the float data type.\n",
    "# Then change the total array so that all the numbers in the array are in units of 100,000 students.\n",
    "total = total.astype(float)\n",
    "total = total / 100000\n",
    "\n",
    "# Display results\n",
    "print(\"Total number of students for each semester:\", total)\n",
    "print(\"Semester with the smallest enrollment:\", semester_with_smallest_enrollment)\n"
   ]
  },
  {
   "cell_type": "code",
   "execution_count": null,
   "metadata": {},
   "outputs": [],
   "source": []
  }
 ],
 "metadata": {
  "kernelspec": {
   "display_name": "asdrp",
   "language": "python",
   "name": "python3"
  },
  "language_info": {
   "codemirror_mode": {
    "name": "ipython",
    "version": 3
   },
   "file_extension": ".py",
   "mimetype": "text/x-python",
   "name": "python",
   "nbconvert_exporter": "python",
   "pygments_lexer": "ipython3",
   "version": "3.9.16"
  }
 },
 "nbformat": 4,
 "nbformat_minor": 2
}
